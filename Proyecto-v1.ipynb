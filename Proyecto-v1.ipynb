{
 "cells": [
  {
   "cell_type": "markdown",
   "metadata": {},
   "source": [
    "# Curso: Aprendizaje Automático - Proyecto final (preliminar al 15 agosto)\n",
    "## Alonso Nuñez / Sergio Castillo\n",
    "## Fecha de entrega: 9 setiembre 2019"
   ]
  },
  {
   "cell_type": "markdown",
   "metadata": {},
   "source": [
    "### Importar dependencias, y cargar el dataset"
   ]
  },
  {
   "cell_type": "code",
   "execution_count": 1,
   "metadata": {},
   "outputs": [
    {
     "name": "stderr",
     "output_type": "stream",
     "text": [
      "Using TensorFlow backend.\n"
     ]
    }
   ],
   "source": [
    "import numpy as np\n",
    "import pandas as pd\n",
    "import matplotlib.pyplot as plt\n",
    "\n",
    "from sklearn.model_selection import train_test_split\n",
    "from sklearn.tree import DecisionTreeClassifier\n",
    "from sklearn.ensemble import RandomForestClassifier\n",
    "from sklearn.svm import SVC\n",
    "from sklearn.ensemble import GradientBoostingClassifier\n",
    "from sklearn.ensemble import VotingClassifier\n",
    "from sklearn.metrics import accuracy_score\n",
    "\n",
    "import keras\n",
    "from keras.utils import np_utils\n",
    "\n",
    "data =  pd.read_csv('https://raw.githubusercontent.com/anunezcr/datasets/master/clientes_diarios_clasif.csv')"
   ]
  },
  {
   "cell_type": "markdown",
   "metadata": {},
   "source": [
    "### Revisar el tamaño del data set y ver algunas instancias:"
   ]
  },
  {
   "cell_type": "code",
   "execution_count": 2,
   "metadata": {},
   "outputs": [
    {
     "name": "stdout",
     "output_type": "stream",
     "text": [
      "tamaño: (22633, 14)\n"
     ]
    },
    {
     "data": {
      "text/html": [
       "<div>\n",
       "<style scoped>\n",
       "    .dataframe tbody tr th:only-of-type {\n",
       "        vertical-align: middle;\n",
       "    }\n",
       "\n",
       "    .dataframe tbody tr th {\n",
       "        vertical-align: top;\n",
       "    }\n",
       "\n",
       "    .dataframe thead th {\n",
       "        text-align: right;\n",
       "    }\n",
       "</style>\n",
       "<table border=\"1\" class=\"dataframe\">\n",
       "  <thead>\n",
       "    <tr style=\"text-align: right;\">\n",
       "      <th></th>\n",
       "      <th>id_tienda</th>\n",
       "      <th>tipo_tienda</th>\n",
       "      <th>provincia</th>\n",
       "      <th>supervisor</th>\n",
       "      <th>mes_del_anio</th>\n",
       "      <th>semana_del_anio</th>\n",
       "      <th>es_quincena</th>\n",
       "      <th>es_feriado</th>\n",
       "      <th>dia_de_la_semana</th>\n",
       "      <th>horas_operacion</th>\n",
       "      <th>pos_en_uso</th>\n",
       "      <th>clientes_totales</th>\n",
       "      <th>clientes_vip</th>\n",
       "      <th>volumen</th>\n",
       "    </tr>\n",
       "  </thead>\n",
       "  <tbody>\n",
       "    <tr>\n",
       "      <th>0</th>\n",
       "      <td>12</td>\n",
       "      <td>FS</td>\n",
       "      <td>SAN JOSE</td>\n",
       "      <td>2015622_080</td>\n",
       "      <td>1</td>\n",
       "      <td>1</td>\n",
       "      <td>VERDADERO</td>\n",
       "      <td>Anio Nuevo</td>\n",
       "      <td>Lunes</td>\n",
       "      <td>11</td>\n",
       "      <td>4</td>\n",
       "      <td>210</td>\n",
       "      <td>23.0</td>\n",
       "      <td>medio</td>\n",
       "    </tr>\n",
       "    <tr>\n",
       "      <th>1</th>\n",
       "      <td>12</td>\n",
       "      <td>FS</td>\n",
       "      <td>SAN JOSE</td>\n",
       "      <td>2015622_080</td>\n",
       "      <td>1</td>\n",
       "      <td>1</td>\n",
       "      <td>VERDADERO</td>\n",
       "      <td>NO</td>\n",
       "      <td>Martes</td>\n",
       "      <td>11</td>\n",
       "      <td>4</td>\n",
       "      <td>306</td>\n",
       "      <td>17.0</td>\n",
       "      <td>alto</td>\n",
       "    </tr>\n",
       "    <tr>\n",
       "      <th>2</th>\n",
       "      <td>12</td>\n",
       "      <td>FS</td>\n",
       "      <td>SAN JOSE</td>\n",
       "      <td>2015622_080</td>\n",
       "      <td>1</td>\n",
       "      <td>1</td>\n",
       "      <td>VERDADERO</td>\n",
       "      <td>NO</td>\n",
       "      <td>Miercoles</td>\n",
       "      <td>11</td>\n",
       "      <td>4</td>\n",
       "      <td>203</td>\n",
       "      <td>12.0</td>\n",
       "      <td>medio</td>\n",
       "    </tr>\n",
       "    <tr>\n",
       "      <th>3</th>\n",
       "      <td>12</td>\n",
       "      <td>FS</td>\n",
       "      <td>SAN JOSE</td>\n",
       "      <td>2015622_080</td>\n",
       "      <td>1</td>\n",
       "      <td>1</td>\n",
       "      <td>FALSO</td>\n",
       "      <td>NO</td>\n",
       "      <td>Jueves</td>\n",
       "      <td>11</td>\n",
       "      <td>4</td>\n",
       "      <td>192</td>\n",
       "      <td>13.0</td>\n",
       "      <td>medio</td>\n",
       "    </tr>\n",
       "    <tr>\n",
       "      <th>4</th>\n",
       "      <td>12</td>\n",
       "      <td>FS</td>\n",
       "      <td>SAN JOSE</td>\n",
       "      <td>2015622_080</td>\n",
       "      <td>1</td>\n",
       "      <td>1</td>\n",
       "      <td>FALSO</td>\n",
       "      <td>NO</td>\n",
       "      <td>Viernes</td>\n",
       "      <td>12</td>\n",
       "      <td>4</td>\n",
       "      <td>229</td>\n",
       "      <td>16.0</td>\n",
       "      <td>medio</td>\n",
       "    </tr>\n",
       "  </tbody>\n",
       "</table>\n",
       "</div>"
      ],
      "text/plain": [
       "   id_tienda tipo_tienda provincia   supervisor  mes_del_anio  \\\n",
       "0         12          FS  SAN JOSE  2015622_080             1   \n",
       "1         12          FS  SAN JOSE  2015622_080             1   \n",
       "2         12          FS  SAN JOSE  2015622_080             1   \n",
       "3         12          FS  SAN JOSE  2015622_080             1   \n",
       "4         12          FS  SAN JOSE  2015622_080             1   \n",
       "\n",
       "   semana_del_anio  es_quincena  es_feriado dia_de_la_semana  horas_operacion  \\\n",
       "0                1   VERDADERO   Anio Nuevo            Lunes               11   \n",
       "1                1   VERDADERO          NO            Martes               11   \n",
       "2                1   VERDADERO          NO         Miercoles               11   \n",
       "3                1       FALSO          NO            Jueves               11   \n",
       "4                1       FALSO          NO           Viernes               12   \n",
       "\n",
       "   pos_en_uso  clientes_totales  clientes_vip volumen  \n",
       "0           4               210          23.0   medio  \n",
       "1           4               306          17.0    alto  \n",
       "2           4               203          12.0   medio  \n",
       "3           4               192          13.0   medio  \n",
       "4           4               229          16.0   medio  "
      ]
     },
     "execution_count": 2,
     "metadata": {},
     "output_type": "execute_result"
    }
   ],
   "source": [
    "print(\"tamaño:\",data.shape)\n",
    "data.head(5)"
   ]
  },
  {
   "cell_type": "markdown",
   "metadata": {},
   "source": [
    "## Visualización de datos"
   ]
  },
  {
   "cell_type": "code",
   "execution_count": 3,
   "metadata": {},
   "outputs": [
    {
     "data": {
      "image/png": "[encoded data removed]",
      "text/plain": [
       "<Figure size 432x288 with 1 Axes>"
      ]
     },
     "metadata": {},
     "output_type": "display_data"
    }
   ],
   "source": [
    "import matplotlib.pyplot as plt\n",
    "%matplotlib inline\n",
    "plt.style.use('ggplot')\n",
    "\n",
    "import numpy as np\n",
    "def plot_points(data):\n",
    "    X = np.array(data[[\"horas_operacion\",\"pos_en_uso\"]])\n",
    "    y = np.array(data[\"volumen\"])\n",
    "    alto = X[np.argwhere(y==\"alto\")]\n",
    "    bajo = X[np.argwhere(y==\"medio\")]\n",
    "    plt.scatter([s[0][0] for s in bajo], [s[0][1] for s in bajo], s = 25, color = 'red', edgecolor = 'k')\n",
    "    plt.scatter([s[0][0] for s in alto], [s[0][1] for s in alto], s = 25, color = 'cyan', edgecolor = 'k')\n",
    "    plt.xlabel('horas')\n",
    "    plt.ylabel('POS')\n",
    "plot_points(data)\n",
    "plt.show()"
   ]
  },
  {
   "cell_type": "markdown",
   "metadata": {},
   "source": [
    "### Elegir qué columnas usar:"
   ]
  },
  {
   "cell_type": "code",
   "execution_count": 4,
   "metadata": {},
   "outputs": [
    {
     "name": "stdout",
     "output_type": "stream",
     "text": [
      "tamaño: (22633, 6)\n"
     ]
    },
    {
     "data": {
      "text/html": [
       "<div>\n",
       "<style scoped>\n",
       "    .dataframe tbody tr th:only-of-type {\n",
       "        vertical-align: middle;\n",
       "    }\n",
       "\n",
       "    .dataframe tbody tr th {\n",
       "        vertical-align: top;\n",
       "    }\n",
       "\n",
       "    .dataframe thead th {\n",
       "        text-align: right;\n",
       "    }\n",
       "</style>\n",
       "<table border=\"1\" class=\"dataframe\">\n",
       "  <thead>\n",
       "    <tr style=\"text-align: right;\">\n",
       "      <th></th>\n",
       "      <th>tipo_tienda</th>\n",
       "      <th>provincia</th>\n",
       "      <th>dia_de_la_semana</th>\n",
       "      <th>horas_operacion</th>\n",
       "      <th>pos_en_uso</th>\n",
       "      <th>volumen</th>\n",
       "    </tr>\n",
       "  </thead>\n",
       "  <tbody>\n",
       "    <tr>\n",
       "      <th>0</th>\n",
       "      <td>FS</td>\n",
       "      <td>SAN JOSE</td>\n",
       "      <td>Lunes</td>\n",
       "      <td>11</td>\n",
       "      <td>4</td>\n",
       "      <td>medio</td>\n",
       "    </tr>\n",
       "    <tr>\n",
       "      <th>1</th>\n",
       "      <td>FS</td>\n",
       "      <td>SAN JOSE</td>\n",
       "      <td>Martes</td>\n",
       "      <td>11</td>\n",
       "      <td>4</td>\n",
       "      <td>alto</td>\n",
       "    </tr>\n",
       "    <tr>\n",
       "      <th>2</th>\n",
       "      <td>FS</td>\n",
       "      <td>SAN JOSE</td>\n",
       "      <td>Miercoles</td>\n",
       "      <td>11</td>\n",
       "      <td>4</td>\n",
       "      <td>medio</td>\n",
       "    </tr>\n",
       "    <tr>\n",
       "      <th>3</th>\n",
       "      <td>FS</td>\n",
       "      <td>SAN JOSE</td>\n",
       "      <td>Jueves</td>\n",
       "      <td>11</td>\n",
       "      <td>4</td>\n",
       "      <td>medio</td>\n",
       "    </tr>\n",
       "    <tr>\n",
       "      <th>4</th>\n",
       "      <td>FS</td>\n",
       "      <td>SAN JOSE</td>\n",
       "      <td>Viernes</td>\n",
       "      <td>12</td>\n",
       "      <td>4</td>\n",
       "      <td>medio</td>\n",
       "    </tr>\n",
       "    <tr>\n",
       "      <th>5</th>\n",
       "      <td>FS</td>\n",
       "      <td>SAN JOSE</td>\n",
       "      <td>Sabado</td>\n",
       "      <td>15</td>\n",
       "      <td>4</td>\n",
       "      <td>medio</td>\n",
       "    </tr>\n",
       "    <tr>\n",
       "      <th>6</th>\n",
       "      <td>FS</td>\n",
       "      <td>SAN JOSE</td>\n",
       "      <td>Domingo</td>\n",
       "      <td>16</td>\n",
       "      <td>4</td>\n",
       "      <td>medio</td>\n",
       "    </tr>\n",
       "    <tr>\n",
       "      <th>7</th>\n",
       "      <td>FS</td>\n",
       "      <td>SAN JOSE</td>\n",
       "      <td>Lunes</td>\n",
       "      <td>12</td>\n",
       "      <td>4</td>\n",
       "      <td>medio</td>\n",
       "    </tr>\n",
       "    <tr>\n",
       "      <th>8</th>\n",
       "      <td>FS</td>\n",
       "      <td>SAN JOSE</td>\n",
       "      <td>Martes</td>\n",
       "      <td>11</td>\n",
       "      <td>4</td>\n",
       "      <td>medio</td>\n",
       "    </tr>\n",
       "    <tr>\n",
       "      <th>9</th>\n",
       "      <td>FS</td>\n",
       "      <td>SAN JOSE</td>\n",
       "      <td>Miercoles</td>\n",
       "      <td>10</td>\n",
       "      <td>4</td>\n",
       "      <td>medio</td>\n",
       "    </tr>\n",
       "  </tbody>\n",
       "</table>\n",
       "</div>"
      ],
      "text/plain": [
       "  tipo_tienda provincia dia_de_la_semana  horas_operacion  pos_en_uso volumen\n",
       "0          FS  SAN JOSE            Lunes               11           4   medio\n",
       "1          FS  SAN JOSE           Martes               11           4    alto\n",
       "2          FS  SAN JOSE        Miercoles               11           4   medio\n",
       "3          FS  SAN JOSE           Jueves               11           4   medio\n",
       "4          FS  SAN JOSE          Viernes               12           4   medio\n",
       "5          FS  SAN JOSE           Sabado               15           4   medio\n",
       "6          FS  SAN JOSE          Domingo               16           4   medio\n",
       "7          FS  SAN JOSE            Lunes               12           4   medio\n",
       "8          FS  SAN JOSE           Martes               11           4   medio\n",
       "9          FS  SAN JOSE        Miercoles               10           4   medio"
      ]
     },
     "execution_count": 4,
     "metadata": {},
     "output_type": "execute_result"
    }
   ],
   "source": [
    "#Versión1, usar 7 features\n",
    "#cols_to_use = ['tipo_tienda', 'provincia', 'dia_de_la_semana','horas_operacion','pos_en_uso','es_quincena', 'mes_del_anio','volumen']\n",
    "\n",
    "#Versión2, usar 5 features\n",
    "cols_to_use = ['tipo_tienda', 'provincia', 'dia_de_la_semana','horas_operacion','pos_en_uso','volumen']\n",
    "\n",
    "data = data[cols_to_use]\n",
    "print(\"tamaño:\",data.shape)\n",
    "data.head(10)"
   ]
  },
  {
   "cell_type": "markdown",
   "metadata": {},
   "source": [
    "# Inicia Pre-Procesado"
   ]
  },
  {
   "cell_type": "markdown",
   "metadata": {},
   "source": [
    "### Convertir features de texto en numéricos (pero aún categóricos)"
   ]
  },
  {
   "cell_type": "code",
   "execution_count": 5,
   "metadata": {},
   "outputs": [],
   "source": [
    "data['provincia'] = data['provincia'].replace({'SAN JOSE' : 0,'ALAJUELA' : 1,'CARTAGO' : 2,'HEREDIA' : 3,'LIMON' : 4,'GUANACASTE' : 5,'PUNTARENAS' : 6})\n",
    "data['dia_de_la_semana'] = data['dia_de_la_semana'].replace({'Lunes' : 0,'Martes' : 1,'Miercoles' : 2,'Jueves' : 3,'Viernes' : 4,'Sabado' : 5,'Domingo' : 6})\n",
    "data['volumen'] = data['volumen'].replace({'alto' : 0,'medio' : 1,'bajo' : 2})\n",
    "data['tipo_tienda'] = data['tipo_tienda'].replace({'FS' : 0,'IS' : 1,'Mall' : 2})\n",
    "\n",
    "#comentar la siguiente linea si se usa version2 (5 features)\n",
    "#data['es_quincena'] = data['es_quincena'].replace({' VERDADERO ' : 1,' FALSO ' : 0})"
   ]
  },
  {
   "cell_type": "markdown",
   "metadata": {},
   "source": [
    "### Eliminar outliers"
   ]
  },
  {
   "cell_type": "code",
   "execution_count": 6,
   "metadata": {},
   "outputs": [],
   "source": [
    "#FALTA..."
   ]
  },
  {
   "cell_type": "markdown",
   "metadata": {},
   "source": [
    "### Convertir datos categóricos - One-hot encoding"
   ]
  },
  {
   "cell_type": "code",
   "execution_count": 7,
   "metadata": {},
   "outputs": [],
   "source": [
    "# One-hot encoding\n",
    "\n",
    "# para usar 7 features:\n",
    "#processed_data = pd.get_dummies(data, columns=['tipo_tienda', 'provincia','dia_de_la_semana','mes_del_anio','volumen'])\n",
    "\n",
    "# para usar 5 features:\n",
    "processed_data = pd.get_dummies(data, columns=['tipo_tienda', 'provincia','dia_de_la_semana','volumen'])\n",
    "\n",
    "\n",
    "# Splitting the data input into X, and the labels y \n",
    "X = np.array(processed_data)[:,0:18]\n",
    "X = X.astype('float32')\n",
    "y = keras.utils.to_categorical(data[\"volumen\"],3)\n"
   ]
  },
  {
   "cell_type": "markdown",
   "metadata": {},
   "source": [
    "### Normalizar features horas_operacion y pos_en_uso"
   ]
  },
  {
   "cell_type": "code",
   "execution_count": 8,
   "metadata": {},
   "outputs": [],
   "source": [
    "# Normalizing horas_operacion and the pos_en_uso to be in the interval (0,1)\n",
    "processed_data[\"horas_operacion\"] = processed_data[\"horas_operacion\"]/24\n",
    "processed_data[\"pos_en_uso\"] = processed_data[\"pos_en_uso\"]/10"
   ]
  },
  {
   "cell_type": "markdown",
   "metadata": {},
   "source": [
    "### Borrar NaNs"
   ]
  },
  {
   "cell_type": "code",
   "execution_count": 9,
   "metadata": {},
   "outputs": [
    {
     "name": "stdout",
     "output_type": "stream",
     "text": [
      "shape antes:  (22633, 21)\n",
      "\n",
      "¿hay Nans?  False\n",
      "\n",
      "shape después:  (22633, 21)\n"
     ]
    }
   ],
   "source": [
    "print (\"shape antes: \", processed_data.shape)\n",
    "print (\"\\n¿hay Nans? \",processed_data.isnull().values.any())   #preguntar si hay NaN\n",
    "# remove NaNs\n",
    "processed_data = processed_data.dropna()\n",
    "print (\"\\nshape después: \", processed_data.shape)"
   ]
  },
  {
   "cell_type": "markdown",
   "metadata": {},
   "source": [
    "### Revisar cómo quedó después de preocesado"
   ]
  },
  {
   "cell_type": "code",
   "execution_count": 10,
   "metadata": {},
   "outputs": [
    {
     "name": "stdout",
     "output_type": "stream",
     "text": [
      "tamaño: (22633, 21)\n",
      "   horas_operacion  pos_en_uso  tipo_tienda_0  tipo_tienda_1  tipo_tienda_2  \\\n",
      "0         0.458333         0.4              1              0              0   \n",
      "1         0.458333         0.4              1              0              0   \n",
      "2         0.458333         0.4              1              0              0   \n",
      "3         0.458333         0.4              1              0              0   \n",
      "4         0.500000         0.4              1              0              0   \n",
      "\n",
      "   provincia_0  provincia_1  provincia_2  provincia_3  provincia_4  ...  \\\n",
      "0            1            0            0            0            0  ...   \n",
      "1            1            0            0            0            0  ...   \n",
      "2            1            0            0            0            0  ...   \n",
      "3            1            0            0            0            0  ...   \n",
      "4            1            0            0            0            0  ...   \n",
      "\n",
      "   dia_de_la_semana_0  dia_de_la_semana_1  dia_de_la_semana_2  \\\n",
      "0                   1                   0                   0   \n",
      "1                   0                   1                   0   \n",
      "2                   0                   0                   1   \n",
      "3                   0                   0                   0   \n",
      "4                   0                   0                   0   \n",
      "\n",
      "   dia_de_la_semana_3  dia_de_la_semana_4  dia_de_la_semana_5  \\\n",
      "0                   0                   0                   0   \n",
      "1                   0                   0                   0   \n",
      "2                   0                   0                   0   \n",
      "3                   1                   0                   0   \n",
      "4                   0                   1                   0   \n",
      "\n",
      "   dia_de_la_semana_6  volumen_0  volumen_1  volumen_2  \n",
      "0                   0          0          1          0  \n",
      "1                   0          1          0          0  \n",
      "2                   0          0          1          0  \n",
      "3                   0          0          1          0  \n",
      "4                   0          0          1          0  \n",
      "\n",
      "[5 rows x 21 columns]\n"
     ]
    }
   ],
   "source": [
    "#data = processed_data\n",
    "print(\"tamaño:\",processed_data.shape)\n",
    "print (processed_data.head(5))"
   ]
  },
  {
   "cell_type": "markdown",
   "metadata": {},
   "source": [
    "# Inicia el trabajo con los modelos elegidos, que serán:\n",
    "   **DecisionTree**\n",
    "\n",
    "   **RandomForest**\n",
    "   \n",
    "   **Redes Neuronales ANN**"
   ]
  },
  {
   "cell_type": "markdown",
   "metadata": {},
   "source": [
    "Determinar cuáles columnas son features y cuáles labels.\n",
    "\n",
    "En este caso las clases están dadas por \"volumen\" que indica si es un día alto volumen (cantidad de clientes), medio o bajo"
   ]
  },
  {
   "cell_type": "code",
   "execution_count": 11,
   "metadata": {},
   "outputs": [
    {
     "name": "stdout",
     "output_type": "stream",
     "text": [
      "Shape of features: (22633, 18)\n",
      "\n",
      "Shape of labels: (22633, 3)\n",
      "\n",
      "First 5 rows of features\n",
      "[[0.45833334 0.4        1.         0.         0.         1.\n",
      "  0.         0.         0.         0.         0.         1.\n",
      "  0.         0.         0.         0.         0.         0.        ]\n",
      " [0.45833334 0.4        1.         0.         0.         1.\n",
      "  0.         0.         0.         0.         0.         0.\n",
      "  1.         0.         0.         0.         0.         0.        ]\n",
      " [0.45833334 0.4        1.         0.         0.         1.\n",
      "  0.         0.         0.         0.         0.         0.\n",
      "  0.         1.         0.         0.         0.         0.        ]\n",
      " [0.45833334 0.4        1.         0.         0.         1.\n",
      "  0.         0.         0.         0.         0.         0.\n",
      "  0.         0.         1.         0.         0.         0.        ]\n",
      " [0.5        0.4        1.         0.         0.         1.\n",
      "  0.         0.         0.         0.         0.         0.\n",
      "  0.         0.         0.         1.         0.         0.        ]]\n",
      "\n",
      "First 5 rows of labels\n",
      "[[0. 1. 0.]\n",
      " [1. 0. 0.]\n",
      " [0. 1. 0.]\n",
      " [0. 1. 0.]\n",
      " [0. 1. 0.]]\n"
     ]
    }
   ],
   "source": [
    "\n",
    "# Splitting the data input into X, and the labels y \n",
    "features = np.array(processed_data)[:,0:18]\n",
    "features = features.astype('float32')\n",
    "labels = keras.utils.to_categorical(data[\"volumen\"],3)\n",
    "\n",
    "print(\"Shape of features:\", features.shape)\n",
    "print(\"\\nShape of labels:\", labels.shape)\n",
    "print(\"\\nFirst 5 rows of features\")\n",
    "print(features[:5])\n",
    "print(\"\\nFirst 5 rows of labels\")\n",
    "print(labels[:5])\n",
    "\n"
   ]
  },
  {
   "cell_type": "markdown",
   "metadata": {},
   "source": [
    "Separa set de entrenamiento y set de pruebas\n",
    "Con una proporción 75% - 25%"
   ]
  },
  {
   "cell_type": "code",
   "execution_count": 12,
   "metadata": {},
   "outputs": [],
   "source": [
    "X_train,X_test, y_train, y_test = train_test_split(features, labels, test_size=0.25, random_state = 13) "
   ]
  },
  {
   "cell_type": "code",
   "execution_count": 13,
   "metadata": {},
   "outputs": [
    {
     "name": "stdout",
     "output_type": "stream",
     "text": [
      "shape del dataset completo:  (22633, 21)\n",
      "\n",
      "shape del set de entrenamiento:  (16974, 18)\n",
      "\n",
      "shape del set de pruebas:  (5659, 3)\n"
     ]
    }
   ],
   "source": [
    "print (\"shape del dataset completo: \", processed_data.shape)\n",
    "print (\"\\nshape del set de entrenamiento: \", X_train.shape)\n",
    "print (\"\\nshape del set de pruebas: \", y_test.shape)"
   ]
  },
  {
   "cell_type": "markdown",
   "metadata": {},
   "source": [
    "## Modelo clasificador usando DecisionTree"
   ]
  },
  {
   "cell_type": "code",
   "execution_count": 14,
   "metadata": {},
   "outputs": [
    {
     "name": "stdout",
     "output_type": "stream",
     "text": [
      "DecisionTreeClassifier(class_weight=None, criterion='gini', max_depth=10,\n",
      "                       max_features=None, max_leaf_nodes=None,\n",
      "                       min_impurity_decrease=0.0, min_impurity_split=None,\n",
      "                       min_samples_leaf=12, min_samples_split=2,\n",
      "                       min_weight_fraction_leaf=0.0, presort=False,\n",
      "                       random_state=None, splitter='best')\n",
      "\n",
      "Accuracy para DecisionTree: 0.8597\n"
     ]
    }
   ],
   "source": [
    "DecisionTreeModel = DecisionTreeClassifier(max_depth=10,min_samples_leaf=12)\n",
    "\n",
    "#entrenamiento\n",
    "print(DecisionTreeModel.fit(X_train, y_train))\n",
    "\n",
    "#prediccion (usar datos de test)\n",
    "y_predict = DecisionTreeModel.predict(X_test)\n",
    "\n",
    "print(\"\\nAccuracy para DecisionTree: {:.4f}\".format(accuracy_score(y_test, y_predict)))"
   ]
  },
  {
   "cell_type": "markdown",
   "metadata": {},
   "source": [
    "## Modelo clasificador usando RandomForest"
   ]
  },
  {
   "cell_type": "code",
   "execution_count": 15,
   "metadata": {
    "scrolled": true
   },
   "outputs": [
    {
     "name": "stdout",
     "output_type": "stream",
     "text": [
      "RandomForestClassifier(bootstrap=True, class_weight=None, criterion='gini',\n",
      "                       max_depth=14, max_features='auto', max_leaf_nodes=None,\n",
      "                       min_impurity_decrease=0.0, min_impurity_split=None,\n",
      "                       min_samples_leaf=3, min_samples_split=10,\n",
      "                       min_weight_fraction_leaf=0.0, n_estimators=290,\n",
      "                       n_jobs=None, oob_score=False, random_state=10, verbose=0,\n",
      "                       warm_start=False)\n",
      "\n",
      "Accuracy para Random Forest:     0.8669\n"
     ]
    }
   ],
   "source": [
    "RandomForestModel = RandomForestClassifier(min_samples_leaf=3, min_samples_split=10, n_estimators=290, max_depth = 14, random_state = 10)\n",
    "\n",
    "#entrenamiento\n",
    "print(RandomForestModel.fit(X_train, y_train))\n",
    "\n",
    "#prediccion (usar datos de test)\n",
    "y_predict = RandomForestModel.predict(X_test)\n",
    "\n",
    "print(\"\\nAccuracy para Random Forest:     {:.4f}\".format(accuracy_score(y_test, y_predict)))"
   ]
  },
  {
   "cell_type": "markdown",
   "metadata": {},
   "source": [
    "### Podríamos decir que Random Forest tuvo el mejor score que Decision Tree (86.69% vrs 85.97)"
   ]
  },
  {
   "cell_type": "markdown",
   "metadata": {},
   "source": [
    "### Mejores resultados para DecisionTree"
   ]
  },
  {
   "cell_type": "markdown",
   "metadata": {},
   "source": [
    "Método | Features | Profundidad Max | Resultado | Mejores resultados\n",
    "------------ | ------------- | ------------- | ------------- | ------------- \n",
    "DT | 7 | 5| 78.95% | \n",
    "DT | 7 | 9 | 85.97% | \n",
    "DT | 7 | 12 | 86.08% | \n",
    "DT | 7 | 13 | 86.15% |  ** mejor en v1\n",
    "-- | -- | -- | -- | \n",
    "DT | 5 | 3 | 77.38% | \n",
    "DT | 5 | 8 | 84.94% | \n",
    "DT | 5 | 10 | 85.97% | ** mejor en v2\n",
    "DT | 5 | 12 | 85.65% | "
   ]
  },
  {
   "cell_type": "markdown",
   "metadata": {},
   "source": [
    "### Mejores resultados para RandomForest"
   ]
  },
  {
   "cell_type": "markdown",
   "metadata": {},
   "source": [
    "Método | Features | Leaf | Split | Estimators | Profundidad Max | Resultado  | Mejores resultados\n",
    "------------ | ------------- | ------------- | -------------  | -------------  | -------------  | -------------  | ------------- \n",
    "RF | 7 | 3 | 17 | 290 | None | 86.46% |  ** mejor en v1\n",
    "RF | 7 | 3 | 10 | 290 | 14 | 86.22% | \n",
    "RF | 7 | 3 | 13 | 290 | 15 | 86.38% |\n",
    "-- | -- | -- | -- |  -- |  -- |  -- |\n",
    "RF | 5 | 3 | 10 | 290 | None | 86.62% |\n",
    "RF | 5 | 3 | 10 | 290 | 14 | 86.69% | ** mejor en v2\n",
    "RF | 5 | 3 | 10 | 300 | None | 86.61% | \n",
    "RF | 5 | 5 | 10 | 300 | None | 86.46% | \n",
    "RF | 5 | 10 | 10 | 300 | None | 86.43% |\n",
    "\n"
   ]
  },
  {
   "cell_type": "markdown",
   "metadata": {},
   "source": [
    "## Modelo clasificador usando Redes Neuronales"
   ]
  },
  {
   "cell_type": "code",
   "execution_count": 16,
   "metadata": {},
   "outputs": [],
   "source": [
    "#FALTA..."
   ]
  },
  {
   "cell_type": "code",
   "execution_count": null,
   "metadata": {},
   "outputs": [],
   "source": []
  }
 ],
 "metadata": {
  "kernelspec": {
   "display_name": "Python 3",
   "language": "python",
   "name": "python3"
  },
  "language_info": {
   "codemirror_mode": {
    "name": "ipython",
    "version": 3
   },
   "file_extension": ".py",
   "mimetype": "text/x-python",
   "name": "python",
   "nbconvert_exporter": "python",
   "pygments_lexer": "ipython3",
   "version": "3.7.3"
  }
 },
 "nbformat": 4,
 "nbformat_minor": 2
}
