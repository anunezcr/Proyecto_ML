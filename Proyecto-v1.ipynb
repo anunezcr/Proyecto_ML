{
  "nbformat": 4,
  "nbformat_minor": 0,
  "metadata": {
    "kernelspec": {
      "display_name": "Python 3",
      "language": "python",
      "name": "python3"
    },
    "language_info": {
      "codemirror_mode": {
        "name": "ipython",
        "version": 3
      },
      "file_extension": ".py",
      "mimetype": "text/x-python",
      "name": "python",
      "nbconvert_exporter": "python",
      "pygments_lexer": "ipython3",
      "version": "3.7.3"
    },
    "colab": {
      "name": "Proyecto-v1.ipynb",
      "version": "0.3.2",
      "provenance": []
    }
  },
  "cells": [
    {
      "cell_type": "markdown",
      "metadata": {
        "id": "j6LXO3nnFLKI",
        "colab_type": "text"
      },
      "source": [
        "# Curso: Aprendizaje Automático - Proyecto final (preliminar al 2 Sept)\n",
        "## Alonso Nuñez / Sergio Castillo\n",
        "## Fecha de entrega: 9 setiembre 2019"
      ]
    },
    {
      "cell_type": "markdown",
      "metadata": {
        "id": "q1N7KHJcFLKM",
        "colab_type": "text"
      },
      "source": [
        "## Importar dependencias y cargar el dataset"
      ]
    },
    {
      "cell_type": "code",
      "metadata": {
        "id": "oZW-YzEXFLKP",
        "colab_type": "code",
        "colab": {}
      },
      "source": [
        "import numpy as np\n",
        "import pandas as pd\n",
        "import matplotlib.pyplot as plt\n",
        "\n",
        "from sklearn.model_selection import train_test_split\n",
        "from sklearn.tree import DecisionTreeClassifier\n",
        "from sklearn.ensemble import RandomForestClassifier\n",
        "from sklearn.svm import SVC\n",
        "from sklearn.ensemble import GradientBoostingClassifier\n",
        "from sklearn.ensemble import VotingClassifier\n",
        "from sklearn.metrics import accuracy_score\n",
        "\n",
        "import keras\n",
        "from keras.utils import np_utils\n",
        "\n",
        "data =  pd.read_csv('https://raw.githubusercontent.com/anunezcr/datasets/master/clientes_diarios_clasif.csv')"
      ],
      "execution_count": 0,
      "outputs": []
    },
    {
      "cell_type": "markdown",
      "metadata": {
        "id": "8Ri4ssMnFLKX",
        "colab_type": "text"
      },
      "source": [
        "# EDA\n",
        "## Revisar el tamaño del data set y ver algunas instancias:"
      ]
    },
    {
      "cell_type": "code",
      "metadata": {
        "id": "qC4G3fkkFLKY",
        "colab_type": "code",
        "colab": {
          "base_uri": "https://localhost:8080/",
          "height": 245
        },
        "outputId": "6fe56593-6e85-4a55-c161-388453f98eaa"
      },
      "source": [
        "print(\"Dimensiones:\", data.shape)\n",
        "data.head(5)"
      ],
      "execution_count": 31,
      "outputs": [
        {
          "output_type": "stream",
          "text": [
            "Dimensiones: (22633, 14)\n"
          ],
          "name": "stdout"
        },
        {
          "output_type": "execute_result",
          "data": {
            "text/html": [
              "<div>\n",
              "<style scoped>\n",
              "    .dataframe tbody tr th:only-of-type {\n",
              "        vertical-align: middle;\n",
              "    }\n",
              "\n",
              "    .dataframe tbody tr th {\n",
              "        vertical-align: top;\n",
              "    }\n",
              "\n",
              "    .dataframe thead th {\n",
              "        text-align: right;\n",
              "    }\n",
              "</style>\n",
              "<table border=\"1\" class=\"dataframe\">\n",
              "  <thead>\n",
              "    <tr style=\"text-align: right;\">\n",
              "      <th></th>\n",
              "      <th>id_tienda</th>\n",
              "      <th>tipo_tienda</th>\n",
              "      <th>provincia</th>\n",
              "      <th>supervisor</th>\n",
              "      <th>mes_del_anio</th>\n",
              "      <th>semana_del_anio</th>\n",
              "      <th>es_quincena</th>\n",
              "      <th>es_feriado</th>\n",
              "      <th>dia_de_la_semana</th>\n",
              "      <th>horas_operacion</th>\n",
              "      <th>pos_en_uso</th>\n",
              "      <th>clientes_totales</th>\n",
              "      <th>clientes_vip</th>\n",
              "      <th>volumen</th>\n",
              "    </tr>\n",
              "  </thead>\n",
              "  <tbody>\n",
              "    <tr>\n",
              "      <th>0</th>\n",
              "      <td>12</td>\n",
              "      <td>FS</td>\n",
              "      <td>SAN JOSE</td>\n",
              "      <td>2015622_080</td>\n",
              "      <td>1</td>\n",
              "      <td>1</td>\n",
              "      <td>VERDADERO</td>\n",
              "      <td>Anio Nuevo</td>\n",
              "      <td>Lunes</td>\n",
              "      <td>11</td>\n",
              "      <td>4</td>\n",
              "      <td>210</td>\n",
              "      <td>23.0</td>\n",
              "      <td>medio</td>\n",
              "    </tr>\n",
              "    <tr>\n",
              "      <th>1</th>\n",
              "      <td>12</td>\n",
              "      <td>FS</td>\n",
              "      <td>SAN JOSE</td>\n",
              "      <td>2015622_080</td>\n",
              "      <td>1</td>\n",
              "      <td>1</td>\n",
              "      <td>VERDADERO</td>\n",
              "      <td>NO</td>\n",
              "      <td>Martes</td>\n",
              "      <td>11</td>\n",
              "      <td>4</td>\n",
              "      <td>306</td>\n",
              "      <td>17.0</td>\n",
              "      <td>alto</td>\n",
              "    </tr>\n",
              "    <tr>\n",
              "      <th>2</th>\n",
              "      <td>12</td>\n",
              "      <td>FS</td>\n",
              "      <td>SAN JOSE</td>\n",
              "      <td>2015622_080</td>\n",
              "      <td>1</td>\n",
              "      <td>1</td>\n",
              "      <td>VERDADERO</td>\n",
              "      <td>NO</td>\n",
              "      <td>Miercoles</td>\n",
              "      <td>11</td>\n",
              "      <td>4</td>\n",
              "      <td>203</td>\n",
              "      <td>12.0</td>\n",
              "      <td>medio</td>\n",
              "    </tr>\n",
              "    <tr>\n",
              "      <th>3</th>\n",
              "      <td>12</td>\n",
              "      <td>FS</td>\n",
              "      <td>SAN JOSE</td>\n",
              "      <td>2015622_080</td>\n",
              "      <td>1</td>\n",
              "      <td>1</td>\n",
              "      <td>FALSO</td>\n",
              "      <td>NO</td>\n",
              "      <td>Jueves</td>\n",
              "      <td>11</td>\n",
              "      <td>4</td>\n",
              "      <td>192</td>\n",
              "      <td>13.0</td>\n",
              "      <td>medio</td>\n",
              "    </tr>\n",
              "    <tr>\n",
              "      <th>4</th>\n",
              "      <td>12</td>\n",
              "      <td>FS</td>\n",
              "      <td>SAN JOSE</td>\n",
              "      <td>2015622_080</td>\n",
              "      <td>1</td>\n",
              "      <td>1</td>\n",
              "      <td>FALSO</td>\n",
              "      <td>NO</td>\n",
              "      <td>Viernes</td>\n",
              "      <td>12</td>\n",
              "      <td>4</td>\n",
              "      <td>229</td>\n",
              "      <td>16.0</td>\n",
              "      <td>medio</td>\n",
              "    </tr>\n",
              "  </tbody>\n",
              "</table>\n",
              "</div>"
            ],
            "text/plain": [
              "   id_tienda tipo_tienda provincia  ... clientes_totales  clientes_vip  volumen\n",
              "0         12          FS  SAN JOSE  ...              210          23.0    medio\n",
              "1         12          FS  SAN JOSE  ...              306          17.0     alto\n",
              "2         12          FS  SAN JOSE  ...              203          12.0    medio\n",
              "3         12          FS  SAN JOSE  ...              192          13.0    medio\n",
              "4         12          FS  SAN JOSE  ...              229          16.0    medio\n",
              "\n",
              "[5 rows x 14 columns]"
            ]
          },
          "metadata": {
            "tags": []
          },
          "execution_count": 31
        }
      ]
    },
    {
      "cell_type": "markdown",
      "metadata": {
        "id": "8PLbXLwXX3ZM",
        "colab_type": "text"
      },
      "source": [
        "## Validaciones de valores en columnas"
      ]
    },
    {
      "cell_type": "code",
      "metadata": {
        "id": "Z-cOduUvX1G9",
        "colab_type": "code",
        "colab": {
          "base_uri": "https://localhost:8080/",
          "height": 311
        },
        "outputId": "2c4d5b60-a597-428b-e41c-0d483606c7cd"
      },
      "source": [
        "print(\"Valores distintos de la columna es quincena:\")\n",
        "print(data.es_quincena.unique())\n",
        "print(\"\\nValores distintos de la columna es feriado:\")\n",
        "print(data.es_feriado.unique())\n",
        "print(\"\\nValores distintos de la columna dia de la semana:\")\n",
        "print(data.dia_de_la_semana.unique())\n",
        "print(\"\\nValores distintos de la columna volumen:\")\n",
        "print(data.volumen.unique())"
      ],
      "execution_count": 32,
      "outputs": [
        {
          "output_type": "stream",
          "text": [
            "Valores distintos de la columna es quincena:\n",
            "[' VERDADERO ' ' FALSO ']\n",
            "\n",
            "Valores distintos de la columna es feriado:\n",
            "['Anio Nuevo' ' NO ' ' Jueves Santo ' ' Viernes Santo '\n",
            " ' Dia de Juan Santamaria ' ' Dia del Trabajo '\n",
            " ' Anexion del Partido de Nicoya '\n",
            " ' Dia de Nuestra Seniora de los Angeles ' ' Asuncion de la Virgen '\n",
            " ' Dia de la Independencia ' ' Dia de las Culturas ' ' Dia de Navidad '\n",
            " ' Anio Nuevo ' ' Dia de Nuestra Seniora de los angeles ']\n",
            "\n",
            "Valores distintos de la columna dia de la semana:\n",
            "['Lunes' 'Martes' 'Miercoles' 'Jueves' 'Viernes' 'Sabado' 'Domingo']\n",
            "\n",
            "Valores distintos de la columna volumen:\n",
            "['medio' 'alto' 'bajo']\n"
          ],
          "name": "stdout"
        }
      ]
    },
    {
      "cell_type": "markdown",
      "metadata": {
        "id": "-bYAIi5HFLKd",
        "colab_type": "text"
      },
      "source": [
        "## Visualización de datos"
      ]
    },
    {
      "cell_type": "code",
      "metadata": {
        "id": "oBHskhtGcu9T",
        "colab_type": "code",
        "colab": {
          "base_uri": "https://localhost:8080/",
          "height": 489
        },
        "outputId": "677e51af-ac12-44d6-ba83-14f1a5712afb"
      },
      "source": [
        "print(\"Distribución de los valores en columna horas operacion:\")\n",
        "data.groupby('horas_operacion')['horas_operacion'].count().plot(kind = \"bar\", figsize = (10, 7))"
      ],
      "execution_count": 33,
      "outputs": [
        {
          "output_type": "stream",
          "text": [
            "Distribución de los valores en columna horas operacion:\n"
          ],
          "name": "stdout"
        },
        {
          "output_type": "execute_result",
          "data": {
            "text/plain": [
              "<matplotlib.axes._subplots.AxesSubplot at 0x7fea618ba400>"
            ]
          },
          "metadata": {
            "tags": []
          },
          "execution_count": 33
        },
        {
          "output_type": "display_data",
          "data": {
            "image/png": "[encoded data removed]",
            "text/plain": [
              "<Figure size 720x504 with 1 Axes>"
            ]
          },
          "metadata": {
            "tags": []
          }
        }
      ]
    },
    {
      "cell_type": "code",
      "metadata": {
        "id": "0If3kx-sdtn9",
        "colab_type": "code",
        "colab": {
          "base_uri": "https://localhost:8080/",
          "height": 482
        },
        "outputId": "6c58da78-86a2-4d2a-b662-938159c2e6b4"
      },
      "source": [
        "print(\"Distribución de los valores en columna pos en uso:\")\n",
        "data.groupby('pos_en_uso')['pos_en_uso'].count().plot(kind = \"bar\", figsize = (10, 7))"
      ],
      "execution_count": 34,
      "outputs": [
        {
          "output_type": "stream",
          "text": [
            "Distribución de los valores en columna pos en uso:\n"
          ],
          "name": "stdout"
        },
        {
          "output_type": "execute_result",
          "data": {
            "text/plain": [
              "<matplotlib.axes._subplots.AxesSubplot at 0x7fea61904e80>"
            ]
          },
          "metadata": {
            "tags": []
          },
          "execution_count": 34
        },
        {
          "output_type": "display_data",
          "data": {
            "image/png": "[encoded data removed]",
            "text/plain": [
              "<Figure size 720x504 with 1 Axes>"
            ]
          },
          "metadata": {
            "tags": []
          }
        }
      ]
    },
    {
      "cell_type": "markdown",
      "metadata": {
        "id": "a_KOQZ7XeTYk",
        "colab_type": "text"
      },
      "source": [
        "# TODO?"
      ]
    },
    {
      "cell_type": "code",
      "metadata": {
        "id": "du3G-n6-FLKf",
        "colab_type": "code",
        "colab": {
          "base_uri": "https://localhost:8080/",
          "height": 304
        },
        "outputId": "f18a3f83-aba8-4ecf-da8b-115e5ec97bb7"
      },
      "source": [
        "import matplotlib.pyplot as plt\n",
        "%matplotlib inline\n",
        "plt.style.use('ggplot')\n",
        "\n",
        "import numpy as np\n",
        "def plot_points(data):\n",
        "    X = np.array(data[[\"horas_operacion\", \"pos_en_uso\"]])\n",
        "    y = np.array(data[\"volumen\"])\n",
        "    alto = X[np.argwhere(y == \"alto\")]\n",
        "    bajo = X[np.argwhere(y == \"medio\")]\n",
        "    plt.scatter([s[0][0] for s in bajo], [s[0][1] for s in bajo], s = 25, color = 'red', edgecolor = 'k')\n",
        "    plt.scatter([s[0][0] for s in alto], [s[0][1] for s in alto], s = 25, color = 'cyan', edgecolor = 'k')\n",
        "    plt.xlabel('Horas')\n",
        "    plt.ylabel('Cant. POS')\n",
        "    \n",
        "plot_points(data)\n",
        "print(\"TODO\") #TODO Que representa este grafico?\n",
        "plt.show()"
      ],
      "execution_count": 35,
      "outputs": [
        {
          "output_type": "stream",
          "text": [
            "TODO\n"
          ],
          "name": "stdout"
        },
        {
          "output_type": "display_data",
          "data": {
            "image/png": "[encoded data removed]",
            "text/plain": [
              "<Figure size 432x288 with 1 Axes>"
            ]
          },
          "metadata": {
            "tags": []
          }
        }
      ]
    },
    {
      "cell_type": "markdown",
      "metadata": {
        "id": "1HtQFndWFLKp",
        "colab_type": "text"
      },
      "source": [
        "# Pre-Procesado"
      ]
    },
    {
      "cell_type": "markdown",
      "metadata": {
        "id": "3hkBcbGWFLKq",
        "colab_type": "text"
      },
      "source": [
        "## Convertir features de texto en numéricos (pero aún categóricos)"
      ]
    },
    {
      "cell_type": "code",
      "metadata": {
        "id": "viDDnoqiFLKs",
        "colab_type": "code",
        "colab": {}
      },
      "source": [
        "df = data.copy()  #Creamos una copia para mantener el DF original intacto\n",
        "df['dia_de_la_semana'] = data['dia_de_la_semana'].replace(\n",
        "    {'Lunes' : 0, 'Martes' : 1, 'Miercoles' : 2, 'Jueves' : 3, 'Viernes' : 4, 'Sabado' : 5, 'Domingo' : 6}\n",
        ")\n",
        "df['volumen'] = data['volumen'].replace({'alto' : 0, 'medio' : 1, 'bajo' : 2})\n",
        "df['es_quincena'] = data['es_quincena'].replace({' VERDADERO ' : 1, ' FALSO ' : 0})"
      ],
      "execution_count": 0,
      "outputs": []
    },
    {
      "cell_type": "code",
      "metadata": {
        "id": "BWXT-l-9ikTa",
        "colab_type": "code",
        "colab": {
          "base_uri": "https://localhost:8080/",
          "height": 401
        },
        "outputId": "98435508-9c18-434e-981b-9d8ffd872f34"
      },
      "source": [
        "#Este caso especial primero cambiamos la palabra NO por un 0 y luego cambiamos cualquier otro valor por un 1\n",
        "df['es_feriado'] = data['es_feriado'].replace({' NO ': 0})\n",
        "df['es_feriado'] = df['es_feriado'].where(df['es_feriado'] == 0, other = 1)\n",
        "df['es_feriado'].head(5)\n",
        "print(\"Verificar resultado final:\")\n",
        "df.head(10)"
      ],
      "execution_count": 74,
      "outputs": [
        {
          "output_type": "stream",
          "text": [
            "Verificar resultado final:\n"
          ],
          "name": "stdout"
        },
        {
          "output_type": "execute_result",
          "data": {
            "text/html": [
              "<div>\n",
              "<style scoped>\n",
              "    .dataframe tbody tr th:only-of-type {\n",
              "        vertical-align: middle;\n",
              "    }\n",
              "\n",
              "    .dataframe tbody tr th {\n",
              "        vertical-align: top;\n",
              "    }\n",
              "\n",
              "    .dataframe thead th {\n",
              "        text-align: right;\n",
              "    }\n",
              "</style>\n",
              "<table border=\"1\" class=\"dataframe\">\n",
              "  <thead>\n",
              "    <tr style=\"text-align: right;\">\n",
              "      <th></th>\n",
              "      <th>id_tienda</th>\n",
              "      <th>tipo_tienda</th>\n",
              "      <th>provincia</th>\n",
              "      <th>supervisor</th>\n",
              "      <th>mes_del_anio</th>\n",
              "      <th>semana_del_anio</th>\n",
              "      <th>es_quincena</th>\n",
              "      <th>es_feriado</th>\n",
              "      <th>dia_de_la_semana</th>\n",
              "      <th>horas_operacion</th>\n",
              "      <th>pos_en_uso</th>\n",
              "      <th>clientes_totales</th>\n",
              "      <th>clientes_vip</th>\n",
              "      <th>volumen</th>\n",
              "    </tr>\n",
              "  </thead>\n",
              "  <tbody>\n",
              "    <tr>\n",
              "      <th>0</th>\n",
              "      <td>12</td>\n",
              "      <td>FS</td>\n",
              "      <td>SAN JOSE</td>\n",
              "      <td>2015622_080</td>\n",
              "      <td>1</td>\n",
              "      <td>1</td>\n",
              "      <td>1</td>\n",
              "      <td>1</td>\n",
              "      <td>0</td>\n",
              "      <td>11</td>\n",
              "      <td>4</td>\n",
              "      <td>210</td>\n",
              "      <td>23.0</td>\n",
              "      <td>1</td>\n",
              "    </tr>\n",
              "    <tr>\n",
              "      <th>1</th>\n",
              "      <td>12</td>\n",
              "      <td>FS</td>\n",
              "      <td>SAN JOSE</td>\n",
              "      <td>2015622_080</td>\n",
              "      <td>1</td>\n",
              "      <td>1</td>\n",
              "      <td>1</td>\n",
              "      <td>0</td>\n",
              "      <td>1</td>\n",
              "      <td>11</td>\n",
              "      <td>4</td>\n",
              "      <td>306</td>\n",
              "      <td>17.0</td>\n",
              "      <td>0</td>\n",
              "    </tr>\n",
              "    <tr>\n",
              "      <th>2</th>\n",
              "      <td>12</td>\n",
              "      <td>FS</td>\n",
              "      <td>SAN JOSE</td>\n",
              "      <td>2015622_080</td>\n",
              "      <td>1</td>\n",
              "      <td>1</td>\n",
              "      <td>1</td>\n",
              "      <td>0</td>\n",
              "      <td>2</td>\n",
              "      <td>11</td>\n",
              "      <td>4</td>\n",
              "      <td>203</td>\n",
              "      <td>12.0</td>\n",
              "      <td>1</td>\n",
              "    </tr>\n",
              "    <tr>\n",
              "      <th>3</th>\n",
              "      <td>12</td>\n",
              "      <td>FS</td>\n",
              "      <td>SAN JOSE</td>\n",
              "      <td>2015622_080</td>\n",
              "      <td>1</td>\n",
              "      <td>1</td>\n",
              "      <td>0</td>\n",
              "      <td>0</td>\n",
              "      <td>3</td>\n",
              "      <td>11</td>\n",
              "      <td>4</td>\n",
              "      <td>192</td>\n",
              "      <td>13.0</td>\n",
              "      <td>1</td>\n",
              "    </tr>\n",
              "    <tr>\n",
              "      <th>4</th>\n",
              "      <td>12</td>\n",
              "      <td>FS</td>\n",
              "      <td>SAN JOSE</td>\n",
              "      <td>2015622_080</td>\n",
              "      <td>1</td>\n",
              "      <td>1</td>\n",
              "      <td>0</td>\n",
              "      <td>0</td>\n",
              "      <td>4</td>\n",
              "      <td>12</td>\n",
              "      <td>4</td>\n",
              "      <td>229</td>\n",
              "      <td>16.0</td>\n",
              "      <td>1</td>\n",
              "    </tr>\n",
              "    <tr>\n",
              "      <th>5</th>\n",
              "      <td>12</td>\n",
              "      <td>FS</td>\n",
              "      <td>SAN JOSE</td>\n",
              "      <td>2015622_080</td>\n",
              "      <td>1</td>\n",
              "      <td>1</td>\n",
              "      <td>0</td>\n",
              "      <td>0</td>\n",
              "      <td>5</td>\n",
              "      <td>15</td>\n",
              "      <td>4</td>\n",
              "      <td>225</td>\n",
              "      <td>22.0</td>\n",
              "      <td>1</td>\n",
              "    </tr>\n",
              "    <tr>\n",
              "      <th>6</th>\n",
              "      <td>12</td>\n",
              "      <td>FS</td>\n",
              "      <td>SAN JOSE</td>\n",
              "      <td>2015622_080</td>\n",
              "      <td>1</td>\n",
              "      <td>2</td>\n",
              "      <td>0</td>\n",
              "      <td>0</td>\n",
              "      <td>6</td>\n",
              "      <td>16</td>\n",
              "      <td>4</td>\n",
              "      <td>224</td>\n",
              "      <td>26.0</td>\n",
              "      <td>1</td>\n",
              "    </tr>\n",
              "    <tr>\n",
              "      <th>7</th>\n",
              "      <td>12</td>\n",
              "      <td>FS</td>\n",
              "      <td>SAN JOSE</td>\n",
              "      <td>2015622_080</td>\n",
              "      <td>1</td>\n",
              "      <td>2</td>\n",
              "      <td>0</td>\n",
              "      <td>0</td>\n",
              "      <td>0</td>\n",
              "      <td>12</td>\n",
              "      <td>4</td>\n",
              "      <td>179</td>\n",
              "      <td>14.0</td>\n",
              "      <td>1</td>\n",
              "    </tr>\n",
              "    <tr>\n",
              "      <th>8</th>\n",
              "      <td>12</td>\n",
              "      <td>FS</td>\n",
              "      <td>SAN JOSE</td>\n",
              "      <td>2015622_080</td>\n",
              "      <td>1</td>\n",
              "      <td>2</td>\n",
              "      <td>0</td>\n",
              "      <td>0</td>\n",
              "      <td>1</td>\n",
              "      <td>11</td>\n",
              "      <td>4</td>\n",
              "      <td>268</td>\n",
              "      <td>15.0</td>\n",
              "      <td>1</td>\n",
              "    </tr>\n",
              "    <tr>\n",
              "      <th>9</th>\n",
              "      <td>12</td>\n",
              "      <td>FS</td>\n",
              "      <td>SAN JOSE</td>\n",
              "      <td>2015622_080</td>\n",
              "      <td>1</td>\n",
              "      <td>2</td>\n",
              "      <td>0</td>\n",
              "      <td>0</td>\n",
              "      <td>2</td>\n",
              "      <td>10</td>\n",
              "      <td>4</td>\n",
              "      <td>215</td>\n",
              "      <td>15.0</td>\n",
              "      <td>1</td>\n",
              "    </tr>\n",
              "  </tbody>\n",
              "</table>\n",
              "</div>"
            ],
            "text/plain": [
              "   id_tienda tipo_tienda provincia  ... clientes_totales  clientes_vip  volumen\n",
              "0         12          FS  SAN JOSE  ...              210          23.0        1\n",
              "1         12          FS  SAN JOSE  ...              306          17.0        0\n",
              "2         12          FS  SAN JOSE  ...              203          12.0        1\n",
              "3         12          FS  SAN JOSE  ...              192          13.0        1\n",
              "4         12          FS  SAN JOSE  ...              229          16.0        1\n",
              "5         12          FS  SAN JOSE  ...              225          22.0        1\n",
              "6         12          FS  SAN JOSE  ...              224          26.0        1\n",
              "7         12          FS  SAN JOSE  ...              179          14.0        1\n",
              "8         12          FS  SAN JOSE  ...              268          15.0        1\n",
              "9         12          FS  SAN JOSE  ...              215          15.0        1\n",
              "\n",
              "[10 rows x 14 columns]"
            ]
          },
          "metadata": {
            "tags": []
          },
          "execution_count": 74
        }
      ]
    },
    {
      "cell_type": "code",
      "metadata": {
        "id": "9KTFHU0QnKPL",
        "colab_type": "code",
        "colab": {
          "base_uri": "https://localhost:8080/",
          "height": 401
        },
        "outputId": "0804170f-109f-4575-8e69-bf710a15bf00"
      },
      "source": [
        ""
      ],
      "execution_count": 73,
      "outputs": [
        {
          "output_type": "stream",
          "text": [
            "Verificar resultado final:\n"
          ],
          "name": "stdout"
        },
        {
          "output_type": "execute_result",
          "data": {
            "text/html": [
              "<div>\n",
              "<style scoped>\n",
              "    .dataframe tbody tr th:only-of-type {\n",
              "        vertical-align: middle;\n",
              "    }\n",
              "\n",
              "    .dataframe tbody tr th {\n",
              "        vertical-align: top;\n",
              "    }\n",
              "\n",
              "    .dataframe thead th {\n",
              "        text-align: right;\n",
              "    }\n",
              "</style>\n",
              "<table border=\"1\" class=\"dataframe\">\n",
              "  <thead>\n",
              "    <tr style=\"text-align: right;\">\n",
              "      <th></th>\n",
              "      <th>id_tienda</th>\n",
              "      <th>tipo_tienda</th>\n",
              "      <th>provincia</th>\n",
              "      <th>supervisor</th>\n",
              "      <th>mes_del_anio</th>\n",
              "      <th>semana_del_anio</th>\n",
              "      <th>es_quincena</th>\n",
              "      <th>es_feriado</th>\n",
              "      <th>dia_de_la_semana</th>\n",
              "      <th>horas_operacion</th>\n",
              "      <th>pos_en_uso</th>\n",
              "      <th>clientes_totales</th>\n",
              "      <th>clientes_vip</th>\n",
              "      <th>volumen</th>\n",
              "    </tr>\n",
              "  </thead>\n",
              "  <tbody>\n",
              "    <tr>\n",
              "      <th>0</th>\n",
              "      <td>12</td>\n",
              "      <td>FS</td>\n",
              "      <td>SAN JOSE</td>\n",
              "      <td>2015622_080</td>\n",
              "      <td>1</td>\n",
              "      <td>1</td>\n",
              "      <td>1</td>\n",
              "      <td>1</td>\n",
              "      <td>0</td>\n",
              "      <td>11</td>\n",
              "      <td>4</td>\n",
              "      <td>210</td>\n",
              "      <td>23.0</td>\n",
              "      <td>1</td>\n",
              "    </tr>\n",
              "    <tr>\n",
              "      <th>1</th>\n",
              "      <td>12</td>\n",
              "      <td>FS</td>\n",
              "      <td>SAN JOSE</td>\n",
              "      <td>2015622_080</td>\n",
              "      <td>1</td>\n",
              "      <td>1</td>\n",
              "      <td>1</td>\n",
              "      <td>0</td>\n",
              "      <td>1</td>\n",
              "      <td>11</td>\n",
              "      <td>4</td>\n",
              "      <td>306</td>\n",
              "      <td>17.0</td>\n",
              "      <td>0</td>\n",
              "    </tr>\n",
              "    <tr>\n",
              "      <th>2</th>\n",
              "      <td>12</td>\n",
              "      <td>FS</td>\n",
              "      <td>SAN JOSE</td>\n",
              "      <td>2015622_080</td>\n",
              "      <td>1</td>\n",
              "      <td>1</td>\n",
              "      <td>1</td>\n",
              "      <td>0</td>\n",
              "      <td>2</td>\n",
              "      <td>11</td>\n",
              "      <td>4</td>\n",
              "      <td>203</td>\n",
              "      <td>12.0</td>\n",
              "      <td>1</td>\n",
              "    </tr>\n",
              "    <tr>\n",
              "      <th>3</th>\n",
              "      <td>12</td>\n",
              "      <td>FS</td>\n",
              "      <td>SAN JOSE</td>\n",
              "      <td>2015622_080</td>\n",
              "      <td>1</td>\n",
              "      <td>1</td>\n",
              "      <td>0</td>\n",
              "      <td>0</td>\n",
              "      <td>3</td>\n",
              "      <td>11</td>\n",
              "      <td>4</td>\n",
              "      <td>192</td>\n",
              "      <td>13.0</td>\n",
              "      <td>1</td>\n",
              "    </tr>\n",
              "    <tr>\n",
              "      <th>4</th>\n",
              "      <td>12</td>\n",
              "      <td>FS</td>\n",
              "      <td>SAN JOSE</td>\n",
              "      <td>2015622_080</td>\n",
              "      <td>1</td>\n",
              "      <td>1</td>\n",
              "      <td>0</td>\n",
              "      <td>0</td>\n",
              "      <td>4</td>\n",
              "      <td>12</td>\n",
              "      <td>4</td>\n",
              "      <td>229</td>\n",
              "      <td>16.0</td>\n",
              "      <td>1</td>\n",
              "    </tr>\n",
              "    <tr>\n",
              "      <th>5</th>\n",
              "      <td>12</td>\n",
              "      <td>FS</td>\n",
              "      <td>SAN JOSE</td>\n",
              "      <td>2015622_080</td>\n",
              "      <td>1</td>\n",
              "      <td>1</td>\n",
              "      <td>0</td>\n",
              "      <td>0</td>\n",
              "      <td>5</td>\n",
              "      <td>15</td>\n",
              "      <td>4</td>\n",
              "      <td>225</td>\n",
              "      <td>22.0</td>\n",
              "      <td>1</td>\n",
              "    </tr>\n",
              "    <tr>\n",
              "      <th>6</th>\n",
              "      <td>12</td>\n",
              "      <td>FS</td>\n",
              "      <td>SAN JOSE</td>\n",
              "      <td>2015622_080</td>\n",
              "      <td>1</td>\n",
              "      <td>2</td>\n",
              "      <td>0</td>\n",
              "      <td>0</td>\n",
              "      <td>6</td>\n",
              "      <td>16</td>\n",
              "      <td>4</td>\n",
              "      <td>224</td>\n",
              "      <td>26.0</td>\n",
              "      <td>1</td>\n",
              "    </tr>\n",
              "    <tr>\n",
              "      <th>7</th>\n",
              "      <td>12</td>\n",
              "      <td>FS</td>\n",
              "      <td>SAN JOSE</td>\n",
              "      <td>2015622_080</td>\n",
              "      <td>1</td>\n",
              "      <td>2</td>\n",
              "      <td>0</td>\n",
              "      <td>0</td>\n",
              "      <td>0</td>\n",
              "      <td>12</td>\n",
              "      <td>4</td>\n",
              "      <td>179</td>\n",
              "      <td>14.0</td>\n",
              "      <td>1</td>\n",
              "    </tr>\n",
              "    <tr>\n",
              "      <th>8</th>\n",
              "      <td>12</td>\n",
              "      <td>FS</td>\n",
              "      <td>SAN JOSE</td>\n",
              "      <td>2015622_080</td>\n",
              "      <td>1</td>\n",
              "      <td>2</td>\n",
              "      <td>0</td>\n",
              "      <td>0</td>\n",
              "      <td>1</td>\n",
              "      <td>11</td>\n",
              "      <td>4</td>\n",
              "      <td>268</td>\n",
              "      <td>15.0</td>\n",
              "      <td>1</td>\n",
              "    </tr>\n",
              "    <tr>\n",
              "      <th>9</th>\n",
              "      <td>12</td>\n",
              "      <td>FS</td>\n",
              "      <td>SAN JOSE</td>\n",
              "      <td>2015622_080</td>\n",
              "      <td>1</td>\n",
              "      <td>2</td>\n",
              "      <td>0</td>\n",
              "      <td>0</td>\n",
              "      <td>2</td>\n",
              "      <td>10</td>\n",
              "      <td>4</td>\n",
              "      <td>215</td>\n",
              "      <td>15.0</td>\n",
              "      <td>1</td>\n",
              "    </tr>\n",
              "  </tbody>\n",
              "</table>\n",
              "</div>"
            ],
            "text/plain": [
              "   id_tienda tipo_tienda provincia  ... clientes_totales  clientes_vip  volumen\n",
              "0         12          FS  SAN JOSE  ...              210          23.0        1\n",
              "1         12          FS  SAN JOSE  ...              306          17.0        0\n",
              "2         12          FS  SAN JOSE  ...              203          12.0        1\n",
              "3         12          FS  SAN JOSE  ...              192          13.0        1\n",
              "4         12          FS  SAN JOSE  ...              229          16.0        1\n",
              "5         12          FS  SAN JOSE  ...              225          22.0        1\n",
              "6         12          FS  SAN JOSE  ...              224          26.0        1\n",
              "7         12          FS  SAN JOSE  ...              179          14.0        1\n",
              "8         12          FS  SAN JOSE  ...              268          15.0        1\n",
              "9         12          FS  SAN JOSE  ...              215          15.0        1\n",
              "\n",
              "[10 rows x 14 columns]"
            ]
          },
          "metadata": {
            "tags": []
          },
          "execution_count": 73
        }
      ]
    },
    {
      "cell_type": "markdown",
      "metadata": {
        "id": "QQQLZPHaFLK2",
        "colab_type": "text"
      },
      "source": [
        "## Eliminar outliers\n",
        "\n",
        "Las variables que nos interesan son las de cantidad de clientes, comparamos clientes totales vs. VIP para cada día y decidimos borrar aquellos valores que exceden la norma, que dentro del conjunto de datos no iban a aportar mayor detalle."
      ]
    },
    {
      "cell_type": "code",
      "metadata": {
        "id": "wZhgKsx2FLK3",
        "colab_type": "code",
        "colab": {
          "base_uri": "https://localhost:8080/",
          "height": 610
        },
        "outputId": "11726ecc-37f4-470c-a920-c3ed8b3bcf75"
      },
      "source": [
        "df.plot.scatter(x = 'clientes_totales', y = 'clientes_vip')\n",
        "print(\"Tamaño original:\", df.shape)\n",
        "df1 = df[df.clientes_vip < 100]\n",
        "df1 = df1[df1.clientes_totales < 800]\n",
        "print(\"Tamaño después de borrado:\", df1.shape)\n",
        "df1.plot.scatter(x = 'clientes_totales', y = 'clientes_vip')"
      ],
      "execution_count": 78,
      "outputs": [
        {
          "output_type": "stream",
          "text": [
            "Tamaño original: (22633, 14)\n",
            "Tamaño después de borrado: (22623, 14)\n"
          ],
          "name": "stdout"
        },
        {
          "output_type": "execute_result",
          "data": {
            "text/plain": [
              "<matplotlib.axes._subplots.AxesSubplot at 0x7fea5d44c3c8>"
            ]
          },
          "metadata": {
            "tags": []
          },
          "execution_count": 78
        },
        {
          "output_type": "display_data",
          "data": {
            "image/png": "[encoded data removed]",
            "text/plain": [
              "<Figure size 432x288 with 1 Axes>"
            ]
          },
          "metadata": {
            "tags": []
          }
        },
        {
          "output_type": "display_data",
          "data": {
            "image/png": "[encoded data removed]",
            "text/plain": [
              "<Figure size 432x288 with 1 Axes>"
            ]
          },
          "metadata": {
            "tags": []
          }
        }
      ]
    },
    {
      "cell_type": "markdown",
      "metadata": {
        "id": "rmOFXfeaFLK7",
        "colab_type": "text"
      },
      "source": [
        "## Convertir datos categóricos - One-hot encoding"
      ]
    },
    {
      "cell_type": "code",
      "metadata": {
        "id": "o22byYtOFLK8",
        "colab_type": "code",
        "colab": {
          "base_uri": "https://localhost:8080/",
          "height": 226
        },
        "outputId": "d95be4b4-4451-4ba9-fc63-ea9a771fbaa7"
      },
      "source": [
        "# One-hot encoding\n",
        "df2 = pd.get_dummies(df1, columns=['mes_del_anio', 'dia_de_la_semana', 'volumen'])\n",
        "df2.head()\n",
        "\n"
      ],
      "execution_count": 81,
      "outputs": [
        {
          "output_type": "execute_result",
          "data": {
            "text/html": [
              "<div>\n",
              "<style scoped>\n",
              "    .dataframe tbody tr th:only-of-type {\n",
              "        vertical-align: middle;\n",
              "    }\n",
              "\n",
              "    .dataframe tbody tr th {\n",
              "        vertical-align: top;\n",
              "    }\n",
              "\n",
              "    .dataframe thead th {\n",
              "        text-align: right;\n",
              "    }\n",
              "</style>\n",
              "<table border=\"1\" class=\"dataframe\">\n",
              "  <thead>\n",
              "    <tr style=\"text-align: right;\">\n",
              "      <th></th>\n",
              "      <th>id_tienda</th>\n",
              "      <th>tipo_tienda</th>\n",
              "      <th>provincia</th>\n",
              "      <th>supervisor</th>\n",
              "      <th>semana_del_anio</th>\n",
              "      <th>es_quincena</th>\n",
              "      <th>es_feriado</th>\n",
              "      <th>horas_operacion</th>\n",
              "      <th>pos_en_uso</th>\n",
              "      <th>clientes_totales</th>\n",
              "      <th>clientes_vip</th>\n",
              "      <th>mes_del_anio_1</th>\n",
              "      <th>mes_del_anio_2</th>\n",
              "      <th>mes_del_anio_3</th>\n",
              "      <th>mes_del_anio_4</th>\n",
              "      <th>mes_del_anio_5</th>\n",
              "      <th>mes_del_anio_6</th>\n",
              "      <th>mes_del_anio_7</th>\n",
              "      <th>mes_del_anio_8</th>\n",
              "      <th>mes_del_anio_9</th>\n",
              "      <th>mes_del_anio_10</th>\n",
              "      <th>mes_del_anio_11</th>\n",
              "      <th>mes_del_anio_12</th>\n",
              "      <th>dia_de_la_semana_0</th>\n",
              "      <th>dia_de_la_semana_1</th>\n",
              "      <th>dia_de_la_semana_2</th>\n",
              "      <th>dia_de_la_semana_3</th>\n",
              "      <th>dia_de_la_semana_4</th>\n",
              "      <th>dia_de_la_semana_5</th>\n",
              "      <th>dia_de_la_semana_6</th>\n",
              "      <th>volumen_0</th>\n",
              "      <th>volumen_1</th>\n",
              "      <th>volumen_2</th>\n",
              "    </tr>\n",
              "  </thead>\n",
              "  <tbody>\n",
              "    <tr>\n",
              "      <th>0</th>\n",
              "      <td>12</td>\n",
              "      <td>FS</td>\n",
              "      <td>SAN JOSE</td>\n",
              "      <td>2015622_080</td>\n",
              "      <td>1</td>\n",
              "      <td>1</td>\n",
              "      <td>1</td>\n",
              "      <td>11</td>\n",
              "      <td>4</td>\n",
              "      <td>210</td>\n",
              "      <td>23.0</td>\n",
              "      <td>1</td>\n",
              "      <td>0</td>\n",
              "      <td>0</td>\n",
              "      <td>0</td>\n",
              "      <td>0</td>\n",
              "      <td>0</td>\n",
              "      <td>0</td>\n",
              "      <td>0</td>\n",
              "      <td>0</td>\n",
              "      <td>0</td>\n",
              "      <td>0</td>\n",
              "      <td>0</td>\n",
              "      <td>1</td>\n",
              "      <td>0</td>\n",
              "      <td>0</td>\n",
              "      <td>0</td>\n",
              "      <td>0</td>\n",
              "      <td>0</td>\n",
              "      <td>0</td>\n",
              "      <td>0</td>\n",
              "      <td>1</td>\n",
              "      <td>0</td>\n",
              "    </tr>\n",
              "    <tr>\n",
              "      <th>1</th>\n",
              "      <td>12</td>\n",
              "      <td>FS</td>\n",
              "      <td>SAN JOSE</td>\n",
              "      <td>2015622_080</td>\n",
              "      <td>1</td>\n",
              "      <td>1</td>\n",
              "      <td>0</td>\n",
              "      <td>11</td>\n",
              "      <td>4</td>\n",
              "      <td>306</td>\n",
              "      <td>17.0</td>\n",
              "      <td>1</td>\n",
              "      <td>0</td>\n",
              "      <td>0</td>\n",
              "      <td>0</td>\n",
              "      <td>0</td>\n",
              "      <td>0</td>\n",
              "      <td>0</td>\n",
              "      <td>0</td>\n",
              "      <td>0</td>\n",
              "      <td>0</td>\n",
              "      <td>0</td>\n",
              "      <td>0</td>\n",
              "      <td>0</td>\n",
              "      <td>1</td>\n",
              "      <td>0</td>\n",
              "      <td>0</td>\n",
              "      <td>0</td>\n",
              "      <td>0</td>\n",
              "      <td>0</td>\n",
              "      <td>1</td>\n",
              "      <td>0</td>\n",
              "      <td>0</td>\n",
              "    </tr>\n",
              "    <tr>\n",
              "      <th>2</th>\n",
              "      <td>12</td>\n",
              "      <td>FS</td>\n",
              "      <td>SAN JOSE</td>\n",
              "      <td>2015622_080</td>\n",
              "      <td>1</td>\n",
              "      <td>1</td>\n",
              "      <td>0</td>\n",
              "      <td>11</td>\n",
              "      <td>4</td>\n",
              "      <td>203</td>\n",
              "      <td>12.0</td>\n",
              "      <td>1</td>\n",
              "      <td>0</td>\n",
              "      <td>0</td>\n",
              "      <td>0</td>\n",
              "      <td>0</td>\n",
              "      <td>0</td>\n",
              "      <td>0</td>\n",
              "      <td>0</td>\n",
              "      <td>0</td>\n",
              "      <td>0</td>\n",
              "      <td>0</td>\n",
              "      <td>0</td>\n",
              "      <td>0</td>\n",
              "      <td>0</td>\n",
              "      <td>1</td>\n",
              "      <td>0</td>\n",
              "      <td>0</td>\n",
              "      <td>0</td>\n",
              "      <td>0</td>\n",
              "      <td>0</td>\n",
              "      <td>1</td>\n",
              "      <td>0</td>\n",
              "    </tr>\n",
              "    <tr>\n",
              "      <th>3</th>\n",
              "      <td>12</td>\n",
              "      <td>FS</td>\n",
              "      <td>SAN JOSE</td>\n",
              "      <td>2015622_080</td>\n",
              "      <td>1</td>\n",
              "      <td>0</td>\n",
              "      <td>0</td>\n",
              "      <td>11</td>\n",
              "      <td>4</td>\n",
              "      <td>192</td>\n",
              "      <td>13.0</td>\n",
              "      <td>1</td>\n",
              "      <td>0</td>\n",
              "      <td>0</td>\n",
              "      <td>0</td>\n",
              "      <td>0</td>\n",
              "      <td>0</td>\n",
              "      <td>0</td>\n",
              "      <td>0</td>\n",
              "      <td>0</td>\n",
              "      <td>0</td>\n",
              "      <td>0</td>\n",
              "      <td>0</td>\n",
              "      <td>0</td>\n",
              "      <td>0</td>\n",
              "      <td>0</td>\n",
              "      <td>1</td>\n",
              "      <td>0</td>\n",
              "      <td>0</td>\n",
              "      <td>0</td>\n",
              "      <td>0</td>\n",
              "      <td>1</td>\n",
              "      <td>0</td>\n",
              "    </tr>\n",
              "    <tr>\n",
              "      <th>4</th>\n",
              "      <td>12</td>\n",
              "      <td>FS</td>\n",
              "      <td>SAN JOSE</td>\n",
              "      <td>2015622_080</td>\n",
              "      <td>1</td>\n",
              "      <td>0</td>\n",
              "      <td>0</td>\n",
              "      <td>12</td>\n",
              "      <td>4</td>\n",
              "      <td>229</td>\n",
              "      <td>16.0</td>\n",
              "      <td>1</td>\n",
              "      <td>0</td>\n",
              "      <td>0</td>\n",
              "      <td>0</td>\n",
              "      <td>0</td>\n",
              "      <td>0</td>\n",
              "      <td>0</td>\n",
              "      <td>0</td>\n",
              "      <td>0</td>\n",
              "      <td>0</td>\n",
              "      <td>0</td>\n",
              "      <td>0</td>\n",
              "      <td>0</td>\n",
              "      <td>0</td>\n",
              "      <td>0</td>\n",
              "      <td>0</td>\n",
              "      <td>1</td>\n",
              "      <td>0</td>\n",
              "      <td>0</td>\n",
              "      <td>0</td>\n",
              "      <td>1</td>\n",
              "      <td>0</td>\n",
              "    </tr>\n",
              "  </tbody>\n",
              "</table>\n",
              "</div>"
            ],
            "text/plain": [
              "   id_tienda tipo_tienda provincia  ... volumen_0  volumen_1  volumen_2\n",
              "0         12          FS  SAN JOSE  ...         0          1          0\n",
              "1         12          FS  SAN JOSE  ...         1          0          0\n",
              "2         12          FS  SAN JOSE  ...         0          1          0\n",
              "3         12          FS  SAN JOSE  ...         0          1          0\n",
              "4         12          FS  SAN JOSE  ...         0          1          0\n",
              "\n",
              "[5 rows x 33 columns]"
            ]
          },
          "metadata": {
            "tags": []
          },
          "execution_count": 81
        }
      ]
    },
    {
      "cell_type": "markdown",
      "metadata": {
        "id": "TvURAY4RFLK_",
        "colab_type": "text"
      },
      "source": [
        "## Normalizar features horas_operacion y pos_en_uso"
      ]
    },
    {
      "cell_type": "code",
      "metadata": {
        "id": "6kDx_GFxFLLA",
        "colab_type": "code",
        "colab": {
          "base_uri": "https://localhost:8080/",
          "height": 383
        },
        "outputId": "f0c57056-f784-4c3a-eef4-227e26343004"
      },
      "source": [
        "# Normalizando horas_operacion y pos_en_uso para el intervalo 0 a 1\n",
        "df2[\"horas_operacion\"] = df2[\"horas_operacion\"]/24\n",
        "df2[\"pos_en_uso\"] = df2[\"pos_en_uso\"]/10\n",
        "df2.head(10)"
      ],
      "execution_count": 82,
      "outputs": [
        {
          "output_type": "execute_result",
          "data": {
            "text/html": [
              "<div>\n",
              "<style scoped>\n",
              "    .dataframe tbody tr th:only-of-type {\n",
              "        vertical-align: middle;\n",
              "    }\n",
              "\n",
              "    .dataframe tbody tr th {\n",
              "        vertical-align: top;\n",
              "    }\n",
              "\n",
              "    .dataframe thead th {\n",
              "        text-align: right;\n",
              "    }\n",
              "</style>\n",
              "<table border=\"1\" class=\"dataframe\">\n",
              "  <thead>\n",
              "    <tr style=\"text-align: right;\">\n",
              "      <th></th>\n",
              "      <th>id_tienda</th>\n",
              "      <th>tipo_tienda</th>\n",
              "      <th>provincia</th>\n",
              "      <th>supervisor</th>\n",
              "      <th>semana_del_anio</th>\n",
              "      <th>es_quincena</th>\n",
              "      <th>es_feriado</th>\n",
              "      <th>horas_operacion</th>\n",
              "      <th>pos_en_uso</th>\n",
              "      <th>clientes_totales</th>\n",
              "      <th>clientes_vip</th>\n",
              "      <th>mes_del_anio_1</th>\n",
              "      <th>mes_del_anio_2</th>\n",
              "      <th>mes_del_anio_3</th>\n",
              "      <th>mes_del_anio_4</th>\n",
              "      <th>mes_del_anio_5</th>\n",
              "      <th>mes_del_anio_6</th>\n",
              "      <th>mes_del_anio_7</th>\n",
              "      <th>mes_del_anio_8</th>\n",
              "      <th>mes_del_anio_9</th>\n",
              "      <th>mes_del_anio_10</th>\n",
              "      <th>mes_del_anio_11</th>\n",
              "      <th>mes_del_anio_12</th>\n",
              "      <th>dia_de_la_semana_0</th>\n",
              "      <th>dia_de_la_semana_1</th>\n",
              "      <th>dia_de_la_semana_2</th>\n",
              "      <th>dia_de_la_semana_3</th>\n",
              "      <th>dia_de_la_semana_4</th>\n",
              "      <th>dia_de_la_semana_5</th>\n",
              "      <th>dia_de_la_semana_6</th>\n",
              "      <th>volumen_0</th>\n",
              "      <th>volumen_1</th>\n",
              "      <th>volumen_2</th>\n",
              "    </tr>\n",
              "  </thead>\n",
              "  <tbody>\n",
              "    <tr>\n",
              "      <th>0</th>\n",
              "      <td>12</td>\n",
              "      <td>FS</td>\n",
              "      <td>SAN JOSE</td>\n",
              "      <td>2015622_080</td>\n",
              "      <td>1</td>\n",
              "      <td>1</td>\n",
              "      <td>1</td>\n",
              "      <td>0.458333</td>\n",
              "      <td>0.4</td>\n",
              "      <td>210</td>\n",
              "      <td>23.0</td>\n",
              "      <td>1</td>\n",
              "      <td>0</td>\n",
              "      <td>0</td>\n",
              "      <td>0</td>\n",
              "      <td>0</td>\n",
              "      <td>0</td>\n",
              "      <td>0</td>\n",
              "      <td>0</td>\n",
              "      <td>0</td>\n",
              "      <td>0</td>\n",
              "      <td>0</td>\n",
              "      <td>0</td>\n",
              "      <td>1</td>\n",
              "      <td>0</td>\n",
              "      <td>0</td>\n",
              "      <td>0</td>\n",
              "      <td>0</td>\n",
              "      <td>0</td>\n",
              "      <td>0</td>\n",
              "      <td>0</td>\n",
              "      <td>1</td>\n",
              "      <td>0</td>\n",
              "    </tr>\n",
              "    <tr>\n",
              "      <th>1</th>\n",
              "      <td>12</td>\n",
              "      <td>FS</td>\n",
              "      <td>SAN JOSE</td>\n",
              "      <td>2015622_080</td>\n",
              "      <td>1</td>\n",
              "      <td>1</td>\n",
              "      <td>0</td>\n",
              "      <td>0.458333</td>\n",
              "      <td>0.4</td>\n",
              "      <td>306</td>\n",
              "      <td>17.0</td>\n",
              "      <td>1</td>\n",
              "      <td>0</td>\n",
              "      <td>0</td>\n",
              "      <td>0</td>\n",
              "      <td>0</td>\n",
              "      <td>0</td>\n",
              "      <td>0</td>\n",
              "      <td>0</td>\n",
              "      <td>0</td>\n",
              "      <td>0</td>\n",
              "      <td>0</td>\n",
              "      <td>0</td>\n",
              "      <td>0</td>\n",
              "      <td>1</td>\n",
              "      <td>0</td>\n",
              "      <td>0</td>\n",
              "      <td>0</td>\n",
              "      <td>0</td>\n",
              "      <td>0</td>\n",
              "      <td>1</td>\n",
              "      <td>0</td>\n",
              "      <td>0</td>\n",
              "    </tr>\n",
              "    <tr>\n",
              "      <th>2</th>\n",
              "      <td>12</td>\n",
              "      <td>FS</td>\n",
              "      <td>SAN JOSE</td>\n",
              "      <td>2015622_080</td>\n",
              "      <td>1</td>\n",
              "      <td>1</td>\n",
              "      <td>0</td>\n",
              "      <td>0.458333</td>\n",
              "      <td>0.4</td>\n",
              "      <td>203</td>\n",
              "      <td>12.0</td>\n",
              "      <td>1</td>\n",
              "      <td>0</td>\n",
              "      <td>0</td>\n",
              "      <td>0</td>\n",
              "      <td>0</td>\n",
              "      <td>0</td>\n",
              "      <td>0</td>\n",
              "      <td>0</td>\n",
              "      <td>0</td>\n",
              "      <td>0</td>\n",
              "      <td>0</td>\n",
              "      <td>0</td>\n",
              "      <td>0</td>\n",
              "      <td>0</td>\n",
              "      <td>1</td>\n",
              "      <td>0</td>\n",
              "      <td>0</td>\n",
              "      <td>0</td>\n",
              "      <td>0</td>\n",
              "      <td>0</td>\n",
              "      <td>1</td>\n",
              "      <td>0</td>\n",
              "    </tr>\n",
              "    <tr>\n",
              "      <th>3</th>\n",
              "      <td>12</td>\n",
              "      <td>FS</td>\n",
              "      <td>SAN JOSE</td>\n",
              "      <td>2015622_080</td>\n",
              "      <td>1</td>\n",
              "      <td>0</td>\n",
              "      <td>0</td>\n",
              "      <td>0.458333</td>\n",
              "      <td>0.4</td>\n",
              "      <td>192</td>\n",
              "      <td>13.0</td>\n",
              "      <td>1</td>\n",
              "      <td>0</td>\n",
              "      <td>0</td>\n",
              "      <td>0</td>\n",
              "      <td>0</td>\n",
              "      <td>0</td>\n",
              "      <td>0</td>\n",
              "      <td>0</td>\n",
              "      <td>0</td>\n",
              "      <td>0</td>\n",
              "      <td>0</td>\n",
              "      <td>0</td>\n",
              "      <td>0</td>\n",
              "      <td>0</td>\n",
              "      <td>0</td>\n",
              "      <td>1</td>\n",
              "      <td>0</td>\n",
              "      <td>0</td>\n",
              "      <td>0</td>\n",
              "      <td>0</td>\n",
              "      <td>1</td>\n",
              "      <td>0</td>\n",
              "    </tr>\n",
              "    <tr>\n",
              "      <th>4</th>\n",
              "      <td>12</td>\n",
              "      <td>FS</td>\n",
              "      <td>SAN JOSE</td>\n",
              "      <td>2015622_080</td>\n",
              "      <td>1</td>\n",
              "      <td>0</td>\n",
              "      <td>0</td>\n",
              "      <td>0.500000</td>\n",
              "      <td>0.4</td>\n",
              "      <td>229</td>\n",
              "      <td>16.0</td>\n",
              "      <td>1</td>\n",
              "      <td>0</td>\n",
              "      <td>0</td>\n",
              "      <td>0</td>\n",
              "      <td>0</td>\n",
              "      <td>0</td>\n",
              "      <td>0</td>\n",
              "      <td>0</td>\n",
              "      <td>0</td>\n",
              "      <td>0</td>\n",
              "      <td>0</td>\n",
              "      <td>0</td>\n",
              "      <td>0</td>\n",
              "      <td>0</td>\n",
              "      <td>0</td>\n",
              "      <td>0</td>\n",
              "      <td>1</td>\n",
              "      <td>0</td>\n",
              "      <td>0</td>\n",
              "      <td>0</td>\n",
              "      <td>1</td>\n",
              "      <td>0</td>\n",
              "    </tr>\n",
              "    <tr>\n",
              "      <th>5</th>\n",
              "      <td>12</td>\n",
              "      <td>FS</td>\n",
              "      <td>SAN JOSE</td>\n",
              "      <td>2015622_080</td>\n",
              "      <td>1</td>\n",
              "      <td>0</td>\n",
              "      <td>0</td>\n",
              "      <td>0.625000</td>\n",
              "      <td>0.4</td>\n",
              "      <td>225</td>\n",
              "      <td>22.0</td>\n",
              "      <td>1</td>\n",
              "      <td>0</td>\n",
              "      <td>0</td>\n",
              "      <td>0</td>\n",
              "      <td>0</td>\n",
              "      <td>0</td>\n",
              "      <td>0</td>\n",
              "      <td>0</td>\n",
              "      <td>0</td>\n",
              "      <td>0</td>\n",
              "      <td>0</td>\n",
              "      <td>0</td>\n",
              "      <td>0</td>\n",
              "      <td>0</td>\n",
              "      <td>0</td>\n",
              "      <td>0</td>\n",
              "      <td>0</td>\n",
              "      <td>1</td>\n",
              "      <td>0</td>\n",
              "      <td>0</td>\n",
              "      <td>1</td>\n",
              "      <td>0</td>\n",
              "    </tr>\n",
              "    <tr>\n",
              "      <th>6</th>\n",
              "      <td>12</td>\n",
              "      <td>FS</td>\n",
              "      <td>SAN JOSE</td>\n",
              "      <td>2015622_080</td>\n",
              "      <td>2</td>\n",
              "      <td>0</td>\n",
              "      <td>0</td>\n",
              "      <td>0.666667</td>\n",
              "      <td>0.4</td>\n",
              "      <td>224</td>\n",
              "      <td>26.0</td>\n",
              "      <td>1</td>\n",
              "      <td>0</td>\n",
              "      <td>0</td>\n",
              "      <td>0</td>\n",
              "      <td>0</td>\n",
              "      <td>0</td>\n",
              "      <td>0</td>\n",
              "      <td>0</td>\n",
              "      <td>0</td>\n",
              "      <td>0</td>\n",
              "      <td>0</td>\n",
              "      <td>0</td>\n",
              "      <td>0</td>\n",
              "      <td>0</td>\n",
              "      <td>0</td>\n",
              "      <td>0</td>\n",
              "      <td>0</td>\n",
              "      <td>0</td>\n",
              "      <td>1</td>\n",
              "      <td>0</td>\n",
              "      <td>1</td>\n",
              "      <td>0</td>\n",
              "    </tr>\n",
              "    <tr>\n",
              "      <th>7</th>\n",
              "      <td>12</td>\n",
              "      <td>FS</td>\n",
              "      <td>SAN JOSE</td>\n",
              "      <td>2015622_080</td>\n",
              "      <td>2</td>\n",
              "      <td>0</td>\n",
              "      <td>0</td>\n",
              "      <td>0.500000</td>\n",
              "      <td>0.4</td>\n",
              "      <td>179</td>\n",
              "      <td>14.0</td>\n",
              "      <td>1</td>\n",
              "      <td>0</td>\n",
              "      <td>0</td>\n",
              "      <td>0</td>\n",
              "      <td>0</td>\n",
              "      <td>0</td>\n",
              "      <td>0</td>\n",
              "      <td>0</td>\n",
              "      <td>0</td>\n",
              "      <td>0</td>\n",
              "      <td>0</td>\n",
              "      <td>0</td>\n",
              "      <td>1</td>\n",
              "      <td>0</td>\n",
              "      <td>0</td>\n",
              "      <td>0</td>\n",
              "      <td>0</td>\n",
              "      <td>0</td>\n",
              "      <td>0</td>\n",
              "      <td>0</td>\n",
              "      <td>1</td>\n",
              "      <td>0</td>\n",
              "    </tr>\n",
              "    <tr>\n",
              "      <th>8</th>\n",
              "      <td>12</td>\n",
              "      <td>FS</td>\n",
              "      <td>SAN JOSE</td>\n",
              "      <td>2015622_080</td>\n",
              "      <td>2</td>\n",
              "      <td>0</td>\n",
              "      <td>0</td>\n",
              "      <td>0.458333</td>\n",
              "      <td>0.4</td>\n",
              "      <td>268</td>\n",
              "      <td>15.0</td>\n",
              "      <td>1</td>\n",
              "      <td>0</td>\n",
              "      <td>0</td>\n",
              "      <td>0</td>\n",
              "      <td>0</td>\n",
              "      <td>0</td>\n",
              "      <td>0</td>\n",
              "      <td>0</td>\n",
              "      <td>0</td>\n",
              "      <td>0</td>\n",
              "      <td>0</td>\n",
              "      <td>0</td>\n",
              "      <td>0</td>\n",
              "      <td>1</td>\n",
              "      <td>0</td>\n",
              "      <td>0</td>\n",
              "      <td>0</td>\n",
              "      <td>0</td>\n",
              "      <td>0</td>\n",
              "      <td>0</td>\n",
              "      <td>1</td>\n",
              "      <td>0</td>\n",
              "    </tr>\n",
              "    <tr>\n",
              "      <th>9</th>\n",
              "      <td>12</td>\n",
              "      <td>FS</td>\n",
              "      <td>SAN JOSE</td>\n",
              "      <td>2015622_080</td>\n",
              "      <td>2</td>\n",
              "      <td>0</td>\n",
              "      <td>0</td>\n",
              "      <td>0.416667</td>\n",
              "      <td>0.4</td>\n",
              "      <td>215</td>\n",
              "      <td>15.0</td>\n",
              "      <td>1</td>\n",
              "      <td>0</td>\n",
              "      <td>0</td>\n",
              "      <td>0</td>\n",
              "      <td>0</td>\n",
              "      <td>0</td>\n",
              "      <td>0</td>\n",
              "      <td>0</td>\n",
              "      <td>0</td>\n",
              "      <td>0</td>\n",
              "      <td>0</td>\n",
              "      <td>0</td>\n",
              "      <td>0</td>\n",
              "      <td>0</td>\n",
              "      <td>1</td>\n",
              "      <td>0</td>\n",
              "      <td>0</td>\n",
              "      <td>0</td>\n",
              "      <td>0</td>\n",
              "      <td>0</td>\n",
              "      <td>1</td>\n",
              "      <td>0</td>\n",
              "    </tr>\n",
              "  </tbody>\n",
              "</table>\n",
              "</div>"
            ],
            "text/plain": [
              "   id_tienda tipo_tienda provincia  ... volumen_0  volumen_1  volumen_2\n",
              "0         12          FS  SAN JOSE  ...         0          1          0\n",
              "1         12          FS  SAN JOSE  ...         1          0          0\n",
              "2         12          FS  SAN JOSE  ...         0          1          0\n",
              "3         12          FS  SAN JOSE  ...         0          1          0\n",
              "4         12          FS  SAN JOSE  ...         0          1          0\n",
              "5         12          FS  SAN JOSE  ...         0          1          0\n",
              "6         12          FS  SAN JOSE  ...         0          1          0\n",
              "7         12          FS  SAN JOSE  ...         0          1          0\n",
              "8         12          FS  SAN JOSE  ...         0          1          0\n",
              "9         12          FS  SAN JOSE  ...         0          1          0\n",
              "\n",
              "[10 rows x 33 columns]"
            ]
          },
          "metadata": {
            "tags": []
          },
          "execution_count": 82
        }
      ]
    },
    {
      "cell_type": "markdown",
      "metadata": {
        "id": "vWlFdnKIFLLF",
        "colab_type": "text"
      },
      "source": [
        "## Borrar NaNs"
      ]
    },
    {
      "cell_type": "code",
      "metadata": {
        "id": "sKL3etfhFLLG",
        "colab_type": "code",
        "colab": {
          "base_uri": "https://localhost:8080/",
          "height": 72
        },
        "outputId": "e7403757-c89f-4edb-be15-126825e526ff"
      },
      "source": [
        "print (\"Shape antes: \", df2.shape)\n",
        "print (\"Hay Nans? \", df2.isnull().values.any())   #preguntar si hay NaN\n",
        "# remove NaNs\n",
        "df2 = df2.dropna()\n",
        "print (\"Shape después: \", df2.shape)"
      ],
      "execution_count": 84,
      "outputs": [
        {
          "output_type": "stream",
          "text": [
            "Shape antes:  (22623, 33)\n",
            "Hay Nans?  False\n",
            "Shape después:  (22623, 33)\n"
          ],
          "name": "stdout"
        }
      ]
    },
    {
      "cell_type": "markdown",
      "metadata": {
        "id": "jvbC5zKgveaZ",
        "colab_type": "text"
      },
      "source": [
        "## Elección de columnas (features)\n",
        "\n",
        "Para este corte se elimina todas las columnas que brindan info específica de tiendas pues solamente se analizará una tienda.\n",
        "\n",
        "La columna semana del año y mes del año no brindan mayor información en conjunto, es posible que sean redundantes por lo que probaremos removiendo una de ellas."
      ]
    },
    {
      "cell_type": "code",
      "metadata": {
        "id": "Z1-tVz3bFLKk",
        "colab_type": "code",
        "colab": {
          "base_uri": "https://localhost:8080/",
          "height": 245
        },
        "outputId": "a82f430e-28f1-4dd9-9369-353c8d38ca36"
      },
      "source": [
        "cols_to_drop = ['id_tienda', 'tipo_tienda', 'provincia', 'supervisor', 'semana_del_anio']\n",
        "\n",
        "processed = df2.drop(cols_to_drop, 1)\n",
        "print(\"Tamaño post-procesamiento:\", processed.shape)\n",
        "processed.head(5)"
      ],
      "execution_count": 87,
      "outputs": [
        {
          "output_type": "stream",
          "text": [
            "Tamaño post-procesamiento: (22623, 28)\n"
          ],
          "name": "stdout"
        },
        {
          "output_type": "execute_result",
          "data": {
            "text/html": [
              "<div>\n",
              "<style scoped>\n",
              "    .dataframe tbody tr th:only-of-type {\n",
              "        vertical-align: middle;\n",
              "    }\n",
              "\n",
              "    .dataframe tbody tr th {\n",
              "        vertical-align: top;\n",
              "    }\n",
              "\n",
              "    .dataframe thead th {\n",
              "        text-align: right;\n",
              "    }\n",
              "</style>\n",
              "<table border=\"1\" class=\"dataframe\">\n",
              "  <thead>\n",
              "    <tr style=\"text-align: right;\">\n",
              "      <th></th>\n",
              "      <th>es_quincena</th>\n",
              "      <th>es_feriado</th>\n",
              "      <th>horas_operacion</th>\n",
              "      <th>pos_en_uso</th>\n",
              "      <th>clientes_totales</th>\n",
              "      <th>clientes_vip</th>\n",
              "      <th>mes_del_anio_1</th>\n",
              "      <th>mes_del_anio_2</th>\n",
              "      <th>mes_del_anio_3</th>\n",
              "      <th>mes_del_anio_4</th>\n",
              "      <th>mes_del_anio_5</th>\n",
              "      <th>mes_del_anio_6</th>\n",
              "      <th>mes_del_anio_7</th>\n",
              "      <th>mes_del_anio_8</th>\n",
              "      <th>mes_del_anio_9</th>\n",
              "      <th>mes_del_anio_10</th>\n",
              "      <th>mes_del_anio_11</th>\n",
              "      <th>mes_del_anio_12</th>\n",
              "      <th>dia_de_la_semana_0</th>\n",
              "      <th>dia_de_la_semana_1</th>\n",
              "      <th>dia_de_la_semana_2</th>\n",
              "      <th>dia_de_la_semana_3</th>\n",
              "      <th>dia_de_la_semana_4</th>\n",
              "      <th>dia_de_la_semana_5</th>\n",
              "      <th>dia_de_la_semana_6</th>\n",
              "      <th>volumen_0</th>\n",
              "      <th>volumen_1</th>\n",
              "      <th>volumen_2</th>\n",
              "    </tr>\n",
              "  </thead>\n",
              "  <tbody>\n",
              "    <tr>\n",
              "      <th>0</th>\n",
              "      <td>1</td>\n",
              "      <td>1</td>\n",
              "      <td>0.458333</td>\n",
              "      <td>0.4</td>\n",
              "      <td>210</td>\n",
              "      <td>23.0</td>\n",
              "      <td>1</td>\n",
              "      <td>0</td>\n",
              "      <td>0</td>\n",
              "      <td>0</td>\n",
              "      <td>0</td>\n",
              "      <td>0</td>\n",
              "      <td>0</td>\n",
              "      <td>0</td>\n",
              "      <td>0</td>\n",
              "      <td>0</td>\n",
              "      <td>0</td>\n",
              "      <td>0</td>\n",
              "      <td>1</td>\n",
              "      <td>0</td>\n",
              "      <td>0</td>\n",
              "      <td>0</td>\n",
              "      <td>0</td>\n",
              "      <td>0</td>\n",
              "      <td>0</td>\n",
              "      <td>0</td>\n",
              "      <td>1</td>\n",
              "      <td>0</td>\n",
              "    </tr>\n",
              "    <tr>\n",
              "      <th>1</th>\n",
              "      <td>1</td>\n",
              "      <td>0</td>\n",
              "      <td>0.458333</td>\n",
              "      <td>0.4</td>\n",
              "      <td>306</td>\n",
              "      <td>17.0</td>\n",
              "      <td>1</td>\n",
              "      <td>0</td>\n",
              "      <td>0</td>\n",
              "      <td>0</td>\n",
              "      <td>0</td>\n",
              "      <td>0</td>\n",
              "      <td>0</td>\n",
              "      <td>0</td>\n",
              "      <td>0</td>\n",
              "      <td>0</td>\n",
              "      <td>0</td>\n",
              "      <td>0</td>\n",
              "      <td>0</td>\n",
              "      <td>1</td>\n",
              "      <td>0</td>\n",
              "      <td>0</td>\n",
              "      <td>0</td>\n",
              "      <td>0</td>\n",
              "      <td>0</td>\n",
              "      <td>1</td>\n",
              "      <td>0</td>\n",
              "      <td>0</td>\n",
              "    </tr>\n",
              "    <tr>\n",
              "      <th>2</th>\n",
              "      <td>1</td>\n",
              "      <td>0</td>\n",
              "      <td>0.458333</td>\n",
              "      <td>0.4</td>\n",
              "      <td>203</td>\n",
              "      <td>12.0</td>\n",
              "      <td>1</td>\n",
              "      <td>0</td>\n",
              "      <td>0</td>\n",
              "      <td>0</td>\n",
              "      <td>0</td>\n",
              "      <td>0</td>\n",
              "      <td>0</td>\n",
              "      <td>0</td>\n",
              "      <td>0</td>\n",
              "      <td>0</td>\n",
              "      <td>0</td>\n",
              "      <td>0</td>\n",
              "      <td>0</td>\n",
              "      <td>0</td>\n",
              "      <td>1</td>\n",
              "      <td>0</td>\n",
              "      <td>0</td>\n",
              "      <td>0</td>\n",
              "      <td>0</td>\n",
              "      <td>0</td>\n",
              "      <td>1</td>\n",
              "      <td>0</td>\n",
              "    </tr>\n",
              "    <tr>\n",
              "      <th>3</th>\n",
              "      <td>0</td>\n",
              "      <td>0</td>\n",
              "      <td>0.458333</td>\n",
              "      <td>0.4</td>\n",
              "      <td>192</td>\n",
              "      <td>13.0</td>\n",
              "      <td>1</td>\n",
              "      <td>0</td>\n",
              "      <td>0</td>\n",
              "      <td>0</td>\n",
              "      <td>0</td>\n",
              "      <td>0</td>\n",
              "      <td>0</td>\n",
              "      <td>0</td>\n",
              "      <td>0</td>\n",
              "      <td>0</td>\n",
              "      <td>0</td>\n",
              "      <td>0</td>\n",
              "      <td>0</td>\n",
              "      <td>0</td>\n",
              "      <td>0</td>\n",
              "      <td>1</td>\n",
              "      <td>0</td>\n",
              "      <td>0</td>\n",
              "      <td>0</td>\n",
              "      <td>0</td>\n",
              "      <td>1</td>\n",
              "      <td>0</td>\n",
              "    </tr>\n",
              "    <tr>\n",
              "      <th>4</th>\n",
              "      <td>0</td>\n",
              "      <td>0</td>\n",
              "      <td>0.500000</td>\n",
              "      <td>0.4</td>\n",
              "      <td>229</td>\n",
              "      <td>16.0</td>\n",
              "      <td>1</td>\n",
              "      <td>0</td>\n",
              "      <td>0</td>\n",
              "      <td>0</td>\n",
              "      <td>0</td>\n",
              "      <td>0</td>\n",
              "      <td>0</td>\n",
              "      <td>0</td>\n",
              "      <td>0</td>\n",
              "      <td>0</td>\n",
              "      <td>0</td>\n",
              "      <td>0</td>\n",
              "      <td>0</td>\n",
              "      <td>0</td>\n",
              "      <td>0</td>\n",
              "      <td>0</td>\n",
              "      <td>1</td>\n",
              "      <td>0</td>\n",
              "      <td>0</td>\n",
              "      <td>0</td>\n",
              "      <td>1</td>\n",
              "      <td>0</td>\n",
              "    </tr>\n",
              "  </tbody>\n",
              "</table>\n",
              "</div>"
            ],
            "text/plain": [
              "   es_quincena es_feriado  horas_operacion  ...  volumen_0  volumen_1  volumen_2\n",
              "0            1          1         0.458333  ...          0          1          0\n",
              "1            1          0         0.458333  ...          1          0          0\n",
              "2            1          0         0.458333  ...          0          1          0\n",
              "3            0          0         0.458333  ...          0          1          0\n",
              "4            0          0         0.500000  ...          0          1          0\n",
              "\n",
              "[5 rows x 28 columns]"
            ]
          },
          "metadata": {
            "tags": []
          },
          "execution_count": 87
        }
      ]
    },
    {
      "cell_type": "markdown",
      "metadata": {
        "id": "GvNWa29hFLLM",
        "colab_type": "text"
      },
      "source": [
        "# Inicia el trabajo con los modelos elegidos, que serán:\n",
        "   **DecisionTree**\n",
        "\n",
        "   **RandomForest**\n",
        "   \n",
        "   **Redes Neuronales ANN**"
      ]
    },
    {
      "cell_type": "code",
      "metadata": {
        "id": "na0sN9BctRCh",
        "colab_type": "code",
        "colab": {}
      },
      "source": [
        "# Splitting the data input into X, and the labels y \n",
        "X = np.array(processed_data)[:,0:18]\n",
        "X = X.astype('float32')\n",
        "y = keras.utils.to_categorical(data[\"volumen\"],3)"
      ],
      "execution_count": 0,
      "outputs": []
    },
    {
      "cell_type": "markdown",
      "metadata": {
        "id": "ePdZrcnUFLLO",
        "colab_type": "text"
      },
      "source": [
        "Determinar cuáles columnas son features y cuáles labels.\n",
        "\n",
        "En este caso las clases están dadas por \"volumen\" que indica si es un día alto volumen (cantidad de clientes), medio o bajo"
      ]
    },
    {
      "cell_type": "code",
      "metadata": {
        "id": "adtiFLHUFLLO",
        "colab_type": "code",
        "colab": {},
        "outputId": "548495e5-1c1f-4a15-8b31-3149af16b88f"
      },
      "source": [
        "\n",
        "# Splitting the data input into X, and the labels y \n",
        "features = np.array(processed_data)[:,0:18]\n",
        "features = features.astype('float32')\n",
        "labels = keras.utils.to_categorical(data[\"volumen\"],3)\n",
        "\n",
        "print(\"Shape of features:\", features.shape)\n",
        "print(\"\\nShape of labels:\", labels.shape)\n",
        "print(\"\\nFirst 5 rows of features\")\n",
        "print(features[:5])\n",
        "print(\"\\nFirst 5 rows of labels\")\n",
        "print(labels[:5])\n",
        "\n"
      ],
      "execution_count": 0,
      "outputs": [
        {
          "output_type": "stream",
          "text": [
            "Shape of features: (22633, 18)\n",
            "\n",
            "Shape of labels: (22633, 3)\n",
            "\n",
            "First 5 rows of features\n",
            "[[0.45833334 0.4        1.         0.         0.         1.\n",
            "  0.         0.         0.         0.         0.         1.\n",
            "  0.         0.         0.         0.         0.         0.        ]\n",
            " [0.45833334 0.4        1.         0.         0.         1.\n",
            "  0.         0.         0.         0.         0.         0.\n",
            "  1.         0.         0.         0.         0.         0.        ]\n",
            " [0.45833334 0.4        1.         0.         0.         1.\n",
            "  0.         0.         0.         0.         0.         0.\n",
            "  0.         1.         0.         0.         0.         0.        ]\n",
            " [0.45833334 0.4        1.         0.         0.         1.\n",
            "  0.         0.         0.         0.         0.         0.\n",
            "  0.         0.         1.         0.         0.         0.        ]\n",
            " [0.5        0.4        1.         0.         0.         1.\n",
            "  0.         0.         0.         0.         0.         0.\n",
            "  0.         0.         0.         1.         0.         0.        ]]\n",
            "\n",
            "First 5 rows of labels\n",
            "[[0. 1. 0.]\n",
            " [1. 0. 0.]\n",
            " [0. 1. 0.]\n",
            " [0. 1. 0.]\n",
            " [0. 1. 0.]]\n"
          ],
          "name": "stdout"
        }
      ]
    },
    {
      "cell_type": "markdown",
      "metadata": {
        "id": "Scck3biGFLLS",
        "colab_type": "text"
      },
      "source": [
        "Separa set de entrenamiento y set de pruebas\n",
        "Con una proporción 75% - 25%"
      ]
    },
    {
      "cell_type": "code",
      "metadata": {
        "id": "9QeXNVU0FLLT",
        "colab_type": "code",
        "colab": {}
      },
      "source": [
        "X_train,X_test, y_train, y_test = train_test_split(features, labels, test_size=0.25, random_state = 13) "
      ],
      "execution_count": 0,
      "outputs": []
    },
    {
      "cell_type": "code",
      "metadata": {
        "id": "Ibun_09vFLLX",
        "colab_type": "code",
        "colab": {},
        "outputId": "3b597ea9-5d2a-4bab-d381-d63757f4a069"
      },
      "source": [
        "print (\"shape del dataset completo: \", processed_data.shape)\n",
        "print (\"\\nshape del set de entrenamiento: \", X_train.shape)\n",
        "print (\"\\nshape del set de pruebas: \", y_test.shape)"
      ],
      "execution_count": 0,
      "outputs": [
        {
          "output_type": "stream",
          "text": [
            "shape del dataset completo:  (22633, 21)\n",
            "\n",
            "shape del set de entrenamiento:  (16974, 18)\n",
            "\n",
            "shape del set de pruebas:  (5659, 3)\n"
          ],
          "name": "stdout"
        }
      ]
    },
    {
      "cell_type": "markdown",
      "metadata": {
        "id": "Ext_dZyMFLLZ",
        "colab_type": "text"
      },
      "source": [
        "## Modelo clasificador usando DecisionTree"
      ]
    },
    {
      "cell_type": "code",
      "metadata": {
        "id": "bBlKE9gyFLLa",
        "colab_type": "code",
        "colab": {},
        "outputId": "8d531142-4062-42fa-f45f-df7778ed1014"
      },
      "source": [
        "DecisionTreeModel = DecisionTreeClassifier(max_depth=10,min_samples_leaf=12)\n",
        "\n",
        "#entrenamiento\n",
        "print(DecisionTreeModel.fit(X_train, y_train))\n",
        "\n",
        "#prediccion (usar datos de test)\n",
        "y_predict = DecisionTreeModel.predict(X_test)\n",
        "\n",
        "print(\"\\nAccuracy para DecisionTree: {:.4f}\".format(accuracy_score(y_test, y_predict)))"
      ],
      "execution_count": 0,
      "outputs": [
        {
          "output_type": "stream",
          "text": [
            "DecisionTreeClassifier(class_weight=None, criterion='gini', max_depth=10,\n",
            "                       max_features=None, max_leaf_nodes=None,\n",
            "                       min_impurity_decrease=0.0, min_impurity_split=None,\n",
            "                       min_samples_leaf=12, min_samples_split=2,\n",
            "                       min_weight_fraction_leaf=0.0, presort=False,\n",
            "                       random_state=None, splitter='best')\n",
            "\n",
            "Accuracy para DecisionTree: 0.8597\n"
          ],
          "name": "stdout"
        }
      ]
    },
    {
      "cell_type": "markdown",
      "metadata": {
        "id": "vBjoqbX1FLLe",
        "colab_type": "text"
      },
      "source": [
        "## Modelo clasificador usando RandomForest"
      ]
    },
    {
      "cell_type": "code",
      "metadata": {
        "scrolled": true,
        "id": "IaWT_NPrFLLe",
        "colab_type": "code",
        "colab": {},
        "outputId": "e2904934-d24c-40cf-974c-79aff148682b"
      },
      "source": [
        "RandomForestModel = RandomForestClassifier(min_samples_leaf=3, min_samples_split=10, n_estimators=290, max_depth = 14, random_state = 10)\n",
        "\n",
        "#entrenamiento\n",
        "print(RandomForestModel.fit(X_train, y_train))\n",
        "\n",
        "#prediccion (usar datos de test)\n",
        "y_predict = RandomForestModel.predict(X_test)\n",
        "\n",
        "print(\"\\nAccuracy para Random Forest:     {:.4f}\".format(accuracy_score(y_test, y_predict)))"
      ],
      "execution_count": 0,
      "outputs": [
        {
          "output_type": "stream",
          "text": [
            "RandomForestClassifier(bootstrap=True, class_weight=None, criterion='gini',\n",
            "                       max_depth=14, max_features='auto', max_leaf_nodes=None,\n",
            "                       min_impurity_decrease=0.0, min_impurity_split=None,\n",
            "                       min_samples_leaf=3, min_samples_split=10,\n",
            "                       min_weight_fraction_leaf=0.0, n_estimators=290,\n",
            "                       n_jobs=None, oob_score=False, random_state=10, verbose=0,\n",
            "                       warm_start=False)\n",
            "\n",
            "Accuracy para Random Forest:     0.8669\n"
          ],
          "name": "stdout"
        }
      ]
    },
    {
      "cell_type": "markdown",
      "metadata": {
        "id": "mHDHQuigFLLh",
        "colab_type": "text"
      },
      "source": [
        "### Podríamos decir que Random Forest tuvo el mejor score que Decision Tree (86.69% vrs 85.97)"
      ]
    },
    {
      "cell_type": "markdown",
      "metadata": {
        "id": "DS-s6eVeFLLj",
        "colab_type": "text"
      },
      "source": [
        "### Mejores resultados para DecisionTree"
      ]
    },
    {
      "cell_type": "markdown",
      "metadata": {
        "id": "Bc_CAlIKFLLk",
        "colab_type": "text"
      },
      "source": [
        "Método | Features | Profundidad Max | Resultado | Mejores resultados\n",
        "------------ | ------------- | ------------- | ------------- | ------------- \n",
        "DT | 7 | 5| 78.95% | \n",
        "DT | 7 | 9 | 85.97% | \n",
        "DT | 7 | 12 | 86.08% | \n",
        "DT | 7 | 13 | 86.15% |  ** mejor en v1\n",
        "-- | -- | -- | -- | \n",
        "DT | 5 | 3 | 77.38% | \n",
        "DT | 5 | 8 | 84.94% | \n",
        "DT | 5 | 10 | 85.97% | ** mejor en v2\n",
        "DT | 5 | 12 | 85.65% | "
      ]
    },
    {
      "cell_type": "markdown",
      "metadata": {
        "id": "VoKBRmhnFLLk",
        "colab_type": "text"
      },
      "source": [
        "### Mejores resultados para RandomForest"
      ]
    },
    {
      "cell_type": "markdown",
      "metadata": {
        "id": "pn__TGGlFLLn",
        "colab_type": "text"
      },
      "source": [
        "Método | Features | Leaf | Split | Estimators | Profundidad Max | Resultado  | Mejores resultados\n",
        "------------ | ------------- | ------------- | -------------  | -------------  | -------------  | -------------  | ------------- \n",
        "RF | 7 | 3 | 17 | 290 | None | 86.46% |  ** mejor en v1\n",
        "RF | 7 | 3 | 10 | 290 | 14 | 86.22% | \n",
        "RF | 7 | 3 | 13 | 290 | 15 | 86.38% |\n",
        "-- | -- | -- | -- |  -- |  -- |  -- |\n",
        "RF | 5 | 3 | 10 | 290 | None | 86.62% |\n",
        "RF | 5 | 3 | 10 | 290 | 14 | 86.69% | ** mejor en v2\n",
        "RF | 5 | 3 | 10 | 300 | None | 86.61% | \n",
        "RF | 5 | 5 | 10 | 300 | None | 86.46% | \n",
        "RF | 5 | 10 | 10 | 300 | None | 86.43% |\n",
        "\n"
      ]
    },
    {
      "cell_type": "markdown",
      "metadata": {
        "id": "yAhuj2cjFLLn",
        "colab_type": "text"
      },
      "source": [
        "## Modelo clasificador usando Redes Neuronales"
      ]
    },
    {
      "cell_type": "code",
      "metadata": {
        "id": "hgUdw8LaFLLo",
        "colab_type": "code",
        "colab": {}
      },
      "source": [
        "#FALTA..."
      ],
      "execution_count": 0,
      "outputs": []
    },
    {
      "cell_type": "code",
      "metadata": {
        "id": "2DQdib_YFLLs",
        "colab_type": "code",
        "colab": {}
      },
      "source": [
        ""
      ],
      "execution_count": 0,
      "outputs": []
    }
  ]
}