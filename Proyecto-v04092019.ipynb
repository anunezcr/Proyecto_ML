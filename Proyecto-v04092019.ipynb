{
  "nbformat": 4,
  "nbformat_minor": 0,
  "metadata": {
    "kernelspec": {
      "display_name": "Python 3",
      "language": "python",
      "name": "python3"
    },
    "language_info": {
      "codemirror_mode": {
        "name": "ipython",
        "version": 3
      },
      "file_extension": ".py",
      "mimetype": "text/x-python",
      "name": "python",
      "nbconvert_exporter": "python",
      "pygments_lexer": "ipython3",
      "version": "3.7.3"
    },
    "colab": {
      "name": "Proyecto-v1.ipynb",
      "version": "0.3.2",
      "provenance": []
    }
  },
  "cells": [
    {
      "cell_type": "markdown",
      "metadata": {
        "id": "j6LXO3nnFLKI",
        "colab_type": "text"
      },
      "source": [
        "# Curso: Aprendizaje Automático - Proyecto final (preliminar al 4 Sept)\n",
        "## Alonso Nuñez / Sergio Castillo\n",
        "## Fecha de entrega: 9 setiembre 2019"
      ]
    },
    {
      "cell_type": "markdown",
      "metadata": {
        "id": "q1N7KHJcFLKM",
        "colab_type": "text"
      },
      "source": [
        "## Importar dependencias y cargar el dataset\n",
        "## Para pruebas cargar dataset de una sucursal (10 años) o de todas las sucursales (1 año)"
      ]
    },
    {
      "cell_type": "code",
      "metadata": {
        "id": "oZW-YzEXFLKP",
        "colab_type": "code",
        "colab": {}
      },
      "source": [
        "import numpy as np\n",
        "import pandas as pd\n",
        "import matplotlib.pyplot as plt\n",
        "\n",
        "from sklearn.model_selection import train_test_split\n",
        "from sklearn.tree import DecisionTreeClassifier\n",
        "from sklearn.ensemble import RandomForestClassifier\n",
        "from sklearn.svm import SVC\n",
        "from sklearn.ensemble import GradientBoostingClassifier\n",
        "from sklearn.ensemble import VotingClassifier\n",
        "from sklearn.metrics import accuracy_score\n",
        "\n",
        "import keras\n",
        "from keras.utils import np_utils\n",
        "\n",
        "data =  pd.read_csv('https://raw.githubusercontent.com/anunezcr/datasets/master/clientes_diarios_clasif_unaSucursal.csv')\n",
        "#data =  pd.read_csv('https://raw.githubusercontent.com/anunezcr/datasets/master/clientes_diarios_clasif_todasSucursales.csv')"
      ],
      "execution_count": 0,
      "outputs": []
    },
    {
      "cell_type": "markdown",
      "metadata": {
        "id": "8Ri4ssMnFLKX",
        "colab_type": "text"
      },
      "source": [
        "# EDA\n",
        "## Revisar el tamaño del data set y ver algunas instancias:"
      ]
    },
    {
      "cell_type": "code",
      "metadata": {
        "id": "qC4G3fkkFLKY",
        "colab_type": "code",
        "outputId": "18355077-af8e-4078-dcba-efe292e275b3",
        "colab": {
          "base_uri": "https://localhost:8080/",
          "height": 227
        }
      },
      "source": [
        "print(\"Dimensiones:\", data.shape)\n",
        "data.head(5)"
      ],
      "execution_count": 16,
      "outputs": [
        {
          "output_type": "stream",
          "text": [
            "Dimensiones: (3652, 16)\n"
          ],
          "name": "stdout"
        },
        {
          "output_type": "execute_result",
          "data": {
            "text/html": [
              "<div>\n",
              "<style scoped>\n",
              "    .dataframe tbody tr th:only-of-type {\n",
              "        vertical-align: middle;\n",
              "    }\n",
              "\n",
              "    .dataframe tbody tr th {\n",
              "        vertical-align: top;\n",
              "    }\n",
              "\n",
              "    .dataframe thead th {\n",
              "        text-align: right;\n",
              "    }\n",
              "</style>\n",
              "<table border=\"1\" class=\"dataframe\">\n",
              "  <thead>\n",
              "    <tr style=\"text-align: right;\">\n",
              "      <th></th>\n",
              "      <th>id_tienda</th>\n",
              "      <th>tipo_tienda</th>\n",
              "      <th>provincia</th>\n",
              "      <th>supervisor</th>\n",
              "      <th>fecha</th>\n",
              "      <th>dia_del_mes</th>\n",
              "      <th>mes_del_anio</th>\n",
              "      <th>semana_del_anio</th>\n",
              "      <th>es_quincena</th>\n",
              "      <th>es_feriado</th>\n",
              "      <th>dia_de_la_semana</th>\n",
              "      <th>horas_operacion</th>\n",
              "      <th>pos_en_uso</th>\n",
              "      <th>clientes_totales</th>\n",
              "      <th>clientes_vip</th>\n",
              "      <th>volumen</th>\n",
              "    </tr>\n",
              "  </thead>\n",
              "  <tbody>\n",
              "    <tr>\n",
              "      <th>0</th>\n",
              "      <td>xyz</td>\n",
              "      <td>FS</td>\n",
              "      <td>SAN JOSE</td>\n",
              "      <td>2015622_080</td>\n",
              "      <td>01/01/2009</td>\n",
              "      <td>1</td>\n",
              "      <td>1</td>\n",
              "      <td>1</td>\n",
              "      <td>VERDADERO</td>\n",
              "      <td>Anio Nuevo</td>\n",
              "      <td>Jueves</td>\n",
              "      <td>17.0</td>\n",
              "      <td>6.0</td>\n",
              "      <td>385.0</td>\n",
              "      <td>167.0</td>\n",
              "      <td>medio</td>\n",
              "    </tr>\n",
              "    <tr>\n",
              "      <th>1</th>\n",
              "      <td>xyz</td>\n",
              "      <td>FS</td>\n",
              "      <td>SAN JOSE</td>\n",
              "      <td>2015622_080</td>\n",
              "      <td>02/01/2009</td>\n",
              "      <td>2</td>\n",
              "      <td>1</td>\n",
              "      <td>1</td>\n",
              "      <td>VERDADERO</td>\n",
              "      <td>NO</td>\n",
              "      <td>Viernes</td>\n",
              "      <td>19.0</td>\n",
              "      <td>7.0</td>\n",
              "      <td>400.0</td>\n",
              "      <td>147.0</td>\n",
              "      <td>medio</td>\n",
              "    </tr>\n",
              "    <tr>\n",
              "      <th>2</th>\n",
              "      <td>xyz</td>\n",
              "      <td>FS</td>\n",
              "      <td>SAN JOSE</td>\n",
              "      <td>2015622_080</td>\n",
              "      <td>03/01/2009</td>\n",
              "      <td>3</td>\n",
              "      <td>1</td>\n",
              "      <td>1</td>\n",
              "      <td>VERDADERO</td>\n",
              "      <td>NO</td>\n",
              "      <td>Sabado</td>\n",
              "      <td>20.0</td>\n",
              "      <td>6.0</td>\n",
              "      <td>409.0</td>\n",
              "      <td>166.0</td>\n",
              "      <td>medio</td>\n",
              "    </tr>\n",
              "    <tr>\n",
              "      <th>3</th>\n",
              "      <td>xyz</td>\n",
              "      <td>FS</td>\n",
              "      <td>SAN JOSE</td>\n",
              "      <td>2015622_080</td>\n",
              "      <td>04/01/2009</td>\n",
              "      <td>4</td>\n",
              "      <td>1</td>\n",
              "      <td>2</td>\n",
              "      <td>FALSO</td>\n",
              "      <td>NO</td>\n",
              "      <td>Domingo</td>\n",
              "      <td>19.0</td>\n",
              "      <td>6.0</td>\n",
              "      <td>455.0</td>\n",
              "      <td>185.0</td>\n",
              "      <td>medio</td>\n",
              "    </tr>\n",
              "    <tr>\n",
              "      <th>4</th>\n",
              "      <td>xyz</td>\n",
              "      <td>FS</td>\n",
              "      <td>SAN JOSE</td>\n",
              "      <td>2015622_080</td>\n",
              "      <td>05/01/2009</td>\n",
              "      <td>5</td>\n",
              "      <td>1</td>\n",
              "      <td>2</td>\n",
              "      <td>FALSO</td>\n",
              "      <td>NO</td>\n",
              "      <td>Lunes</td>\n",
              "      <td>19.0</td>\n",
              "      <td>7.0</td>\n",
              "      <td>301.0</td>\n",
              "      <td>83.0</td>\n",
              "      <td>medio</td>\n",
              "    </tr>\n",
              "  </tbody>\n",
              "</table>\n",
              "</div>"
            ],
            "text/plain": [
              "  id_tienda tipo_tienda provincia  ... clientes_totales clientes_vip  volumen\n",
              "0       xyz          FS  SAN JOSE  ...            385.0        167.0    medio\n",
              "1       xyz          FS  SAN JOSE  ...            400.0        147.0    medio\n",
              "2       xyz          FS  SAN JOSE  ...            409.0        166.0    medio\n",
              "3       xyz          FS  SAN JOSE  ...            455.0        185.0    medio\n",
              "4       xyz          FS  SAN JOSE  ...            301.0         83.0    medio\n",
              "\n",
              "[5 rows x 16 columns]"
            ]
          },
          "metadata": {
            "tags": []
          },
          "execution_count": 16
        }
      ]
    },
    {
      "cell_type": "markdown",
      "metadata": {
        "id": "8PLbXLwXX3ZM",
        "colab_type": "text"
      },
      "source": [
        "## Validaciones de valores en columnas"
      ]
    },
    {
      "cell_type": "code",
      "metadata": {
        "id": "Z-cOduUvX1G9",
        "colab_type": "code",
        "outputId": "ef37d7fd-2df5-46ea-887a-4f2de05ada27",
        "colab": {
          "base_uri": "https://localhost:8080/",
          "height": 277
        }
      },
      "source": [
        "print(\"Valores distintos de la columna es quincena:\")\n",
        "print(data.es_quincena.unique())\n",
        "print(\"\\nValores distintos de la columna es feriado:\")\n",
        "print(data.es_feriado.unique())\n",
        "print(\"\\nValores distintos de la columna dia de la semana:\")\n",
        "print(data.dia_de_la_semana.unique())\n",
        "print(\"\\nValores distintos de la columna volumen:\")\n",
        "print(data.volumen.unique())"
      ],
      "execution_count": 3,
      "outputs": [
        {
          "output_type": "stream",
          "text": [
            "Valores distintos de la columna es quincena:\n",
            "[' VERDADERO ' ' FALSO ']\n",
            "\n",
            "Valores distintos de la columna es feriado:\n",
            "[' Anio Nuevo ' ' NO ' ' Jueves Santo ' ' Viernes Santo ' ' Sabado Santo '\n",
            " ' Dia del Trabajo ' ' Anexion del Partido de Nicoya a Costa Rica '\n",
            " ' Dia de la Virgen de los angeles ' ' Dia de la Madre '\n",
            " ' Dia de la Independencia ' ' Dia de las Culturas ' ' Dia de Navidad '\n",
            " ' Fiesta de Fin de Anio ' ' Dia de Juan Santamaria '\n",
            " ' Dia de las Culturas - Dia Feriado ']\n",
            "\n",
            "Valores distintos de la columna dia de la semana:\n",
            "['Jueves' 'Viernes' 'Sabado' 'Domingo' 'Lunes' 'Martes' 'Miercoles' nan]\n",
            "\n",
            "Valores distintos de la columna volumen:\n",
            "['medio' 'alto' 'bajo' nan]\n"
          ],
          "name": "stdout"
        }
      ]
    },
    {
      "cell_type": "markdown",
      "metadata": {
        "id": "-bYAIi5HFLKd",
        "colab_type": "text"
      },
      "source": [
        "## Visualización de datos"
      ]
    },
    {
      "cell_type": "code",
      "metadata": {
        "id": "oBHskhtGcu9T",
        "colab_type": "code",
        "outputId": "00f06583-36a1-4515-8c70-5fda052ca69f",
        "colab": {
          "base_uri": "https://localhost:8080/",
          "height": 492
        }
      },
      "source": [
        "print(\"Distribución de los valores en columna horas operacion:\")\n",
        "data.groupby('horas_operacion')['horas_operacion'].count().plot(kind = \"bar\", figsize = (10, 7))"
      ],
      "execution_count": 4,
      "outputs": [
        {
          "output_type": "stream",
          "text": [
            "Distribución de los valores en columna horas operacion:\n"
          ],
          "name": "stdout"
        },
        {
          "output_type": "execute_result",
          "data": {
            "text/plain": [
              "<matplotlib.axes._subplots.AxesSubplot at 0x7fdd90301a58>"
            ]
          },
          "metadata": {
            "tags": []
          },
          "execution_count": 4
        },
        {
          "output_type": "display_data",
          "data": {
            "image/png": "[encoded data removed]",
            "text/plain": [
              "<Figure size 720x504 with 1 Axes>"
            ]
          },
          "metadata": {
            "tags": []
          }
        }
      ]
    },
    {
      "cell_type": "code",
      "metadata": {
        "id": "0If3kx-sdtn9",
        "colab_type": "code",
        "outputId": "34b060ae-c946-4193-80e8-2bc69099d662",
        "colab": {
          "base_uri": "https://localhost:8080/",
          "height": 485
        }
      },
      "source": [
        "print(\"Distribución de los valores en columna pos en uso:\")\n",
        "data.groupby('pos_en_uso')['pos_en_uso'].count().plot(kind = \"bar\", figsize = (10, 7))"
      ],
      "execution_count": 5,
      "outputs": [
        {
          "output_type": "stream",
          "text": [
            "Distribución de los valores en columna pos en uso:\n"
          ],
          "name": "stdout"
        },
        {
          "output_type": "execute_result",
          "data": {
            "text/plain": [
              "<matplotlib.axes._subplots.AxesSubplot at 0x7fdd8d9eed30>"
            ]
          },
          "metadata": {
            "tags": []
          },
          "execution_count": 5
        },
        {
          "output_type": "display_data",
          "data": {
            "image/png": "[encoded data removed]",
            "text/plain": [
              "<Figure size 720x504 with 1 Axes>"
            ]
          },
          "metadata": {
            "tags": []
          }
        }
      ]
    },
    {
      "cell_type": "markdown",
      "metadata": {
        "id": "a_KOQZ7XeTYk",
        "colab_type": "text"
      },
      "source": [
        "# TODO?"
      ]
    },
    {
      "cell_type": "code",
      "metadata": {
        "id": "du3G-n6-FLKf",
        "colab_type": "code",
        "outputId": "86b26c0e-d8fc-452b-f62f-ee2b8003fbd2",
        "colab": {
          "base_uri": "https://localhost:8080/",
          "height": 302
        }
      },
      "source": [
        "import matplotlib.pyplot as plt\n",
        "%matplotlib inline\n",
        "plt.style.use('ggplot')\n",
        "\n",
        "import numpy as np\n",
        "def plot_points(data):\n",
        "    X = np.array(data[[\"horas_operacion\", \"pos_en_uso\"]])\n",
        "    y = np.array(data[\"volumen\"])\n",
        "    alto = X[np.argwhere(y == \"alto\")]\n",
        "    bajo = X[np.argwhere(y == \"medio\")]\n",
        "    plt.scatter([s[0][0] for s in bajo], [s[0][1] for s in bajo], s = 25, color = 'red', edgecolor = 'k')\n",
        "    plt.scatter([s[0][0] for s in alto], [s[0][1] for s in alto], s = 25, color = 'cyan', edgecolor = 'k')\n",
        "    plt.xlabel('Horas')\n",
        "    plt.ylabel('Cant. POS')\n",
        "    \n",
        "plot_points(data)\n",
        "print(\"TODO\") #TODO Que representa este grafico?\n",
        "plt.show()"
      ],
      "execution_count": 6,
      "outputs": [
        {
          "output_type": "stream",
          "text": [
            "TODO\n"
          ],
          "name": "stdout"
        },
        {
          "output_type": "display_data",
          "data": {
            "image/png": "[encoded data removed]",
            "text/plain": [
              "<Figure size 432x288 with 1 Axes>"
            ]
          },
          "metadata": {
            "tags": []
          }
        }
      ]
    },
    {
      "cell_type": "markdown",
      "metadata": {
        "id": "1HtQFndWFLKp",
        "colab_type": "text"
      },
      "source": [
        "# Pre-Procesado"
      ]
    },
    {
      "cell_type": "markdown",
      "metadata": {
        "id": "3hkBcbGWFLKq",
        "colab_type": "text"
      },
      "source": [
        "## Convertir features de texto en numéricos (pero aún categóricos)"
      ]
    },
    {
      "cell_type": "code",
      "metadata": {
        "id": "viDDnoqiFLKs",
        "colab_type": "code",
        "colab": {}
      },
      "source": [
        "df = data.copy()  #Creamos una copia para mantener el DF original intacto\n",
        "df['dia_de_la_semana'] = data['dia_de_la_semana'].replace(\n",
        "    {'Lunes' : 0, 'Martes' : 1, 'Miercoles' : 2, 'Jueves' : 3, 'Viernes' : 4, 'Sabado' : 5, 'Domingo' : 6}\n",
        ")\n",
        "df['volumen'] = data['volumen'].replace({'alto' : 0, 'medio' : 1, 'bajo' : 2})\n",
        "df['es_quincena'] = data['es_quincena'].replace({' VERDADERO ' : 1, ' FALSO ' : 0})"
      ],
      "execution_count": 0,
      "outputs": []
    },
    {
      "cell_type": "code",
      "metadata": {
        "id": "BWXT-l-9ikTa",
        "colab_type": "code",
        "outputId": "654680db-1844-427f-ba2b-3160f696ba30",
        "colab": {
          "base_uri": "https://localhost:8080/",
          "height": 371
        }
      },
      "source": [
        "#Este caso especial primero cambiamos la palabra NO por un 0 y luego cambiamos cualquier otro valor por un 1\n",
        "df['es_feriado'] = data['es_feriado'].replace({' NO ': 0})\n",
        "df['es_feriado'] = df['es_feriado'].where(df['es_feriado'] == 0, other = 1)\n",
        "df['es_feriado'].head(5)\n",
        "print(\"Verificar resultado final:\")\n",
        "df.head(10)"
      ],
      "execution_count": 8,
      "outputs": [
        {
          "output_type": "stream",
          "text": [
            "Verificar resultado final:\n"
          ],
          "name": "stdout"
        },
        {
          "output_type": "execute_result",
          "data": {
            "text/html": [
              "<div>\n",
              "<style scoped>\n",
              "    .dataframe tbody tr th:only-of-type {\n",
              "        vertical-align: middle;\n",
              "    }\n",
              "\n",
              "    .dataframe tbody tr th {\n",
              "        vertical-align: top;\n",
              "    }\n",
              "\n",
              "    .dataframe thead th {\n",
              "        text-align: right;\n",
              "    }\n",
              "</style>\n",
              "<table border=\"1\" class=\"dataframe\">\n",
              "  <thead>\n",
              "    <tr style=\"text-align: right;\">\n",
              "      <th></th>\n",
              "      <th>id_tienda</th>\n",
              "      <th>tipo_tienda</th>\n",
              "      <th>provincia</th>\n",
              "      <th>supervisor</th>\n",
              "      <th>fecha</th>\n",
              "      <th>dia_del_mes</th>\n",
              "      <th>mes_del_anio</th>\n",
              "      <th>semana_del_anio</th>\n",
              "      <th>es_quincena</th>\n",
              "      <th>es_feriado</th>\n",
              "      <th>dia_de_la_semana</th>\n",
              "      <th>horas_operacion</th>\n",
              "      <th>pos_en_uso</th>\n",
              "      <th>clientes_totales</th>\n",
              "      <th>clientes_vip</th>\n",
              "      <th>volumen</th>\n",
              "    </tr>\n",
              "  </thead>\n",
              "  <tbody>\n",
              "    <tr>\n",
              "      <th>0</th>\n",
              "      <td>xyz</td>\n",
              "      <td>FS</td>\n",
              "      <td>SAN JOSE</td>\n",
              "      <td>2015622_080</td>\n",
              "      <td>01/01/2009</td>\n",
              "      <td>1</td>\n",
              "      <td>1</td>\n",
              "      <td>1</td>\n",
              "      <td>1</td>\n",
              "      <td>1</td>\n",
              "      <td>3.0</td>\n",
              "      <td>17.0</td>\n",
              "      <td>6.0</td>\n",
              "      <td>385.0</td>\n",
              "      <td>167.0</td>\n",
              "      <td>1.0</td>\n",
              "    </tr>\n",
              "    <tr>\n",
              "      <th>1</th>\n",
              "      <td>xyz</td>\n",
              "      <td>FS</td>\n",
              "      <td>SAN JOSE</td>\n",
              "      <td>2015622_080</td>\n",
              "      <td>02/01/2009</td>\n",
              "      <td>2</td>\n",
              "      <td>1</td>\n",
              "      <td>1</td>\n",
              "      <td>1</td>\n",
              "      <td>0</td>\n",
              "      <td>4.0</td>\n",
              "      <td>19.0</td>\n",
              "      <td>7.0</td>\n",
              "      <td>400.0</td>\n",
              "      <td>147.0</td>\n",
              "      <td>1.0</td>\n",
              "    </tr>\n",
              "    <tr>\n",
              "      <th>2</th>\n",
              "      <td>xyz</td>\n",
              "      <td>FS</td>\n",
              "      <td>SAN JOSE</td>\n",
              "      <td>2015622_080</td>\n",
              "      <td>03/01/2009</td>\n",
              "      <td>3</td>\n",
              "      <td>1</td>\n",
              "      <td>1</td>\n",
              "      <td>1</td>\n",
              "      <td>0</td>\n",
              "      <td>5.0</td>\n",
              "      <td>20.0</td>\n",
              "      <td>6.0</td>\n",
              "      <td>409.0</td>\n",
              "      <td>166.0</td>\n",
              "      <td>1.0</td>\n",
              "    </tr>\n",
              "    <tr>\n",
              "      <th>3</th>\n",
              "      <td>xyz</td>\n",
              "      <td>FS</td>\n",
              "      <td>SAN JOSE</td>\n",
              "      <td>2015622_080</td>\n",
              "      <td>04/01/2009</td>\n",
              "      <td>4</td>\n",
              "      <td>1</td>\n",
              "      <td>2</td>\n",
              "      <td>0</td>\n",
              "      <td>0</td>\n",
              "      <td>6.0</td>\n",
              "      <td>19.0</td>\n",
              "      <td>6.0</td>\n",
              "      <td>455.0</td>\n",
              "      <td>185.0</td>\n",
              "      <td>1.0</td>\n",
              "    </tr>\n",
              "    <tr>\n",
              "      <th>4</th>\n",
              "      <td>xyz</td>\n",
              "      <td>FS</td>\n",
              "      <td>SAN JOSE</td>\n",
              "      <td>2015622_080</td>\n",
              "      <td>05/01/2009</td>\n",
              "      <td>5</td>\n",
              "      <td>1</td>\n",
              "      <td>2</td>\n",
              "      <td>0</td>\n",
              "      <td>0</td>\n",
              "      <td>0.0</td>\n",
              "      <td>19.0</td>\n",
              "      <td>7.0</td>\n",
              "      <td>301.0</td>\n",
              "      <td>83.0</td>\n",
              "      <td>1.0</td>\n",
              "    </tr>\n",
              "    <tr>\n",
              "      <th>5</th>\n",
              "      <td>xyz</td>\n",
              "      <td>FS</td>\n",
              "      <td>SAN JOSE</td>\n",
              "      <td>2015622_080</td>\n",
              "      <td>06/01/2009</td>\n",
              "      <td>6</td>\n",
              "      <td>1</td>\n",
              "      <td>2</td>\n",
              "      <td>0</td>\n",
              "      <td>0</td>\n",
              "      <td>1.0</td>\n",
              "      <td>18.0</td>\n",
              "      <td>7.0</td>\n",
              "      <td>307.0</td>\n",
              "      <td>94.0</td>\n",
              "      <td>1.0</td>\n",
              "    </tr>\n",
              "    <tr>\n",
              "      <th>6</th>\n",
              "      <td>xyz</td>\n",
              "      <td>FS</td>\n",
              "      <td>SAN JOSE</td>\n",
              "      <td>2015622_080</td>\n",
              "      <td>07/01/2009</td>\n",
              "      <td>7</td>\n",
              "      <td>1</td>\n",
              "      <td>2</td>\n",
              "      <td>0</td>\n",
              "      <td>0</td>\n",
              "      <td>2.0</td>\n",
              "      <td>19.0</td>\n",
              "      <td>7.0</td>\n",
              "      <td>305.0</td>\n",
              "      <td>95.0</td>\n",
              "      <td>1.0</td>\n",
              "    </tr>\n",
              "    <tr>\n",
              "      <th>7</th>\n",
              "      <td>xyz</td>\n",
              "      <td>FS</td>\n",
              "      <td>SAN JOSE</td>\n",
              "      <td>2015622_080</td>\n",
              "      <td>08/01/2009</td>\n",
              "      <td>8</td>\n",
              "      <td>1</td>\n",
              "      <td>2</td>\n",
              "      <td>0</td>\n",
              "      <td>0</td>\n",
              "      <td>3.0</td>\n",
              "      <td>19.0</td>\n",
              "      <td>7.0</td>\n",
              "      <td>288.0</td>\n",
              "      <td>75.0</td>\n",
              "      <td>1.0</td>\n",
              "    </tr>\n",
              "    <tr>\n",
              "      <th>8</th>\n",
              "      <td>xyz</td>\n",
              "      <td>FS</td>\n",
              "      <td>SAN JOSE</td>\n",
              "      <td>2015622_080</td>\n",
              "      <td>09/01/2009</td>\n",
              "      <td>9</td>\n",
              "      <td>1</td>\n",
              "      <td>2</td>\n",
              "      <td>0</td>\n",
              "      <td>0</td>\n",
              "      <td>4.0</td>\n",
              "      <td>20.0</td>\n",
              "      <td>6.0</td>\n",
              "      <td>372.0</td>\n",
              "      <td>98.0</td>\n",
              "      <td>1.0</td>\n",
              "    </tr>\n",
              "    <tr>\n",
              "      <th>9</th>\n",
              "      <td>xyz</td>\n",
              "      <td>FS</td>\n",
              "      <td>SAN JOSE</td>\n",
              "      <td>2015622_080</td>\n",
              "      <td>10/01/2009</td>\n",
              "      <td>10</td>\n",
              "      <td>1</td>\n",
              "      <td>2</td>\n",
              "      <td>0</td>\n",
              "      <td>0</td>\n",
              "      <td>5.0</td>\n",
              "      <td>19.0</td>\n",
              "      <td>6.0</td>\n",
              "      <td>446.0</td>\n",
              "      <td>189.0</td>\n",
              "      <td>1.0</td>\n",
              "    </tr>\n",
              "  </tbody>\n",
              "</table>\n",
              "</div>"
            ],
            "text/plain": [
              "  id_tienda tipo_tienda provincia  ... clientes_totales clientes_vip  volumen\n",
              "0       xyz          FS  SAN JOSE  ...            385.0        167.0      1.0\n",
              "1       xyz          FS  SAN JOSE  ...            400.0        147.0      1.0\n",
              "2       xyz          FS  SAN JOSE  ...            409.0        166.0      1.0\n",
              "3       xyz          FS  SAN JOSE  ...            455.0        185.0      1.0\n",
              "4       xyz          FS  SAN JOSE  ...            301.0         83.0      1.0\n",
              "5       xyz          FS  SAN JOSE  ...            307.0         94.0      1.0\n",
              "6       xyz          FS  SAN JOSE  ...            305.0         95.0      1.0\n",
              "7       xyz          FS  SAN JOSE  ...            288.0         75.0      1.0\n",
              "8       xyz          FS  SAN JOSE  ...            372.0         98.0      1.0\n",
              "9       xyz          FS  SAN JOSE  ...            446.0        189.0      1.0\n",
              "\n",
              "[10 rows x 16 columns]"
            ]
          },
          "metadata": {
            "tags": []
          },
          "execution_count": 8
        }
      ]
    },
    {
      "cell_type": "markdown",
      "metadata": {
        "id": "QQQLZPHaFLK2",
        "colab_type": "text"
      },
      "source": [
        "## Eliminar outliers\n",
        "\n",
        "Las variables que nos interesan son las de cantidad de clientes, comparamos clientes totales vs. VIP para cada día y decidimos borrar aquellos valores que exceden la norma, que dentro del conjunto de datos no iban a aportar mayor detalle."
      ]
    },
    {
      "cell_type": "code",
      "metadata": {
        "id": "wZhgKsx2FLK3",
        "colab_type": "code",
        "outputId": "3d12da96-7ecc-4a9b-f4cc-450ad504bd52",
        "colab": {
          "base_uri": "https://localhost:8080/",
          "height": 603
        }
      },
      "source": [
        "df.plot.scatter(x = 'clientes_totales', y = 'clientes_vip')\n",
        "print(\"Tamaño original:\", df.shape)\n",
        "df1 = df[df.clientes_vip < 100]\n",
        "df1 = df1[df1.clientes_totales < 800]\n",
        "print(\"Tamaño después de borrado:\", df1.shape)\n",
        "df1.plot.scatter(x = 'clientes_totales', y = 'clientes_vip')"
      ],
      "execution_count": 9,
      "outputs": [
        {
          "output_type": "stream",
          "text": [
            "Tamaño original: (3652, 16)\n",
            "Tamaño después de borrado: (2383, 16)\n"
          ],
          "name": "stdout"
        },
        {
          "output_type": "execute_result",
          "data": {
            "text/plain": [
              "<matplotlib.axes._subplots.AxesSubplot at 0x7fdd8c6258d0>"
            ]
          },
          "metadata": {
            "tags": []
          },
          "execution_count": 9
        },
        {
          "output_type": "display_data",
          "data": {
            "image/png": "[encoded data removed]",
            "text/plain": [
              "<Figure size 432x288 with 1 Axes>"
            ]
          },
          "metadata": {
            "tags": []
          }
        },
        {
          "output_type": "display_data",
          "data": {
            "image/png": "[encoded data removed]",
            "text/plain": [
              "<Figure size 432x288 with 1 Axes>"
            ]
          },
          "metadata": {
            "tags": []
          }
        }
      ]
    },
    {
      "cell_type": "markdown",
      "metadata": {
        "id": "rmOFXfeaFLK7",
        "colab_type": "text"
      },
      "source": [
        "## Convertir datos categóricos - One-hot encoding"
      ]
    },
    {
      "cell_type": "code",
      "metadata": {
        "id": "o22byYtOFLK8",
        "colab_type": "code",
        "outputId": "8ba7c869-9d46-4fc5-a937-e405701b106a",
        "colab": {
          "base_uri": "https://localhost:8080/",
          "height": 211
        }
      },
      "source": [
        "# One-hot encoding\n",
        "df2 = pd.get_dummies(df1, columns=['mes_del_anio', 'dia_de_la_semana', 'volumen'])\n",
        "df2.head()\n",
        "\n"
      ],
      "execution_count": 10,
      "outputs": [
        {
          "output_type": "execute_result",
          "data": {
            "text/html": [
              "<div>\n",
              "<style scoped>\n",
              "    .dataframe tbody tr th:only-of-type {\n",
              "        vertical-align: middle;\n",
              "    }\n",
              "\n",
              "    .dataframe tbody tr th {\n",
              "        vertical-align: top;\n",
              "    }\n",
              "\n",
              "    .dataframe thead th {\n",
              "        text-align: right;\n",
              "    }\n",
              "</style>\n",
              "<table border=\"1\" class=\"dataframe\">\n",
              "  <thead>\n",
              "    <tr style=\"text-align: right;\">\n",
              "      <th></th>\n",
              "      <th>id_tienda</th>\n",
              "      <th>tipo_tienda</th>\n",
              "      <th>provincia</th>\n",
              "      <th>supervisor</th>\n",
              "      <th>fecha</th>\n",
              "      <th>dia_del_mes</th>\n",
              "      <th>semana_del_anio</th>\n",
              "      <th>es_quincena</th>\n",
              "      <th>es_feriado</th>\n",
              "      <th>horas_operacion</th>\n",
              "      <th>pos_en_uso</th>\n",
              "      <th>clientes_totales</th>\n",
              "      <th>clientes_vip</th>\n",
              "      <th>mes_del_anio_1</th>\n",
              "      <th>mes_del_anio_2</th>\n",
              "      <th>mes_del_anio_3</th>\n",
              "      <th>mes_del_anio_4</th>\n",
              "      <th>mes_del_anio_5</th>\n",
              "      <th>mes_del_anio_6</th>\n",
              "      <th>mes_del_anio_7</th>\n",
              "      <th>mes_del_anio_8</th>\n",
              "      <th>mes_del_anio_9</th>\n",
              "      <th>mes_del_anio_10</th>\n",
              "      <th>mes_del_anio_11</th>\n",
              "      <th>mes_del_anio_12</th>\n",
              "      <th>dia_de_la_semana_0.0</th>\n",
              "      <th>dia_de_la_semana_1.0</th>\n",
              "      <th>dia_de_la_semana_2.0</th>\n",
              "      <th>dia_de_la_semana_3.0</th>\n",
              "      <th>dia_de_la_semana_4.0</th>\n",
              "      <th>dia_de_la_semana_5.0</th>\n",
              "      <th>dia_de_la_semana_6.0</th>\n",
              "      <th>volumen_0.0</th>\n",
              "      <th>volumen_1.0</th>\n",
              "      <th>volumen_2.0</th>\n",
              "    </tr>\n",
              "  </thead>\n",
              "  <tbody>\n",
              "    <tr>\n",
              "      <th>4</th>\n",
              "      <td>xyz</td>\n",
              "      <td>FS</td>\n",
              "      <td>SAN JOSE</td>\n",
              "      <td>2015622_080</td>\n",
              "      <td>05/01/2009</td>\n",
              "      <td>5</td>\n",
              "      <td>2</td>\n",
              "      <td>0</td>\n",
              "      <td>0</td>\n",
              "      <td>19.0</td>\n",
              "      <td>7.0</td>\n",
              "      <td>301.0</td>\n",
              "      <td>83.0</td>\n",
              "      <td>1</td>\n",
              "      <td>0</td>\n",
              "      <td>0</td>\n",
              "      <td>0</td>\n",
              "      <td>0</td>\n",
              "      <td>0</td>\n",
              "      <td>0</td>\n",
              "      <td>0</td>\n",
              "      <td>0</td>\n",
              "      <td>0</td>\n",
              "      <td>0</td>\n",
              "      <td>0</td>\n",
              "      <td>1</td>\n",
              "      <td>0</td>\n",
              "      <td>0</td>\n",
              "      <td>0</td>\n",
              "      <td>0</td>\n",
              "      <td>0</td>\n",
              "      <td>0</td>\n",
              "      <td>0</td>\n",
              "      <td>1</td>\n",
              "      <td>0</td>\n",
              "    </tr>\n",
              "    <tr>\n",
              "      <th>5</th>\n",
              "      <td>xyz</td>\n",
              "      <td>FS</td>\n",
              "      <td>SAN JOSE</td>\n",
              "      <td>2015622_080</td>\n",
              "      <td>06/01/2009</td>\n",
              "      <td>6</td>\n",
              "      <td>2</td>\n",
              "      <td>0</td>\n",
              "      <td>0</td>\n",
              "      <td>18.0</td>\n",
              "      <td>7.0</td>\n",
              "      <td>307.0</td>\n",
              "      <td>94.0</td>\n",
              "      <td>1</td>\n",
              "      <td>0</td>\n",
              "      <td>0</td>\n",
              "      <td>0</td>\n",
              "      <td>0</td>\n",
              "      <td>0</td>\n",
              "      <td>0</td>\n",
              "      <td>0</td>\n",
              "      <td>0</td>\n",
              "      <td>0</td>\n",
              "      <td>0</td>\n",
              "      <td>0</td>\n",
              "      <td>0</td>\n",
              "      <td>1</td>\n",
              "      <td>0</td>\n",
              "      <td>0</td>\n",
              "      <td>0</td>\n",
              "      <td>0</td>\n",
              "      <td>0</td>\n",
              "      <td>0</td>\n",
              "      <td>1</td>\n",
              "      <td>0</td>\n",
              "    </tr>\n",
              "    <tr>\n",
              "      <th>6</th>\n",
              "      <td>xyz</td>\n",
              "      <td>FS</td>\n",
              "      <td>SAN JOSE</td>\n",
              "      <td>2015622_080</td>\n",
              "      <td>07/01/2009</td>\n",
              "      <td>7</td>\n",
              "      <td>2</td>\n",
              "      <td>0</td>\n",
              "      <td>0</td>\n",
              "      <td>19.0</td>\n",
              "      <td>7.0</td>\n",
              "      <td>305.0</td>\n",
              "      <td>95.0</td>\n",
              "      <td>1</td>\n",
              "      <td>0</td>\n",
              "      <td>0</td>\n",
              "      <td>0</td>\n",
              "      <td>0</td>\n",
              "      <td>0</td>\n",
              "      <td>0</td>\n",
              "      <td>0</td>\n",
              "      <td>0</td>\n",
              "      <td>0</td>\n",
              "      <td>0</td>\n",
              "      <td>0</td>\n",
              "      <td>0</td>\n",
              "      <td>0</td>\n",
              "      <td>1</td>\n",
              "      <td>0</td>\n",
              "      <td>0</td>\n",
              "      <td>0</td>\n",
              "      <td>0</td>\n",
              "      <td>0</td>\n",
              "      <td>1</td>\n",
              "      <td>0</td>\n",
              "    </tr>\n",
              "    <tr>\n",
              "      <th>7</th>\n",
              "      <td>xyz</td>\n",
              "      <td>FS</td>\n",
              "      <td>SAN JOSE</td>\n",
              "      <td>2015622_080</td>\n",
              "      <td>08/01/2009</td>\n",
              "      <td>8</td>\n",
              "      <td>2</td>\n",
              "      <td>0</td>\n",
              "      <td>0</td>\n",
              "      <td>19.0</td>\n",
              "      <td>7.0</td>\n",
              "      <td>288.0</td>\n",
              "      <td>75.0</td>\n",
              "      <td>1</td>\n",
              "      <td>0</td>\n",
              "      <td>0</td>\n",
              "      <td>0</td>\n",
              "      <td>0</td>\n",
              "      <td>0</td>\n",
              "      <td>0</td>\n",
              "      <td>0</td>\n",
              "      <td>0</td>\n",
              "      <td>0</td>\n",
              "      <td>0</td>\n",
              "      <td>0</td>\n",
              "      <td>0</td>\n",
              "      <td>0</td>\n",
              "      <td>0</td>\n",
              "      <td>1</td>\n",
              "      <td>0</td>\n",
              "      <td>0</td>\n",
              "      <td>0</td>\n",
              "      <td>0</td>\n",
              "      <td>1</td>\n",
              "      <td>0</td>\n",
              "    </tr>\n",
              "    <tr>\n",
              "      <th>8</th>\n",
              "      <td>xyz</td>\n",
              "      <td>FS</td>\n",
              "      <td>SAN JOSE</td>\n",
              "      <td>2015622_080</td>\n",
              "      <td>09/01/2009</td>\n",
              "      <td>9</td>\n",
              "      <td>2</td>\n",
              "      <td>0</td>\n",
              "      <td>0</td>\n",
              "      <td>20.0</td>\n",
              "      <td>6.0</td>\n",
              "      <td>372.0</td>\n",
              "      <td>98.0</td>\n",
              "      <td>1</td>\n",
              "      <td>0</td>\n",
              "      <td>0</td>\n",
              "      <td>0</td>\n",
              "      <td>0</td>\n",
              "      <td>0</td>\n",
              "      <td>0</td>\n",
              "      <td>0</td>\n",
              "      <td>0</td>\n",
              "      <td>0</td>\n",
              "      <td>0</td>\n",
              "      <td>0</td>\n",
              "      <td>0</td>\n",
              "      <td>0</td>\n",
              "      <td>0</td>\n",
              "      <td>0</td>\n",
              "      <td>1</td>\n",
              "      <td>0</td>\n",
              "      <td>0</td>\n",
              "      <td>0</td>\n",
              "      <td>1</td>\n",
              "      <td>0</td>\n",
              "    </tr>\n",
              "  </tbody>\n",
              "</table>\n",
              "</div>"
            ],
            "text/plain": [
              "  id_tienda tipo_tienda provincia  ... volumen_0.0 volumen_1.0  volumen_2.0\n",
              "4       xyz          FS  SAN JOSE  ...           0           1            0\n",
              "5       xyz          FS  SAN JOSE  ...           0           1            0\n",
              "6       xyz          FS  SAN JOSE  ...           0           1            0\n",
              "7       xyz          FS  SAN JOSE  ...           0           1            0\n",
              "8       xyz          FS  SAN JOSE  ...           0           1            0\n",
              "\n",
              "[5 rows x 35 columns]"
            ]
          },
          "metadata": {
            "tags": []
          },
          "execution_count": 10
        }
      ]
    },
    {
      "cell_type": "markdown",
      "metadata": {
        "id": "TvURAY4RFLK_",
        "colab_type": "text"
      },
      "source": [
        "## Normalizar features horas_operacion y pos_en_uso"
      ]
    },
    {
      "cell_type": "code",
      "metadata": {
        "id": "6kDx_GFxFLLA",
        "colab_type": "code",
        "outputId": "f4174b01-ed20-4e29-d0af-79e527eb9571",
        "colab": {
          "base_uri": "https://localhost:8080/",
          "height": 355
        }
      },
      "source": [
        "# Normalizando horas_operacion y pos_en_uso para el intervalo 0 a 1\n",
        "df2[\"horas_operacion\"] = df2[\"horas_operacion\"]/24\n",
        "df2[\"pos_en_uso\"] = df2[\"pos_en_uso\"]/10\n",
        "df2.head(10)"
      ],
      "execution_count": 11,
      "outputs": [
        {
          "output_type": "execute_result",
          "data": {
            "text/html": [
              "<div>\n",
              "<style scoped>\n",
              "    .dataframe tbody tr th:only-of-type {\n",
              "        vertical-align: middle;\n",
              "    }\n",
              "\n",
              "    .dataframe tbody tr th {\n",
              "        vertical-align: top;\n",
              "    }\n",
              "\n",
              "    .dataframe thead th {\n",
              "        text-align: right;\n",
              "    }\n",
              "</style>\n",
              "<table border=\"1\" class=\"dataframe\">\n",
              "  <thead>\n",
              "    <tr style=\"text-align: right;\">\n",
              "      <th></th>\n",
              "      <th>id_tienda</th>\n",
              "      <th>tipo_tienda</th>\n",
              "      <th>provincia</th>\n",
              "      <th>supervisor</th>\n",
              "      <th>fecha</th>\n",
              "      <th>dia_del_mes</th>\n",
              "      <th>semana_del_anio</th>\n",
              "      <th>es_quincena</th>\n",
              "      <th>es_feriado</th>\n",
              "      <th>horas_operacion</th>\n",
              "      <th>pos_en_uso</th>\n",
              "      <th>clientes_totales</th>\n",
              "      <th>clientes_vip</th>\n",
              "      <th>mes_del_anio_1</th>\n",
              "      <th>mes_del_anio_2</th>\n",
              "      <th>mes_del_anio_3</th>\n",
              "      <th>mes_del_anio_4</th>\n",
              "      <th>mes_del_anio_5</th>\n",
              "      <th>mes_del_anio_6</th>\n",
              "      <th>mes_del_anio_7</th>\n",
              "      <th>mes_del_anio_8</th>\n",
              "      <th>mes_del_anio_9</th>\n",
              "      <th>mes_del_anio_10</th>\n",
              "      <th>mes_del_anio_11</th>\n",
              "      <th>mes_del_anio_12</th>\n",
              "      <th>dia_de_la_semana_0.0</th>\n",
              "      <th>dia_de_la_semana_1.0</th>\n",
              "      <th>dia_de_la_semana_2.0</th>\n",
              "      <th>dia_de_la_semana_3.0</th>\n",
              "      <th>dia_de_la_semana_4.0</th>\n",
              "      <th>dia_de_la_semana_5.0</th>\n",
              "      <th>dia_de_la_semana_6.0</th>\n",
              "      <th>volumen_0.0</th>\n",
              "      <th>volumen_1.0</th>\n",
              "      <th>volumen_2.0</th>\n",
              "    </tr>\n",
              "  </thead>\n",
              "  <tbody>\n",
              "    <tr>\n",
              "      <th>4</th>\n",
              "      <td>xyz</td>\n",
              "      <td>FS</td>\n",
              "      <td>SAN JOSE</td>\n",
              "      <td>2015622_080</td>\n",
              "      <td>05/01/2009</td>\n",
              "      <td>5</td>\n",
              "      <td>2</td>\n",
              "      <td>0</td>\n",
              "      <td>0</td>\n",
              "      <td>0.791667</td>\n",
              "      <td>0.7</td>\n",
              "      <td>301.0</td>\n",
              "      <td>83.0</td>\n",
              "      <td>1</td>\n",
              "      <td>0</td>\n",
              "      <td>0</td>\n",
              "      <td>0</td>\n",
              "      <td>0</td>\n",
              "      <td>0</td>\n",
              "      <td>0</td>\n",
              "      <td>0</td>\n",
              "      <td>0</td>\n",
              "      <td>0</td>\n",
              "      <td>0</td>\n",
              "      <td>0</td>\n",
              "      <td>1</td>\n",
              "      <td>0</td>\n",
              "      <td>0</td>\n",
              "      <td>0</td>\n",
              "      <td>0</td>\n",
              "      <td>0</td>\n",
              "      <td>0</td>\n",
              "      <td>0</td>\n",
              "      <td>1</td>\n",
              "      <td>0</td>\n",
              "    </tr>\n",
              "    <tr>\n",
              "      <th>5</th>\n",
              "      <td>xyz</td>\n",
              "      <td>FS</td>\n",
              "      <td>SAN JOSE</td>\n",
              "      <td>2015622_080</td>\n",
              "      <td>06/01/2009</td>\n",
              "      <td>6</td>\n",
              "      <td>2</td>\n",
              "      <td>0</td>\n",
              "      <td>0</td>\n",
              "      <td>0.750000</td>\n",
              "      <td>0.7</td>\n",
              "      <td>307.0</td>\n",
              "      <td>94.0</td>\n",
              "      <td>1</td>\n",
              "      <td>0</td>\n",
              "      <td>0</td>\n",
              "      <td>0</td>\n",
              "      <td>0</td>\n",
              "      <td>0</td>\n",
              "      <td>0</td>\n",
              "      <td>0</td>\n",
              "      <td>0</td>\n",
              "      <td>0</td>\n",
              "      <td>0</td>\n",
              "      <td>0</td>\n",
              "      <td>0</td>\n",
              "      <td>1</td>\n",
              "      <td>0</td>\n",
              "      <td>0</td>\n",
              "      <td>0</td>\n",
              "      <td>0</td>\n",
              "      <td>0</td>\n",
              "      <td>0</td>\n",
              "      <td>1</td>\n",
              "      <td>0</td>\n",
              "    </tr>\n",
              "    <tr>\n",
              "      <th>6</th>\n",
              "      <td>xyz</td>\n",
              "      <td>FS</td>\n",
              "      <td>SAN JOSE</td>\n",
              "      <td>2015622_080</td>\n",
              "      <td>07/01/2009</td>\n",
              "      <td>7</td>\n",
              "      <td>2</td>\n",
              "      <td>0</td>\n",
              "      <td>0</td>\n",
              "      <td>0.791667</td>\n",
              "      <td>0.7</td>\n",
              "      <td>305.0</td>\n",
              "      <td>95.0</td>\n",
              "      <td>1</td>\n",
              "      <td>0</td>\n",
              "      <td>0</td>\n",
              "      <td>0</td>\n",
              "      <td>0</td>\n",
              "      <td>0</td>\n",
              "      <td>0</td>\n",
              "      <td>0</td>\n",
              "      <td>0</td>\n",
              "      <td>0</td>\n",
              "      <td>0</td>\n",
              "      <td>0</td>\n",
              "      <td>0</td>\n",
              "      <td>0</td>\n",
              "      <td>1</td>\n",
              "      <td>0</td>\n",
              "      <td>0</td>\n",
              "      <td>0</td>\n",
              "      <td>0</td>\n",
              "      <td>0</td>\n",
              "      <td>1</td>\n",
              "      <td>0</td>\n",
              "    </tr>\n",
              "    <tr>\n",
              "      <th>7</th>\n",
              "      <td>xyz</td>\n",
              "      <td>FS</td>\n",
              "      <td>SAN JOSE</td>\n",
              "      <td>2015622_080</td>\n",
              "      <td>08/01/2009</td>\n",
              "      <td>8</td>\n",
              "      <td>2</td>\n",
              "      <td>0</td>\n",
              "      <td>0</td>\n",
              "      <td>0.791667</td>\n",
              "      <td>0.7</td>\n",
              "      <td>288.0</td>\n",
              "      <td>75.0</td>\n",
              "      <td>1</td>\n",
              "      <td>0</td>\n",
              "      <td>0</td>\n",
              "      <td>0</td>\n",
              "      <td>0</td>\n",
              "      <td>0</td>\n",
              "      <td>0</td>\n",
              "      <td>0</td>\n",
              "      <td>0</td>\n",
              "      <td>0</td>\n",
              "      <td>0</td>\n",
              "      <td>0</td>\n",
              "      <td>0</td>\n",
              "      <td>0</td>\n",
              "      <td>0</td>\n",
              "      <td>1</td>\n",
              "      <td>0</td>\n",
              "      <td>0</td>\n",
              "      <td>0</td>\n",
              "      <td>0</td>\n",
              "      <td>1</td>\n",
              "      <td>0</td>\n",
              "    </tr>\n",
              "    <tr>\n",
              "      <th>8</th>\n",
              "      <td>xyz</td>\n",
              "      <td>FS</td>\n",
              "      <td>SAN JOSE</td>\n",
              "      <td>2015622_080</td>\n",
              "      <td>09/01/2009</td>\n",
              "      <td>9</td>\n",
              "      <td>2</td>\n",
              "      <td>0</td>\n",
              "      <td>0</td>\n",
              "      <td>0.833333</td>\n",
              "      <td>0.6</td>\n",
              "      <td>372.0</td>\n",
              "      <td>98.0</td>\n",
              "      <td>1</td>\n",
              "      <td>0</td>\n",
              "      <td>0</td>\n",
              "      <td>0</td>\n",
              "      <td>0</td>\n",
              "      <td>0</td>\n",
              "      <td>0</td>\n",
              "      <td>0</td>\n",
              "      <td>0</td>\n",
              "      <td>0</td>\n",
              "      <td>0</td>\n",
              "      <td>0</td>\n",
              "      <td>0</td>\n",
              "      <td>0</td>\n",
              "      <td>0</td>\n",
              "      <td>0</td>\n",
              "      <td>1</td>\n",
              "      <td>0</td>\n",
              "      <td>0</td>\n",
              "      <td>0</td>\n",
              "      <td>1</td>\n",
              "      <td>0</td>\n",
              "    </tr>\n",
              "    <tr>\n",
              "      <th>11</th>\n",
              "      <td>xyz</td>\n",
              "      <td>FS</td>\n",
              "      <td>SAN JOSE</td>\n",
              "      <td>2015622_080</td>\n",
              "      <td>12/01/2009</td>\n",
              "      <td>12</td>\n",
              "      <td>3</td>\n",
              "      <td>0</td>\n",
              "      <td>0</td>\n",
              "      <td>0.750000</td>\n",
              "      <td>0.6</td>\n",
              "      <td>297.0</td>\n",
              "      <td>65.0</td>\n",
              "      <td>1</td>\n",
              "      <td>0</td>\n",
              "      <td>0</td>\n",
              "      <td>0</td>\n",
              "      <td>0</td>\n",
              "      <td>0</td>\n",
              "      <td>0</td>\n",
              "      <td>0</td>\n",
              "      <td>0</td>\n",
              "      <td>0</td>\n",
              "      <td>0</td>\n",
              "      <td>0</td>\n",
              "      <td>1</td>\n",
              "      <td>0</td>\n",
              "      <td>0</td>\n",
              "      <td>0</td>\n",
              "      <td>0</td>\n",
              "      <td>0</td>\n",
              "      <td>0</td>\n",
              "      <td>0</td>\n",
              "      <td>1</td>\n",
              "      <td>0</td>\n",
              "    </tr>\n",
              "    <tr>\n",
              "      <th>12</th>\n",
              "      <td>xyz</td>\n",
              "      <td>FS</td>\n",
              "      <td>SAN JOSE</td>\n",
              "      <td>2015622_080</td>\n",
              "      <td>13/01/2009</td>\n",
              "      <td>13</td>\n",
              "      <td>3</td>\n",
              "      <td>1</td>\n",
              "      <td>0</td>\n",
              "      <td>0.750000</td>\n",
              "      <td>0.6</td>\n",
              "      <td>363.0</td>\n",
              "      <td>83.0</td>\n",
              "      <td>1</td>\n",
              "      <td>0</td>\n",
              "      <td>0</td>\n",
              "      <td>0</td>\n",
              "      <td>0</td>\n",
              "      <td>0</td>\n",
              "      <td>0</td>\n",
              "      <td>0</td>\n",
              "      <td>0</td>\n",
              "      <td>0</td>\n",
              "      <td>0</td>\n",
              "      <td>0</td>\n",
              "      <td>0</td>\n",
              "      <td>1</td>\n",
              "      <td>0</td>\n",
              "      <td>0</td>\n",
              "      <td>0</td>\n",
              "      <td>0</td>\n",
              "      <td>0</td>\n",
              "      <td>0</td>\n",
              "      <td>1</td>\n",
              "      <td>0</td>\n",
              "    </tr>\n",
              "    <tr>\n",
              "      <th>13</th>\n",
              "      <td>xyz</td>\n",
              "      <td>FS</td>\n",
              "      <td>SAN JOSE</td>\n",
              "      <td>2015622_080</td>\n",
              "      <td>14/01/2009</td>\n",
              "      <td>14</td>\n",
              "      <td>3</td>\n",
              "      <td>1</td>\n",
              "      <td>0</td>\n",
              "      <td>0.750000</td>\n",
              "      <td>0.7</td>\n",
              "      <td>344.0</td>\n",
              "      <td>89.0</td>\n",
              "      <td>1</td>\n",
              "      <td>0</td>\n",
              "      <td>0</td>\n",
              "      <td>0</td>\n",
              "      <td>0</td>\n",
              "      <td>0</td>\n",
              "      <td>0</td>\n",
              "      <td>0</td>\n",
              "      <td>0</td>\n",
              "      <td>0</td>\n",
              "      <td>0</td>\n",
              "      <td>0</td>\n",
              "      <td>0</td>\n",
              "      <td>0</td>\n",
              "      <td>1</td>\n",
              "      <td>0</td>\n",
              "      <td>0</td>\n",
              "      <td>0</td>\n",
              "      <td>0</td>\n",
              "      <td>0</td>\n",
              "      <td>1</td>\n",
              "      <td>0</td>\n",
              "    </tr>\n",
              "    <tr>\n",
              "      <th>18</th>\n",
              "      <td>xyz</td>\n",
              "      <td>FS</td>\n",
              "      <td>SAN JOSE</td>\n",
              "      <td>2015622_080</td>\n",
              "      <td>19/01/2009</td>\n",
              "      <td>19</td>\n",
              "      <td>4</td>\n",
              "      <td>0</td>\n",
              "      <td>0</td>\n",
              "      <td>0.750000</td>\n",
              "      <td>0.7</td>\n",
              "      <td>323.0</td>\n",
              "      <td>57.0</td>\n",
              "      <td>1</td>\n",
              "      <td>0</td>\n",
              "      <td>0</td>\n",
              "      <td>0</td>\n",
              "      <td>0</td>\n",
              "      <td>0</td>\n",
              "      <td>0</td>\n",
              "      <td>0</td>\n",
              "      <td>0</td>\n",
              "      <td>0</td>\n",
              "      <td>0</td>\n",
              "      <td>0</td>\n",
              "      <td>1</td>\n",
              "      <td>0</td>\n",
              "      <td>0</td>\n",
              "      <td>0</td>\n",
              "      <td>0</td>\n",
              "      <td>0</td>\n",
              "      <td>0</td>\n",
              "      <td>0</td>\n",
              "      <td>1</td>\n",
              "      <td>0</td>\n",
              "    </tr>\n",
              "    <tr>\n",
              "      <th>19</th>\n",
              "      <td>xyz</td>\n",
              "      <td>FS</td>\n",
              "      <td>SAN JOSE</td>\n",
              "      <td>2015622_080</td>\n",
              "      <td>20/01/2009</td>\n",
              "      <td>20</td>\n",
              "      <td>4</td>\n",
              "      <td>0</td>\n",
              "      <td>0</td>\n",
              "      <td>0.750000</td>\n",
              "      <td>0.6</td>\n",
              "      <td>356.0</td>\n",
              "      <td>69.0</td>\n",
              "      <td>1</td>\n",
              "      <td>0</td>\n",
              "      <td>0</td>\n",
              "      <td>0</td>\n",
              "      <td>0</td>\n",
              "      <td>0</td>\n",
              "      <td>0</td>\n",
              "      <td>0</td>\n",
              "      <td>0</td>\n",
              "      <td>0</td>\n",
              "      <td>0</td>\n",
              "      <td>0</td>\n",
              "      <td>0</td>\n",
              "      <td>1</td>\n",
              "      <td>0</td>\n",
              "      <td>0</td>\n",
              "      <td>0</td>\n",
              "      <td>0</td>\n",
              "      <td>0</td>\n",
              "      <td>0</td>\n",
              "      <td>1</td>\n",
              "      <td>0</td>\n",
              "    </tr>\n",
              "  </tbody>\n",
              "</table>\n",
              "</div>"
            ],
            "text/plain": [
              "   id_tienda tipo_tienda provincia  ... volumen_0.0 volumen_1.0  volumen_2.0\n",
              "4        xyz          FS  SAN JOSE  ...           0           1            0\n",
              "5        xyz          FS  SAN JOSE  ...           0           1            0\n",
              "6        xyz          FS  SAN JOSE  ...           0           1            0\n",
              "7        xyz          FS  SAN JOSE  ...           0           1            0\n",
              "8        xyz          FS  SAN JOSE  ...           0           1            0\n",
              "11       xyz          FS  SAN JOSE  ...           0           1            0\n",
              "12       xyz          FS  SAN JOSE  ...           0           1            0\n",
              "13       xyz          FS  SAN JOSE  ...           0           1            0\n",
              "18       xyz          FS  SAN JOSE  ...           0           1            0\n",
              "19       xyz          FS  SAN JOSE  ...           0           1            0\n",
              "\n",
              "[10 rows x 35 columns]"
            ]
          },
          "metadata": {
            "tags": []
          },
          "execution_count": 11
        }
      ]
    },
    {
      "cell_type": "markdown",
      "metadata": {
        "id": "vWlFdnKIFLLF",
        "colab_type": "text"
      },
      "source": [
        "## Borrar NaNs"
      ]
    },
    {
      "cell_type": "code",
      "metadata": {
        "id": "sKL3etfhFLLG",
        "colab_type": "code",
        "outputId": "6975e71f-36ae-45e5-da7c-2e6aef0b24e0",
        "colab": {
          "base_uri": "https://localhost:8080/",
          "height": 66
        }
      },
      "source": [
        "print (\"Shape antes: \", df2.shape)\n",
        "print (\"Hay Nans? \", df2.isnull().values.any())   #preguntar si hay NaN\n",
        "# remove NaNs\n",
        "df2 = df2.dropna()\n",
        "print (\"Shape después: \", df2.shape)"
      ],
      "execution_count": 12,
      "outputs": [
        {
          "output_type": "stream",
          "text": [
            "Shape antes:  (2383, 35)\n",
            "Hay Nans?  True\n",
            "Shape después:  (2381, 35)\n"
          ],
          "name": "stdout"
        }
      ]
    },
    {
      "cell_type": "markdown",
      "metadata": {
        "id": "jvbC5zKgveaZ",
        "colab_type": "text"
      },
      "source": [
        "## Elección de columnas (features)\n",
        "\n",
        "Para este corte se elimina todas las columnas que brindan info específica de tiendas pues solamente se analizará una tienda.\n",
        "\n",
        "La columna semana del año y mes del año no brindan mayor información en conjunto, es posible que sean redundantes por lo que probaremos removiendo una de ellas."
      ]
    },
    {
      "cell_type": "code",
      "metadata": {
        "id": "Z1-tVz3bFLKk",
        "colab_type": "code",
        "outputId": "06617d8b-dd8d-4a7a-e3e8-e0bfb47abe3b",
        "colab": {
          "base_uri": "https://localhost:8080/",
          "height": 227
        }
      },
      "source": [
        "cols_to_drop = ['id_tienda', 'tipo_tienda', 'provincia', 'supervisor', 'semana_del_anio']\n",
        "\n",
        "processed = df2.drop(cols_to_drop, 1)\n",
        "print(\"Tamaño post-procesamiento:\", processed.shape)\n",
        "processed.head(5)"
      ],
      "execution_count": 13,
      "outputs": [
        {
          "output_type": "stream",
          "text": [
            "Tamaño post-procesamiento: (2381, 30)\n"
          ],
          "name": "stdout"
        },
        {
          "output_type": "execute_result",
          "data": {
            "text/html": [
              "<div>\n",
              "<style scoped>\n",
              "    .dataframe tbody tr th:only-of-type {\n",
              "        vertical-align: middle;\n",
              "    }\n",
              "\n",
              "    .dataframe tbody tr th {\n",
              "        vertical-align: top;\n",
              "    }\n",
              "\n",
              "    .dataframe thead th {\n",
              "        text-align: right;\n",
              "    }\n",
              "</style>\n",
              "<table border=\"1\" class=\"dataframe\">\n",
              "  <thead>\n",
              "    <tr style=\"text-align: right;\">\n",
              "      <th></th>\n",
              "      <th>fecha</th>\n",
              "      <th>dia_del_mes</th>\n",
              "      <th>es_quincena</th>\n",
              "      <th>es_feriado</th>\n",
              "      <th>horas_operacion</th>\n",
              "      <th>pos_en_uso</th>\n",
              "      <th>clientes_totales</th>\n",
              "      <th>clientes_vip</th>\n",
              "      <th>mes_del_anio_1</th>\n",
              "      <th>mes_del_anio_2</th>\n",
              "      <th>mes_del_anio_3</th>\n",
              "      <th>mes_del_anio_4</th>\n",
              "      <th>mes_del_anio_5</th>\n",
              "      <th>mes_del_anio_6</th>\n",
              "      <th>mes_del_anio_7</th>\n",
              "      <th>mes_del_anio_8</th>\n",
              "      <th>mes_del_anio_9</th>\n",
              "      <th>mes_del_anio_10</th>\n",
              "      <th>mes_del_anio_11</th>\n",
              "      <th>mes_del_anio_12</th>\n",
              "      <th>dia_de_la_semana_0.0</th>\n",
              "      <th>dia_de_la_semana_1.0</th>\n",
              "      <th>dia_de_la_semana_2.0</th>\n",
              "      <th>dia_de_la_semana_3.0</th>\n",
              "      <th>dia_de_la_semana_4.0</th>\n",
              "      <th>dia_de_la_semana_5.0</th>\n",
              "      <th>dia_de_la_semana_6.0</th>\n",
              "      <th>volumen_0.0</th>\n",
              "      <th>volumen_1.0</th>\n",
              "      <th>volumen_2.0</th>\n",
              "    </tr>\n",
              "  </thead>\n",
              "  <tbody>\n",
              "    <tr>\n",
              "      <th>4</th>\n",
              "      <td>05/01/2009</td>\n",
              "      <td>5</td>\n",
              "      <td>0</td>\n",
              "      <td>0</td>\n",
              "      <td>0.791667</td>\n",
              "      <td>0.7</td>\n",
              "      <td>301.0</td>\n",
              "      <td>83.0</td>\n",
              "      <td>1</td>\n",
              "      <td>0</td>\n",
              "      <td>0</td>\n",
              "      <td>0</td>\n",
              "      <td>0</td>\n",
              "      <td>0</td>\n",
              "      <td>0</td>\n",
              "      <td>0</td>\n",
              "      <td>0</td>\n",
              "      <td>0</td>\n",
              "      <td>0</td>\n",
              "      <td>0</td>\n",
              "      <td>1</td>\n",
              "      <td>0</td>\n",
              "      <td>0</td>\n",
              "      <td>0</td>\n",
              "      <td>0</td>\n",
              "      <td>0</td>\n",
              "      <td>0</td>\n",
              "      <td>0</td>\n",
              "      <td>1</td>\n",
              "      <td>0</td>\n",
              "    </tr>\n",
              "    <tr>\n",
              "      <th>5</th>\n",
              "      <td>06/01/2009</td>\n",
              "      <td>6</td>\n",
              "      <td>0</td>\n",
              "      <td>0</td>\n",
              "      <td>0.750000</td>\n",
              "      <td>0.7</td>\n",
              "      <td>307.0</td>\n",
              "      <td>94.0</td>\n",
              "      <td>1</td>\n",
              "      <td>0</td>\n",
              "      <td>0</td>\n",
              "      <td>0</td>\n",
              "      <td>0</td>\n",
              "      <td>0</td>\n",
              "      <td>0</td>\n",
              "      <td>0</td>\n",
              "      <td>0</td>\n",
              "      <td>0</td>\n",
              "      <td>0</td>\n",
              "      <td>0</td>\n",
              "      <td>0</td>\n",
              "      <td>1</td>\n",
              "      <td>0</td>\n",
              "      <td>0</td>\n",
              "      <td>0</td>\n",
              "      <td>0</td>\n",
              "      <td>0</td>\n",
              "      <td>0</td>\n",
              "      <td>1</td>\n",
              "      <td>0</td>\n",
              "    </tr>\n",
              "    <tr>\n",
              "      <th>6</th>\n",
              "      <td>07/01/2009</td>\n",
              "      <td>7</td>\n",
              "      <td>0</td>\n",
              "      <td>0</td>\n",
              "      <td>0.791667</td>\n",
              "      <td>0.7</td>\n",
              "      <td>305.0</td>\n",
              "      <td>95.0</td>\n",
              "      <td>1</td>\n",
              "      <td>0</td>\n",
              "      <td>0</td>\n",
              "      <td>0</td>\n",
              "      <td>0</td>\n",
              "      <td>0</td>\n",
              "      <td>0</td>\n",
              "      <td>0</td>\n",
              "      <td>0</td>\n",
              "      <td>0</td>\n",
              "      <td>0</td>\n",
              "      <td>0</td>\n",
              "      <td>0</td>\n",
              "      <td>0</td>\n",
              "      <td>1</td>\n",
              "      <td>0</td>\n",
              "      <td>0</td>\n",
              "      <td>0</td>\n",
              "      <td>0</td>\n",
              "      <td>0</td>\n",
              "      <td>1</td>\n",
              "      <td>0</td>\n",
              "    </tr>\n",
              "    <tr>\n",
              "      <th>7</th>\n",
              "      <td>08/01/2009</td>\n",
              "      <td>8</td>\n",
              "      <td>0</td>\n",
              "      <td>0</td>\n",
              "      <td>0.791667</td>\n",
              "      <td>0.7</td>\n",
              "      <td>288.0</td>\n",
              "      <td>75.0</td>\n",
              "      <td>1</td>\n",
              "      <td>0</td>\n",
              "      <td>0</td>\n",
              "      <td>0</td>\n",
              "      <td>0</td>\n",
              "      <td>0</td>\n",
              "      <td>0</td>\n",
              "      <td>0</td>\n",
              "      <td>0</td>\n",
              "      <td>0</td>\n",
              "      <td>0</td>\n",
              "      <td>0</td>\n",
              "      <td>0</td>\n",
              "      <td>0</td>\n",
              "      <td>0</td>\n",
              "      <td>1</td>\n",
              "      <td>0</td>\n",
              "      <td>0</td>\n",
              "      <td>0</td>\n",
              "      <td>0</td>\n",
              "      <td>1</td>\n",
              "      <td>0</td>\n",
              "    </tr>\n",
              "    <tr>\n",
              "      <th>8</th>\n",
              "      <td>09/01/2009</td>\n",
              "      <td>9</td>\n",
              "      <td>0</td>\n",
              "      <td>0</td>\n",
              "      <td>0.833333</td>\n",
              "      <td>0.6</td>\n",
              "      <td>372.0</td>\n",
              "      <td>98.0</td>\n",
              "      <td>1</td>\n",
              "      <td>0</td>\n",
              "      <td>0</td>\n",
              "      <td>0</td>\n",
              "      <td>0</td>\n",
              "      <td>0</td>\n",
              "      <td>0</td>\n",
              "      <td>0</td>\n",
              "      <td>0</td>\n",
              "      <td>0</td>\n",
              "      <td>0</td>\n",
              "      <td>0</td>\n",
              "      <td>0</td>\n",
              "      <td>0</td>\n",
              "      <td>0</td>\n",
              "      <td>0</td>\n",
              "      <td>1</td>\n",
              "      <td>0</td>\n",
              "      <td>0</td>\n",
              "      <td>0</td>\n",
              "      <td>1</td>\n",
              "      <td>0</td>\n",
              "    </tr>\n",
              "  </tbody>\n",
              "</table>\n",
              "</div>"
            ],
            "text/plain": [
              "        fecha  dia_del_mes  es_quincena  ... volumen_0.0  volumen_1.0  volumen_2.0\n",
              "4  05/01/2009            5            0  ...           0            1            0\n",
              "5  06/01/2009            6            0  ...           0            1            0\n",
              "6  07/01/2009            7            0  ...           0            1            0\n",
              "7  08/01/2009            8            0  ...           0            1            0\n",
              "8  09/01/2009            9            0  ...           0            1            0\n",
              "\n",
              "[5 rows x 30 columns]"
            ]
          },
          "metadata": {
            "tags": []
          },
          "execution_count": 13
        }
      ]
    },
    {
      "cell_type": "markdown",
      "metadata": {
        "id": "GvNWa29hFLLM",
        "colab_type": "text"
      },
      "source": [
        "# Inicia el trabajo con los modelos elegidos, que serán:\n",
        "   **DecisionTree**\n",
        "\n",
        "   **RandomForest**\n",
        "   \n",
        "   **Redes Neuronales ANN**"
      ]
    },
    {
      "cell_type": "code",
      "metadata": {
        "id": "na0sN9BctRCh",
        "colab_type": "code",
        "colab": {
          "base_uri": "https://localhost:8080/",
          "height": 191
        },
        "outputId": "34beedce-9f65-4777-acb1-611ff8010e24"
      },
      "source": [
        "# Splitting the data input into X, and the labels y \n",
        "X = np.array(processed)[:,0:18]\n",
        "X = X.astype('float32')\n",
        "y = keras.utils.to_categorical(df1[\"volumen\"],3)"
      ],
      "execution_count": 14,
      "outputs": [
        {
          "output_type": "error",
          "ename": "ValueError",
          "evalue": "ignored",
          "traceback": [
            "\u001b[0;31m---------------------------------------------------------------------------\u001b[0m",
            "\u001b[0;31mValueError\u001b[0m                                Traceback (most recent call last)",
            "\u001b[0;32m<ipython-input-14-b674ef468f3c>\u001b[0m in \u001b[0;36m<module>\u001b[0;34m()\u001b[0m\n\u001b[1;32m      1\u001b[0m \u001b[0mX\u001b[0m \u001b[0;34m=\u001b[0m \u001b[0mnp\u001b[0m\u001b[0;34m.\u001b[0m\u001b[0marray\u001b[0m\u001b[0;34m(\u001b[0m\u001b[0mprocessed\u001b[0m\u001b[0;34m)\u001b[0m\u001b[0;34m[\u001b[0m\u001b[0;34m:\u001b[0m\u001b[0;34m,\u001b[0m\u001b[0;36m0\u001b[0m\u001b[0;34m:\u001b[0m\u001b[0;36m18\u001b[0m\u001b[0;34m]\u001b[0m\u001b[0;34m\u001b[0m\u001b[0;34m\u001b[0m\u001b[0m\n\u001b[0;32m----> 2\u001b[0;31m \u001b[0mX\u001b[0m \u001b[0;34m=\u001b[0m \u001b[0mX\u001b[0m\u001b[0;34m.\u001b[0m\u001b[0mastype\u001b[0m\u001b[0;34m(\u001b[0m\u001b[0;34m'float32'\u001b[0m\u001b[0;34m)\u001b[0m\u001b[0;34m\u001b[0m\u001b[0;34m\u001b[0m\u001b[0m\n\u001b[0m\u001b[1;32m      3\u001b[0m \u001b[0my\u001b[0m \u001b[0;34m=\u001b[0m \u001b[0mkeras\u001b[0m\u001b[0;34m.\u001b[0m\u001b[0mutils\u001b[0m\u001b[0;34m.\u001b[0m\u001b[0mto_categorical\u001b[0m\u001b[0;34m(\u001b[0m\u001b[0mdf1\u001b[0m\u001b[0;34m[\u001b[0m\u001b[0;34m\"volumen\"\u001b[0m\u001b[0;34m]\u001b[0m\u001b[0;34m,\u001b[0m\u001b[0;36m3\u001b[0m\u001b[0;34m)\u001b[0m\u001b[0;34m\u001b[0m\u001b[0;34m\u001b[0m\u001b[0m\n",
            "\u001b[0;31mValueError\u001b[0m: could not convert string to float: '05/01/2009'"
          ]
        }
      ]
    },
    {
      "cell_type": "markdown",
      "metadata": {
        "id": "ePdZrcnUFLLO",
        "colab_type": "text"
      },
      "source": [
        "Determinar cuáles columnas son features y cuáles labels.\n",
        "\n",
        "En este caso las clases están dadas por \"volumen\" que indica si es un día alto volumen (cantidad de clientes), medio o bajo"
      ]
    },
    {
      "cell_type": "code",
      "metadata": {
        "id": "adtiFLHUFLLO",
        "colab_type": "code",
        "colab": {}
      },
      "source": [
        "\n",
        "# Splitting the data input into X, and the labels y \n",
        "features = np.array(processed)[:,0:18]\n",
        "features = features.astype('float32')\n",
        "labels = keras.utils.to_categorical(df1[\"volumen\"],3)\n",
        "\n",
        "print(\"Shape of features:\", features.shape)\n",
        "print(\"\\nShape of labels:\", labels.shape)\n",
        "print(\"\\nFirst 5 rows of features\")\n",
        "print(features[:5])\n",
        "print(\"\\nFirst 5 rows of labels\")\n",
        "print(labels[:5])\n",
        "\n"
      ],
      "execution_count": 0,
      "outputs": []
    },
    {
      "cell_type": "markdown",
      "metadata": {
        "id": "Scck3biGFLLS",
        "colab_type": "text"
      },
      "source": [
        "Separa set de entrenamiento y set de pruebas\n",
        "Con una proporción 75% - 25%"
      ]
    },
    {
      "cell_type": "code",
      "metadata": {
        "id": "9QeXNVU0FLLT",
        "colab_type": "code",
        "colab": {}
      },
      "source": [
        "X_train,X_test, y_train, y_test = train_test_split(features, labels, test_size=0.25, random_state = 13) "
      ],
      "execution_count": 0,
      "outputs": []
    },
    {
      "cell_type": "code",
      "metadata": {
        "id": "Ibun_09vFLLX",
        "colab_type": "code",
        "colab": {}
      },
      "source": [
        "print (\"shape del dataset completo: \", processed.shape)\n",
        "print (\"\\nshape del set de entrenamiento: \", X_train.shape)\n",
        "print (\"\\nshape del set de pruebas: \", y_test.shape)"
      ],
      "execution_count": 0,
      "outputs": []
    },
    {
      "cell_type": "markdown",
      "metadata": {
        "id": "Ext_dZyMFLLZ",
        "colab_type": "text"
      },
      "source": [
        "## Modelo clasificador usando DecisionTree"
      ]
    },
    {
      "cell_type": "code",
      "metadata": {
        "id": "bBlKE9gyFLLa",
        "colab_type": "code",
        "colab": {}
      },
      "source": [
        "DecisionTreeModel = DecisionTreeClassifier(max_depth=10,min_samples_leaf=12)\n",
        "\n",
        "#entrenamiento\n",
        "print(DecisionTreeModel.fit(X_train, y_train))\n",
        "\n",
        "#prediccion (usar datos de test)\n",
        "y_predict = DecisionTreeModel.predict(X_test)\n",
        "\n",
        "print(\"\\nAccuracy para DecisionTree: {:.4f}\".format(accuracy_score(y_test, y_predict)))"
      ],
      "execution_count": 0,
      "outputs": []
    },
    {
      "cell_type": "markdown",
      "metadata": {
        "id": "vBjoqbX1FLLe",
        "colab_type": "text"
      },
      "source": [
        "## Modelo clasificador usando RandomForest"
      ]
    },
    {
      "cell_type": "code",
      "metadata": {
        "scrolled": true,
        "id": "IaWT_NPrFLLe",
        "colab_type": "code",
        "colab": {}
      },
      "source": [
        "RandomForestModel = RandomForestClassifier(min_samples_leaf=3, min_samples_split=10, n_estimators=290, max_depth = 14, random_state = 10)\n",
        "\n",
        "#entrenamiento\n",
        "print(RandomForestModel.fit(X_train, y_train))\n",
        "\n",
        "#prediccion (usar datos de test)\n",
        "y_predict = RandomForestModel.predict(X_test)\n",
        "\n",
        "print(\"\\nAccuracy para Random Forest:     {:.4f}\".format(accuracy_score(y_test, y_predict)))"
      ],
      "execution_count": 0,
      "outputs": []
    },
    {
      "cell_type": "markdown",
      "metadata": {
        "id": "Jyxd0jGYR8_3",
        "colab_type": "text"
      },
      "source": [
        "## Modelo clasificador usando ANN"
      ]
    },
    {
      "cell_type": "code",
      "metadata": {
        "id": "hgUdw8LaFLLo",
        "colab_type": "code",
        "colab": {}
      },
      "source": [
        "#FALTA..."
      ],
      "execution_count": 0,
      "outputs": []
    }
  ]
}