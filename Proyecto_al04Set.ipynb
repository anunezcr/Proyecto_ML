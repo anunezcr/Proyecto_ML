{
  "nbformat": 4,
  "nbformat_minor": 0,
  "metadata": {
    "kernelspec": {
      "name": "python3",
      "display_name": "Python 3"
    },
    "language_info": {
      "codemirror_mode": {
        "name": "ipython",
        "version": 3
      },
      "file_extension": ".py",
      "mimetype": "text/x-python",
      "name": "python",
      "nbconvert_exporter": "python",
      "pygments_lexer": "ipython3",
      "version": "3.7.3"
    },
    "colab": {
      "name": "Proyecto-04Set.ipynb",
      "version": "0.3.2",
      "provenance": [],
      "collapsed_sections": [],
      "include_colab_link": true
    },
    "accelerator": "GPU"
  },
  "cells": [
    {
      "cell_type": "markdown",
      "metadata": {
        "id": "view-in-github",
        "colab_type": "text"
      },
      "source": [
        "<a href=\"https://colab.research.google.com/github/anunezcr/Proyecto_ML/blob/master/Proyecto_al04Set.ipynb\" target=\"_parent\"><img src=\"https://colab.research.google.com/assets/colab-badge.svg\" alt=\"Open In Colab\"/></a>"
      ]
    },
    {
      "cell_type": "markdown",
      "metadata": {
        "id": "j6LXO3nnFLKI",
        "colab_type": "text"
      },
      "source": [
        "# Curso: Aprendizaje Automático - Proyecto final (preliminar al 4 Sept)\n",
        "## Alonso Nuñez / Sergio Castillo\n",
        "## Fecha de entrega: 9 setiembre 2019"
      ]
    },
    {
      "cell_type": "markdown",
      "metadata": {
        "id": "q1N7KHJcFLKM",
        "colab_type": "text"
      },
      "source": [
        "## Importar dependencias y cargar el dataset\n",
        "## Para pruebas cargar dataset de una sucursal (10 años) , o de todas las sucursales (1 año)"
      ]
    },
    {
      "cell_type": "code",
      "metadata": {
        "id": "oZW-YzEXFLKP",
        "colab_type": "code",
        "outputId": "73fb6f72-5e0f-42fd-81fd-6a5dfba51dd9",
        "colab": {
          "base_uri": "https://localhost:8080/",
          "height": 33
        }
      },
      "source": [
        "import numpy as np\n",
        "import pandas as pd\n",
        "import matplotlib.pyplot as plt\n",
        "\n",
        "from sklearn.model_selection import train_test_split\n",
        "from sklearn.tree import DecisionTreeClassifier\n",
        "from sklearn.ensemble import RandomForestClassifier\n",
        "from sklearn.svm import SVC\n",
        "from sklearn.ensemble import GradientBoostingClassifier\n",
        "from sklearn.ensemble import VotingClassifier\n",
        "from sklearn.metrics import accuracy_score\n",
        "\n",
        "import keras\n",
        "from keras.utils import np_utils\n",
        "\n",
        "data =  pd.read_csv('https://raw.githubusercontent.com/anunezcr/datasets/master/clientes_diarios_clasif_unaSucursal.csv')\n",
        "#data =  pd.read_csv('https://raw.githubusercontent.com/anunezcr/datasets/master/clientes_diarios_clasif_todasSucursales.csv')"
      ],
      "execution_count": 1,
      "outputs": [
        {
          "output_type": "stream",
          "text": [
            "Using TensorFlow backend.\n"
          ],
          "name": "stderr"
        }
      ]
    },
    {
      "cell_type": "markdown",
      "metadata": {
        "id": "8Ri4ssMnFLKX",
        "colab_type": "text"
      },
      "source": [
        "# EDA\n",
        "## Revisar el tamaño del data set y ver algunas instancias:"
      ]
    },
    {
      "cell_type": "code",
      "metadata": {
        "id": "qC4G3fkkFLKY",
        "colab_type": "code",
        "outputId": "9c59be8a-25e1-4abc-b50b-064c18b5e91b",
        "colab": {
          "base_uri": "https://localhost:8080/",
          "height": 207
        }
      },
      "source": [
        "print(\"Dimensiones:\", data.shape)\n",
        "data.head(5)"
      ],
      "execution_count": 2,
      "outputs": [
        {
          "output_type": "stream",
          "text": [
            "Dimensiones: (3648, 14)\n"
          ],
          "name": "stdout"
        },
        {
          "output_type": "execute_result",
          "data": {
            "text/html": [
              "<div>\n",
              "<style scoped>\n",
              "    .dataframe tbody tr th:only-of-type {\n",
              "        vertical-align: middle;\n",
              "    }\n",
              "\n",
              "    .dataframe tbody tr th {\n",
              "        vertical-align: top;\n",
              "    }\n",
              "\n",
              "    .dataframe thead th {\n",
              "        text-align: right;\n",
              "    }\n",
              "</style>\n",
              "<table border=\"1\" class=\"dataframe\">\n",
              "  <thead>\n",
              "    <tr style=\"text-align: right;\">\n",
              "      <th></th>\n",
              "      <th>id_tienda</th>\n",
              "      <th>tipo_tienda</th>\n",
              "      <th>provincia</th>\n",
              "      <th>supervisor</th>\n",
              "      <th>mes_del_anio</th>\n",
              "      <th>semana_del_anio</th>\n",
              "      <th>es_quincena</th>\n",
              "      <th>es_feriado</th>\n",
              "      <th>dia_de_la_semana</th>\n",
              "      <th>horas_operacion</th>\n",
              "      <th>pos_en_uso</th>\n",
              "      <th>clientes_totales</th>\n",
              "      <th>clientes_vip</th>\n",
              "      <th>volumen</th>\n",
              "    </tr>\n",
              "  </thead>\n",
              "  <tbody>\n",
              "    <tr>\n",
              "      <th>0</th>\n",
              "      <td>xyz</td>\n",
              "      <td>FS</td>\n",
              "      <td>SAN JOSE</td>\n",
              "      <td>2015622_080</td>\n",
              "      <td>1</td>\n",
              "      <td>1</td>\n",
              "      <td>VERDADERO</td>\n",
              "      <td>Anio Nuevo</td>\n",
              "      <td>Jueves</td>\n",
              "      <td>17</td>\n",
              "      <td>6</td>\n",
              "      <td>385</td>\n",
              "      <td>167</td>\n",
              "      <td>medio</td>\n",
              "    </tr>\n",
              "    <tr>\n",
              "      <th>1</th>\n",
              "      <td>xyz</td>\n",
              "      <td>FS</td>\n",
              "      <td>SAN JOSE</td>\n",
              "      <td>2015622_080</td>\n",
              "      <td>1</td>\n",
              "      <td>1</td>\n",
              "      <td>VERDADERO</td>\n",
              "      <td>NO</td>\n",
              "      <td>Viernes</td>\n",
              "      <td>19</td>\n",
              "      <td>7</td>\n",
              "      <td>400</td>\n",
              "      <td>147</td>\n",
              "      <td>medio</td>\n",
              "    </tr>\n",
              "    <tr>\n",
              "      <th>2</th>\n",
              "      <td>xyz</td>\n",
              "      <td>FS</td>\n",
              "      <td>SAN JOSE</td>\n",
              "      <td>2015622_080</td>\n",
              "      <td>1</td>\n",
              "      <td>1</td>\n",
              "      <td>VERDADERO</td>\n",
              "      <td>NO</td>\n",
              "      <td>Sabado</td>\n",
              "      <td>20</td>\n",
              "      <td>6</td>\n",
              "      <td>409</td>\n",
              "      <td>166</td>\n",
              "      <td>medio</td>\n",
              "    </tr>\n",
              "    <tr>\n",
              "      <th>3</th>\n",
              "      <td>xyz</td>\n",
              "      <td>FS</td>\n",
              "      <td>SAN JOSE</td>\n",
              "      <td>2015622_080</td>\n",
              "      <td>1</td>\n",
              "      <td>2</td>\n",
              "      <td>FALSO</td>\n",
              "      <td>NO</td>\n",
              "      <td>Domingo</td>\n",
              "      <td>19</td>\n",
              "      <td>6</td>\n",
              "      <td>455</td>\n",
              "      <td>185</td>\n",
              "      <td>medio</td>\n",
              "    </tr>\n",
              "    <tr>\n",
              "      <th>4</th>\n",
              "      <td>xyz</td>\n",
              "      <td>FS</td>\n",
              "      <td>SAN JOSE</td>\n",
              "      <td>2015622_080</td>\n",
              "      <td>1</td>\n",
              "      <td>2</td>\n",
              "      <td>FALSO</td>\n",
              "      <td>NO</td>\n",
              "      <td>Lunes</td>\n",
              "      <td>19</td>\n",
              "      <td>7</td>\n",
              "      <td>301</td>\n",
              "      <td>83</td>\n",
              "      <td>medio</td>\n",
              "    </tr>\n",
              "  </tbody>\n",
              "</table>\n",
              "</div>"
            ],
            "text/plain": [
              "  id_tienda tipo_tienda provincia  ... clientes_totales  clientes_vip  volumen\n",
              "0       xyz          FS  SAN JOSE  ...              385           167    medio\n",
              "1       xyz          FS  SAN JOSE  ...              400           147    medio\n",
              "2       xyz          FS  SAN JOSE  ...              409           166    medio\n",
              "3       xyz          FS  SAN JOSE  ...              455           185    medio\n",
              "4       xyz          FS  SAN JOSE  ...              301            83    medio\n",
              "\n",
              "[5 rows x 14 columns]"
            ]
          },
          "metadata": {
            "tags": []
          },
          "execution_count": 2
        }
      ]
    },
    {
      "cell_type": "markdown",
      "metadata": {
        "id": "8PLbXLwXX3ZM",
        "colab_type": "text"
      },
      "source": [
        "## Validaciones de valores en columnas"
      ]
    },
    {
      "cell_type": "code",
      "metadata": {
        "id": "Z-cOduUvX1G9",
        "colab_type": "code",
        "outputId": "53d558c8-25b2-4af6-daf8-5e5f1695bf3c",
        "colab": {
          "base_uri": "https://localhost:8080/",
          "height": 277
        }
      },
      "source": [
        "print(\"Valores distintos de la columna es quincena:\")\n",
        "print(data.es_quincena.unique())\n",
        "print(\"\\nValores distintos de la columna es feriado:\")\n",
        "print(data.es_feriado.unique())\n",
        "print(\"\\nValores distintos de la columna dia de la semana:\")\n",
        "print(data.dia_de_la_semana.unique())\n",
        "print(\"\\nValores distintos de la columna volumen:\")\n",
        "print(data.volumen.unique())"
      ],
      "execution_count": 3,
      "outputs": [
        {
          "output_type": "stream",
          "text": [
            "Valores distintos de la columna es quincena:\n",
            "[' VERDADERO ' ' FALSO ']\n",
            "\n",
            "Valores distintos de la columna es feriado:\n",
            "[' Anio Nuevo ' ' NO ' ' Jueves Santo ' ' Viernes Santo ' ' Sabado Santo '\n",
            " ' Dia del Trabajo ' ' Anexion del Partido de Nicoya a Costa Rica '\n",
            " ' Dia de la Virgen de los angeles ' ' Dia de la Madre '\n",
            " ' Dia de la Independencia ' ' Dia de las Culturas ' ' Dia de Navidad '\n",
            " ' Fiesta de Fin de Anio ' ' Dia de Juan Santamaria '\n",
            " ' Dia de las Culturas - Dia Feriado ']\n",
            "\n",
            "Valores distintos de la columna dia de la semana:\n",
            "['Jueves' 'Viernes' 'Sabado' 'Domingo' 'Lunes' 'Martes' 'Miercoles']\n",
            "\n",
            "Valores distintos de la columna volumen:\n",
            "['medio' 'alto' 'bajo']\n"
          ],
          "name": "stdout"
        }
      ]
    },
    {
      "cell_type": "markdown",
      "metadata": {
        "id": "-bYAIi5HFLKd",
        "colab_type": "text"
      },
      "source": [
        "## Visualización de datos"
      ]
    },
    {
      "cell_type": "code",
      "metadata": {
        "id": "oBHskhtGcu9T",
        "colab_type": "code",
        "outputId": "64f8c74e-453f-44bc-81d9-05f497f13829",
        "colab": {
          "base_uri": "https://localhost:8080/",
          "height": 482
        }
      },
      "source": [
        "print(\"Distribución de los valores en columna horas operacion:\")\n",
        "data.groupby('horas_operacion')['horas_operacion'].count().plot(kind = \"bar\", figsize = (10, 7))"
      ],
      "execution_count": 4,
      "outputs": [
        {
          "output_type": "stream",
          "text": [
            "Distribución de los valores en columna horas operacion:\n"
          ],
          "name": "stdout"
        },
        {
          "output_type": "execute_result",
          "data": {
            "text/plain": [
              "<matplotlib.axes._subplots.AxesSubplot at 0x7f555d6d25f8>"
            ]
          },
          "metadata": {
            "tags": []
          },
          "execution_count": 4
        },
        {
          "output_type": "display_data",
          "data": {
            "image/png": "[encoded data removed]",
            "text/plain": [
              "<Figure size 720x504 with 1 Axes>"
            ]
          },
          "metadata": {
            "tags": []
          }
        }
      ]
    },
    {
      "cell_type": "code",
      "metadata": {
        "id": "0If3kx-sdtn9",
        "colab_type": "code",
        "outputId": "3a45c750-9dc6-4ed8-b0bc-c18723407d1c",
        "colab": {
          "base_uri": "https://localhost:8080/",
          "height": 475
        }
      },
      "source": [
        "print(\"Distribución de los valores en columna pos en uso:\")\n",
        "data.groupby('pos_en_uso')['pos_en_uso'].count().plot(kind = \"bar\", figsize = (10, 7))"
      ],
      "execution_count": 5,
      "outputs": [
        {
          "output_type": "stream",
          "text": [
            "Distribución de los valores en columna pos en uso:\n"
          ],
          "name": "stdout"
        },
        {
          "output_type": "execute_result",
          "data": {
            "text/plain": [
              "<matplotlib.axes._subplots.AxesSubplot at 0x7f555d643da0>"
            ]
          },
          "metadata": {
            "tags": []
          },
          "execution_count": 5
        },
        {
          "output_type": "display_data",
          "data": {
            "image/png": "[encoded data removed]",
            "text/plain": [
              "<Figure size 720x504 with 1 Axes>"
            ]
          },
          "metadata": {
            "tags": []
          }
        }
      ]
    },
    {
      "cell_type": "markdown",
      "metadata": {
        "id": "1HtQFndWFLKp",
        "colab_type": "text"
      },
      "source": [
        "# Pre-Procesado"
      ]
    },
    {
      "cell_type": "markdown",
      "metadata": {
        "id": "3hkBcbGWFLKq",
        "colab_type": "text"
      },
      "source": [
        "## Convertir features de texto en numéricos (pero aún categóricos)"
      ]
    },
    {
      "cell_type": "code",
      "metadata": {
        "id": "viDDnoqiFLKs",
        "colab_type": "code",
        "colab": {}
      },
      "source": [
        "df = data.copy()  #Creamos una copia para mantener el DF original intacto\n",
        "df['dia_de_la_semana'] = data['dia_de_la_semana'].replace(\n",
        "    {'Lunes' : 0, 'Martes' : 1, 'Miercoles' : 2, 'Jueves' : 3, 'Viernes' : 4, 'Sabado' : 5, 'Domingo' : 6}\n",
        ")\n",
        "df['volumen'] = data['volumen'].replace({'alto' : 0, 'medio' : 1, 'bajo' : 2})\n",
        "df['es_quincena'] = data['es_quincena'].replace({' VERDADERO ' : 1, ' FALSO ' : 0})"
      ],
      "execution_count": 0,
      "outputs": []
    },
    {
      "cell_type": "code",
      "metadata": {
        "id": "BWXT-l-9ikTa",
        "colab_type": "code",
        "outputId": "3536debb-7797-4b14-9c52-cb07d5ecc28a",
        "colab": {
          "base_uri": "https://localhost:8080/",
          "height": 351
        }
      },
      "source": [
        "#Este caso especial primero cambiamos la palabra NO por un 0 y luego cambiamos cualquier otro valor por un 1\n",
        "df['es_feriado'] = data['es_feriado'].replace({' NO ': 0})\n",
        "df['es_feriado'] = df['es_feriado'].where(df['es_feriado'] == 0, other = 1)\n",
        "df['es_feriado'].head(5)\n",
        "print(\"Verificar resultado final:\")\n",
        "df.head(10)"
      ],
      "execution_count": 7,
      "outputs": [
        {
          "output_type": "stream",
          "text": [
            "Verificar resultado final:\n"
          ],
          "name": "stdout"
        },
        {
          "output_type": "execute_result",
          "data": {
            "text/html": [
              "<div>\n",
              "<style scoped>\n",
              "    .dataframe tbody tr th:only-of-type {\n",
              "        vertical-align: middle;\n",
              "    }\n",
              "\n",
              "    .dataframe tbody tr th {\n",
              "        vertical-align: top;\n",
              "    }\n",
              "\n",
              "    .dataframe thead th {\n",
              "        text-align: right;\n",
              "    }\n",
              "</style>\n",
              "<table border=\"1\" class=\"dataframe\">\n",
              "  <thead>\n",
              "    <tr style=\"text-align: right;\">\n",
              "      <th></th>\n",
              "      <th>id_tienda</th>\n",
              "      <th>tipo_tienda</th>\n",
              "      <th>provincia</th>\n",
              "      <th>supervisor</th>\n",
              "      <th>mes_del_anio</th>\n",
              "      <th>semana_del_anio</th>\n",
              "      <th>es_quincena</th>\n",
              "      <th>es_feriado</th>\n",
              "      <th>dia_de_la_semana</th>\n",
              "      <th>horas_operacion</th>\n",
              "      <th>pos_en_uso</th>\n",
              "      <th>clientes_totales</th>\n",
              "      <th>clientes_vip</th>\n",
              "      <th>volumen</th>\n",
              "    </tr>\n",
              "  </thead>\n",
              "  <tbody>\n",
              "    <tr>\n",
              "      <th>0</th>\n",
              "      <td>xyz</td>\n",
              "      <td>FS</td>\n",
              "      <td>SAN JOSE</td>\n",
              "      <td>2015622_080</td>\n",
              "      <td>1</td>\n",
              "      <td>1</td>\n",
              "      <td>1</td>\n",
              "      <td>1</td>\n",
              "      <td>3</td>\n",
              "      <td>17</td>\n",
              "      <td>6</td>\n",
              "      <td>385</td>\n",
              "      <td>167</td>\n",
              "      <td>1</td>\n",
              "    </tr>\n",
              "    <tr>\n",
              "      <th>1</th>\n",
              "      <td>xyz</td>\n",
              "      <td>FS</td>\n",
              "      <td>SAN JOSE</td>\n",
              "      <td>2015622_080</td>\n",
              "      <td>1</td>\n",
              "      <td>1</td>\n",
              "      <td>1</td>\n",
              "      <td>0</td>\n",
              "      <td>4</td>\n",
              "      <td>19</td>\n",
              "      <td>7</td>\n",
              "      <td>400</td>\n",
              "      <td>147</td>\n",
              "      <td>1</td>\n",
              "    </tr>\n",
              "    <tr>\n",
              "      <th>2</th>\n",
              "      <td>xyz</td>\n",
              "      <td>FS</td>\n",
              "      <td>SAN JOSE</td>\n",
              "      <td>2015622_080</td>\n",
              "      <td>1</td>\n",
              "      <td>1</td>\n",
              "      <td>1</td>\n",
              "      <td>0</td>\n",
              "      <td>5</td>\n",
              "      <td>20</td>\n",
              "      <td>6</td>\n",
              "      <td>409</td>\n",
              "      <td>166</td>\n",
              "      <td>1</td>\n",
              "    </tr>\n",
              "    <tr>\n",
              "      <th>3</th>\n",
              "      <td>xyz</td>\n",
              "      <td>FS</td>\n",
              "      <td>SAN JOSE</td>\n",
              "      <td>2015622_080</td>\n",
              "      <td>1</td>\n",
              "      <td>2</td>\n",
              "      <td>0</td>\n",
              "      <td>0</td>\n",
              "      <td>6</td>\n",
              "      <td>19</td>\n",
              "      <td>6</td>\n",
              "      <td>455</td>\n",
              "      <td>185</td>\n",
              "      <td>1</td>\n",
              "    </tr>\n",
              "    <tr>\n",
              "      <th>4</th>\n",
              "      <td>xyz</td>\n",
              "      <td>FS</td>\n",
              "      <td>SAN JOSE</td>\n",
              "      <td>2015622_080</td>\n",
              "      <td>1</td>\n",
              "      <td>2</td>\n",
              "      <td>0</td>\n",
              "      <td>0</td>\n",
              "      <td>0</td>\n",
              "      <td>19</td>\n",
              "      <td>7</td>\n",
              "      <td>301</td>\n",
              "      <td>83</td>\n",
              "      <td>1</td>\n",
              "    </tr>\n",
              "    <tr>\n",
              "      <th>5</th>\n",
              "      <td>xyz</td>\n",
              "      <td>FS</td>\n",
              "      <td>SAN JOSE</td>\n",
              "      <td>2015622_080</td>\n",
              "      <td>1</td>\n",
              "      <td>2</td>\n",
              "      <td>0</td>\n",
              "      <td>0</td>\n",
              "      <td>1</td>\n",
              "      <td>18</td>\n",
              "      <td>7</td>\n",
              "      <td>307</td>\n",
              "      <td>94</td>\n",
              "      <td>1</td>\n",
              "    </tr>\n",
              "    <tr>\n",
              "      <th>6</th>\n",
              "      <td>xyz</td>\n",
              "      <td>FS</td>\n",
              "      <td>SAN JOSE</td>\n",
              "      <td>2015622_080</td>\n",
              "      <td>1</td>\n",
              "      <td>2</td>\n",
              "      <td>0</td>\n",
              "      <td>0</td>\n",
              "      <td>2</td>\n",
              "      <td>19</td>\n",
              "      <td>7</td>\n",
              "      <td>305</td>\n",
              "      <td>95</td>\n",
              "      <td>1</td>\n",
              "    </tr>\n",
              "    <tr>\n",
              "      <th>7</th>\n",
              "      <td>xyz</td>\n",
              "      <td>FS</td>\n",
              "      <td>SAN JOSE</td>\n",
              "      <td>2015622_080</td>\n",
              "      <td>1</td>\n",
              "      <td>2</td>\n",
              "      <td>0</td>\n",
              "      <td>0</td>\n",
              "      <td>3</td>\n",
              "      <td>19</td>\n",
              "      <td>7</td>\n",
              "      <td>288</td>\n",
              "      <td>75</td>\n",
              "      <td>1</td>\n",
              "    </tr>\n",
              "    <tr>\n",
              "      <th>8</th>\n",
              "      <td>xyz</td>\n",
              "      <td>FS</td>\n",
              "      <td>SAN JOSE</td>\n",
              "      <td>2015622_080</td>\n",
              "      <td>1</td>\n",
              "      <td>2</td>\n",
              "      <td>0</td>\n",
              "      <td>0</td>\n",
              "      <td>4</td>\n",
              "      <td>20</td>\n",
              "      <td>6</td>\n",
              "      <td>372</td>\n",
              "      <td>98</td>\n",
              "      <td>1</td>\n",
              "    </tr>\n",
              "    <tr>\n",
              "      <th>9</th>\n",
              "      <td>xyz</td>\n",
              "      <td>FS</td>\n",
              "      <td>SAN JOSE</td>\n",
              "      <td>2015622_080</td>\n",
              "      <td>1</td>\n",
              "      <td>2</td>\n",
              "      <td>0</td>\n",
              "      <td>0</td>\n",
              "      <td>5</td>\n",
              "      <td>19</td>\n",
              "      <td>6</td>\n",
              "      <td>446</td>\n",
              "      <td>189</td>\n",
              "      <td>1</td>\n",
              "    </tr>\n",
              "  </tbody>\n",
              "</table>\n",
              "</div>"
            ],
            "text/plain": [
              "  id_tienda tipo_tienda provincia  ... clientes_totales  clientes_vip  volumen\n",
              "0       xyz          FS  SAN JOSE  ...              385           167        1\n",
              "1       xyz          FS  SAN JOSE  ...              400           147        1\n",
              "2       xyz          FS  SAN JOSE  ...              409           166        1\n",
              "3       xyz          FS  SAN JOSE  ...              455           185        1\n",
              "4       xyz          FS  SAN JOSE  ...              301            83        1\n",
              "5       xyz          FS  SAN JOSE  ...              307            94        1\n",
              "6       xyz          FS  SAN JOSE  ...              305            95        1\n",
              "7       xyz          FS  SAN JOSE  ...              288            75        1\n",
              "8       xyz          FS  SAN JOSE  ...              372            98        1\n",
              "9       xyz          FS  SAN JOSE  ...              446           189        1\n",
              "\n",
              "[10 rows x 14 columns]"
            ]
          },
          "metadata": {
            "tags": []
          },
          "execution_count": 7
        }
      ]
    },
    {
      "cell_type": "markdown",
      "metadata": {
        "id": "QQQLZPHaFLK2",
        "colab_type": "text"
      },
      "source": [
        "## Eliminar outliers\n",
        "\n",
        "Las variables que nos interesan son las de cantidad de clientes, comparamos clientes totales vs. VIP para cada día y decidimos borrar aquellos valores que exceden la norma, que dentro del conjunto de datos no iban a aportar mayor detalle."
      ]
    },
    {
      "cell_type": "code",
      "metadata": {
        "id": "wZhgKsx2FLK3",
        "colab_type": "code",
        "outputId": "58471152-a985-4962-c608-3021fc91ce4c",
        "colab": {
          "base_uri": "https://localhost:8080/",
          "height": 601
        }
      },
      "source": [
        "df.plot.scatter(x = 'clientes_totales', y = 'clientes_vip')\n",
        "print(\"Tamaño original:\", df.shape)\n",
        "\n",
        "# para data set de todas las sucursales:\n",
        "#df1 = df[df.clientes_vip < 100]\n",
        "#df1 = df1[df1.clientes_totales < 800]\n",
        "\n",
        "# para data set de una sucursal:\n",
        "df1 = df[df.clientes_vip < 300]\n",
        "df1 = df1[df1.clientes_totales > 250]\n",
        "\n",
        "print(\"Tamaño después de borrado:\", df1.shape)\n",
        "df1.plot.scatter(x = 'clientes_totales', y = 'clientes_vip')"
      ],
      "execution_count": 8,
      "outputs": [
        {
          "output_type": "stream",
          "text": [
            "Tamaño original: (3648, 14)\n",
            "Tamaño después de borrado: (3635, 14)\n"
          ],
          "name": "stdout"
        },
        {
          "output_type": "execute_result",
          "data": {
            "text/plain": [
              "<matplotlib.axes._subplots.AxesSubplot at 0x7f5559a82e48>"
            ]
          },
          "metadata": {
            "tags": []
          },
          "execution_count": 8
        },
        {
          "output_type": "display_data",
          "data": {
            "image/png": "[encoded data removed]",
            "text/plain": [
              "<Figure size 432x288 with 1 Axes>"
            ]
          },
          "metadata": {
            "tags": []
          }
        },
        {
          "output_type": "display_data",
          "data": {
            "image/png": "[encoded data removed]",
            "text/plain": [
              "<Figure size 432x288 with 1 Axes>"
            ]
          },
          "metadata": {
            "tags": []
          }
        }
      ]
    },
    {
      "cell_type": "markdown",
      "metadata": {
        "id": "rmOFXfeaFLK7",
        "colab_type": "text"
      },
      "source": [
        "## Convertir datos categóricos - One-hot encoding"
      ]
    },
    {
      "cell_type": "code",
      "metadata": {
        "id": "o22byYtOFLK8",
        "colab_type": "code",
        "outputId": "89c732b1-feb3-4c4a-b1a2-69bb32efbc73",
        "colab": {
          "base_uri": "https://localhost:8080/",
          "height": 211
        }
      },
      "source": [
        "# One-hot encoding\n",
        "df2 = pd.get_dummies(df1, columns=['mes_del_anio', 'dia_de_la_semana', 'volumen'])\n",
        "df2.head()\n",
        "\n"
      ],
      "execution_count": 9,
      "outputs": [
        {
          "output_type": "execute_result",
          "data": {
            "text/html": [
              "<div>\n",
              "<style scoped>\n",
              "    .dataframe tbody tr th:only-of-type {\n",
              "        vertical-align: middle;\n",
              "    }\n",
              "\n",
              "    .dataframe tbody tr th {\n",
              "        vertical-align: top;\n",
              "    }\n",
              "\n",
              "    .dataframe thead th {\n",
              "        text-align: right;\n",
              "    }\n",
              "</style>\n",
              "<table border=\"1\" class=\"dataframe\">\n",
              "  <thead>\n",
              "    <tr style=\"text-align: right;\">\n",
              "      <th></th>\n",
              "      <th>id_tienda</th>\n",
              "      <th>tipo_tienda</th>\n",
              "      <th>provincia</th>\n",
              "      <th>supervisor</th>\n",
              "      <th>semana_del_anio</th>\n",
              "      <th>es_quincena</th>\n",
              "      <th>es_feriado</th>\n",
              "      <th>horas_operacion</th>\n",
              "      <th>pos_en_uso</th>\n",
              "      <th>clientes_totales</th>\n",
              "      <th>clientes_vip</th>\n",
              "      <th>mes_del_anio_1</th>\n",
              "      <th>mes_del_anio_2</th>\n",
              "      <th>mes_del_anio_3</th>\n",
              "      <th>mes_del_anio_4</th>\n",
              "      <th>mes_del_anio_5</th>\n",
              "      <th>mes_del_anio_6</th>\n",
              "      <th>mes_del_anio_7</th>\n",
              "      <th>mes_del_anio_8</th>\n",
              "      <th>mes_del_anio_9</th>\n",
              "      <th>mes_del_anio_10</th>\n",
              "      <th>mes_del_anio_11</th>\n",
              "      <th>mes_del_anio_12</th>\n",
              "      <th>dia_de_la_semana_0</th>\n",
              "      <th>dia_de_la_semana_1</th>\n",
              "      <th>dia_de_la_semana_2</th>\n",
              "      <th>dia_de_la_semana_3</th>\n",
              "      <th>dia_de_la_semana_4</th>\n",
              "      <th>dia_de_la_semana_5</th>\n",
              "      <th>dia_de_la_semana_6</th>\n",
              "      <th>volumen_0</th>\n",
              "      <th>volumen_1</th>\n",
              "    </tr>\n",
              "  </thead>\n",
              "  <tbody>\n",
              "    <tr>\n",
              "      <th>0</th>\n",
              "      <td>xyz</td>\n",
              "      <td>FS</td>\n",
              "      <td>SAN JOSE</td>\n",
              "      <td>2015622_080</td>\n",
              "      <td>1</td>\n",
              "      <td>1</td>\n",
              "      <td>1</td>\n",
              "      <td>17</td>\n",
              "      <td>6</td>\n",
              "      <td>385</td>\n",
              "      <td>167</td>\n",
              "      <td>1</td>\n",
              "      <td>0</td>\n",
              "      <td>0</td>\n",
              "      <td>0</td>\n",
              "      <td>0</td>\n",
              "      <td>0</td>\n",
              "      <td>0</td>\n",
              "      <td>0</td>\n",
              "      <td>0</td>\n",
              "      <td>0</td>\n",
              "      <td>0</td>\n",
              "      <td>0</td>\n",
              "      <td>0</td>\n",
              "      <td>0</td>\n",
              "      <td>0</td>\n",
              "      <td>1</td>\n",
              "      <td>0</td>\n",
              "      <td>0</td>\n",
              "      <td>0</td>\n",
              "      <td>0</td>\n",
              "      <td>1</td>\n",
              "    </tr>\n",
              "    <tr>\n",
              "      <th>1</th>\n",
              "      <td>xyz</td>\n",
              "      <td>FS</td>\n",
              "      <td>SAN JOSE</td>\n",
              "      <td>2015622_080</td>\n",
              "      <td>1</td>\n",
              "      <td>1</td>\n",
              "      <td>0</td>\n",
              "      <td>19</td>\n",
              "      <td>7</td>\n",
              "      <td>400</td>\n",
              "      <td>147</td>\n",
              "      <td>1</td>\n",
              "      <td>0</td>\n",
              "      <td>0</td>\n",
              "      <td>0</td>\n",
              "      <td>0</td>\n",
              "      <td>0</td>\n",
              "      <td>0</td>\n",
              "      <td>0</td>\n",
              "      <td>0</td>\n",
              "      <td>0</td>\n",
              "      <td>0</td>\n",
              "      <td>0</td>\n",
              "      <td>0</td>\n",
              "      <td>0</td>\n",
              "      <td>0</td>\n",
              "      <td>0</td>\n",
              "      <td>1</td>\n",
              "      <td>0</td>\n",
              "      <td>0</td>\n",
              "      <td>0</td>\n",
              "      <td>1</td>\n",
              "    </tr>\n",
              "    <tr>\n",
              "      <th>2</th>\n",
              "      <td>xyz</td>\n",
              "      <td>FS</td>\n",
              "      <td>SAN JOSE</td>\n",
              "      <td>2015622_080</td>\n",
              "      <td>1</td>\n",
              "      <td>1</td>\n",
              "      <td>0</td>\n",
              "      <td>20</td>\n",
              "      <td>6</td>\n",
              "      <td>409</td>\n",
              "      <td>166</td>\n",
              "      <td>1</td>\n",
              "      <td>0</td>\n",
              "      <td>0</td>\n",
              "      <td>0</td>\n",
              "      <td>0</td>\n",
              "      <td>0</td>\n",
              "      <td>0</td>\n",
              "      <td>0</td>\n",
              "      <td>0</td>\n",
              "      <td>0</td>\n",
              "      <td>0</td>\n",
              "      <td>0</td>\n",
              "      <td>0</td>\n",
              "      <td>0</td>\n",
              "      <td>0</td>\n",
              "      <td>0</td>\n",
              "      <td>0</td>\n",
              "      <td>1</td>\n",
              "      <td>0</td>\n",
              "      <td>0</td>\n",
              "      <td>1</td>\n",
              "    </tr>\n",
              "    <tr>\n",
              "      <th>3</th>\n",
              "      <td>xyz</td>\n",
              "      <td>FS</td>\n",
              "      <td>SAN JOSE</td>\n",
              "      <td>2015622_080</td>\n",
              "      <td>2</td>\n",
              "      <td>0</td>\n",
              "      <td>0</td>\n",
              "      <td>19</td>\n",
              "      <td>6</td>\n",
              "      <td>455</td>\n",
              "      <td>185</td>\n",
              "      <td>1</td>\n",
              "      <td>0</td>\n",
              "      <td>0</td>\n",
              "      <td>0</td>\n",
              "      <td>0</td>\n",
              "      <td>0</td>\n",
              "      <td>0</td>\n",
              "      <td>0</td>\n",
              "      <td>0</td>\n",
              "      <td>0</td>\n",
              "      <td>0</td>\n",
              "      <td>0</td>\n",
              "      <td>0</td>\n",
              "      <td>0</td>\n",
              "      <td>0</td>\n",
              "      <td>0</td>\n",
              "      <td>0</td>\n",
              "      <td>0</td>\n",
              "      <td>1</td>\n",
              "      <td>0</td>\n",
              "      <td>1</td>\n",
              "    </tr>\n",
              "    <tr>\n",
              "      <th>4</th>\n",
              "      <td>xyz</td>\n",
              "      <td>FS</td>\n",
              "      <td>SAN JOSE</td>\n",
              "      <td>2015622_080</td>\n",
              "      <td>2</td>\n",
              "      <td>0</td>\n",
              "      <td>0</td>\n",
              "      <td>19</td>\n",
              "      <td>7</td>\n",
              "      <td>301</td>\n",
              "      <td>83</td>\n",
              "      <td>1</td>\n",
              "      <td>0</td>\n",
              "      <td>0</td>\n",
              "      <td>0</td>\n",
              "      <td>0</td>\n",
              "      <td>0</td>\n",
              "      <td>0</td>\n",
              "      <td>0</td>\n",
              "      <td>0</td>\n",
              "      <td>0</td>\n",
              "      <td>0</td>\n",
              "      <td>0</td>\n",
              "      <td>1</td>\n",
              "      <td>0</td>\n",
              "      <td>0</td>\n",
              "      <td>0</td>\n",
              "      <td>0</td>\n",
              "      <td>0</td>\n",
              "      <td>0</td>\n",
              "      <td>0</td>\n",
              "      <td>1</td>\n",
              "    </tr>\n",
              "  </tbody>\n",
              "</table>\n",
              "</div>"
            ],
            "text/plain": [
              "  id_tienda tipo_tienda provincia  ... dia_de_la_semana_6  volumen_0  volumen_1\n",
              "0       xyz          FS  SAN JOSE  ...                  0          0          1\n",
              "1       xyz          FS  SAN JOSE  ...                  0          0          1\n",
              "2       xyz          FS  SAN JOSE  ...                  0          0          1\n",
              "3       xyz          FS  SAN JOSE  ...                  1          0          1\n",
              "4       xyz          FS  SAN JOSE  ...                  0          0          1\n",
              "\n",
              "[5 rows x 32 columns]"
            ]
          },
          "metadata": {
            "tags": []
          },
          "execution_count": 9
        }
      ]
    },
    {
      "cell_type": "markdown",
      "metadata": {
        "id": "TvURAY4RFLK_",
        "colab_type": "text"
      },
      "source": [
        "## Normalizar features horas_operacion y pos_en_uso"
      ]
    },
    {
      "cell_type": "code",
      "metadata": {
        "id": "6kDx_GFxFLLA",
        "colab_type": "code",
        "outputId": "1e0321c4-b3bd-4b5c-81e7-c885c089b004",
        "colab": {
          "base_uri": "https://localhost:8080/",
          "height": 355
        }
      },
      "source": [
        "# Normalizando horas_operacion y pos_en_uso para el intervalo 0 a 1\n",
        "df2[\"horas_operacion\"] = df2[\"horas_operacion\"]/24\n",
        "df2[\"pos_en_uso\"] = df2[\"pos_en_uso\"]/10\n",
        "df2.head(10)"
      ],
      "execution_count": 10,
      "outputs": [
        {
          "output_type": "execute_result",
          "data": {
            "text/html": [
              "<div>\n",
              "<style scoped>\n",
              "    .dataframe tbody tr th:only-of-type {\n",
              "        vertical-align: middle;\n",
              "    }\n",
              "\n",
              "    .dataframe tbody tr th {\n",
              "        vertical-align: top;\n",
              "    }\n",
              "\n",
              "    .dataframe thead th {\n",
              "        text-align: right;\n",
              "    }\n",
              "</style>\n",
              "<table border=\"1\" class=\"dataframe\">\n",
              "  <thead>\n",
              "    <tr style=\"text-align: right;\">\n",
              "      <th></th>\n",
              "      <th>id_tienda</th>\n",
              "      <th>tipo_tienda</th>\n",
              "      <th>provincia</th>\n",
              "      <th>supervisor</th>\n",
              "      <th>semana_del_anio</th>\n",
              "      <th>es_quincena</th>\n",
              "      <th>es_feriado</th>\n",
              "      <th>horas_operacion</th>\n",
              "      <th>pos_en_uso</th>\n",
              "      <th>clientes_totales</th>\n",
              "      <th>clientes_vip</th>\n",
              "      <th>mes_del_anio_1</th>\n",
              "      <th>mes_del_anio_2</th>\n",
              "      <th>mes_del_anio_3</th>\n",
              "      <th>mes_del_anio_4</th>\n",
              "      <th>mes_del_anio_5</th>\n",
              "      <th>mes_del_anio_6</th>\n",
              "      <th>mes_del_anio_7</th>\n",
              "      <th>mes_del_anio_8</th>\n",
              "      <th>mes_del_anio_9</th>\n",
              "      <th>mes_del_anio_10</th>\n",
              "      <th>mes_del_anio_11</th>\n",
              "      <th>mes_del_anio_12</th>\n",
              "      <th>dia_de_la_semana_0</th>\n",
              "      <th>dia_de_la_semana_1</th>\n",
              "      <th>dia_de_la_semana_2</th>\n",
              "      <th>dia_de_la_semana_3</th>\n",
              "      <th>dia_de_la_semana_4</th>\n",
              "      <th>dia_de_la_semana_5</th>\n",
              "      <th>dia_de_la_semana_6</th>\n",
              "      <th>volumen_0</th>\n",
              "      <th>volumen_1</th>\n",
              "    </tr>\n",
              "  </thead>\n",
              "  <tbody>\n",
              "    <tr>\n",
              "      <th>0</th>\n",
              "      <td>xyz</td>\n",
              "      <td>FS</td>\n",
              "      <td>SAN JOSE</td>\n",
              "      <td>2015622_080</td>\n",
              "      <td>1</td>\n",
              "      <td>1</td>\n",
              "      <td>1</td>\n",
              "      <td>0.708333</td>\n",
              "      <td>0.6</td>\n",
              "      <td>385</td>\n",
              "      <td>167</td>\n",
              "      <td>1</td>\n",
              "      <td>0</td>\n",
              "      <td>0</td>\n",
              "      <td>0</td>\n",
              "      <td>0</td>\n",
              "      <td>0</td>\n",
              "      <td>0</td>\n",
              "      <td>0</td>\n",
              "      <td>0</td>\n",
              "      <td>0</td>\n",
              "      <td>0</td>\n",
              "      <td>0</td>\n",
              "      <td>0</td>\n",
              "      <td>0</td>\n",
              "      <td>0</td>\n",
              "      <td>1</td>\n",
              "      <td>0</td>\n",
              "      <td>0</td>\n",
              "      <td>0</td>\n",
              "      <td>0</td>\n",
              "      <td>1</td>\n",
              "    </tr>\n",
              "    <tr>\n",
              "      <th>1</th>\n",
              "      <td>xyz</td>\n",
              "      <td>FS</td>\n",
              "      <td>SAN JOSE</td>\n",
              "      <td>2015622_080</td>\n",
              "      <td>1</td>\n",
              "      <td>1</td>\n",
              "      <td>0</td>\n",
              "      <td>0.791667</td>\n",
              "      <td>0.7</td>\n",
              "      <td>400</td>\n",
              "      <td>147</td>\n",
              "      <td>1</td>\n",
              "      <td>0</td>\n",
              "      <td>0</td>\n",
              "      <td>0</td>\n",
              "      <td>0</td>\n",
              "      <td>0</td>\n",
              "      <td>0</td>\n",
              "      <td>0</td>\n",
              "      <td>0</td>\n",
              "      <td>0</td>\n",
              "      <td>0</td>\n",
              "      <td>0</td>\n",
              "      <td>0</td>\n",
              "      <td>0</td>\n",
              "      <td>0</td>\n",
              "      <td>0</td>\n",
              "      <td>1</td>\n",
              "      <td>0</td>\n",
              "      <td>0</td>\n",
              "      <td>0</td>\n",
              "      <td>1</td>\n",
              "    </tr>\n",
              "    <tr>\n",
              "      <th>2</th>\n",
              "      <td>xyz</td>\n",
              "      <td>FS</td>\n",
              "      <td>SAN JOSE</td>\n",
              "      <td>2015622_080</td>\n",
              "      <td>1</td>\n",
              "      <td>1</td>\n",
              "      <td>0</td>\n",
              "      <td>0.833333</td>\n",
              "      <td>0.6</td>\n",
              "      <td>409</td>\n",
              "      <td>166</td>\n",
              "      <td>1</td>\n",
              "      <td>0</td>\n",
              "      <td>0</td>\n",
              "      <td>0</td>\n",
              "      <td>0</td>\n",
              "      <td>0</td>\n",
              "      <td>0</td>\n",
              "      <td>0</td>\n",
              "      <td>0</td>\n",
              "      <td>0</td>\n",
              "      <td>0</td>\n",
              "      <td>0</td>\n",
              "      <td>0</td>\n",
              "      <td>0</td>\n",
              "      <td>0</td>\n",
              "      <td>0</td>\n",
              "      <td>0</td>\n",
              "      <td>1</td>\n",
              "      <td>0</td>\n",
              "      <td>0</td>\n",
              "      <td>1</td>\n",
              "    </tr>\n",
              "    <tr>\n",
              "      <th>3</th>\n",
              "      <td>xyz</td>\n",
              "      <td>FS</td>\n",
              "      <td>SAN JOSE</td>\n",
              "      <td>2015622_080</td>\n",
              "      <td>2</td>\n",
              "      <td>0</td>\n",
              "      <td>0</td>\n",
              "      <td>0.791667</td>\n",
              "      <td>0.6</td>\n",
              "      <td>455</td>\n",
              "      <td>185</td>\n",
              "      <td>1</td>\n",
              "      <td>0</td>\n",
              "      <td>0</td>\n",
              "      <td>0</td>\n",
              "      <td>0</td>\n",
              "      <td>0</td>\n",
              "      <td>0</td>\n",
              "      <td>0</td>\n",
              "      <td>0</td>\n",
              "      <td>0</td>\n",
              "      <td>0</td>\n",
              "      <td>0</td>\n",
              "      <td>0</td>\n",
              "      <td>0</td>\n",
              "      <td>0</td>\n",
              "      <td>0</td>\n",
              "      <td>0</td>\n",
              "      <td>0</td>\n",
              "      <td>1</td>\n",
              "      <td>0</td>\n",
              "      <td>1</td>\n",
              "    </tr>\n",
              "    <tr>\n",
              "      <th>4</th>\n",
              "      <td>xyz</td>\n",
              "      <td>FS</td>\n",
              "      <td>SAN JOSE</td>\n",
              "      <td>2015622_080</td>\n",
              "      <td>2</td>\n",
              "      <td>0</td>\n",
              "      <td>0</td>\n",
              "      <td>0.791667</td>\n",
              "      <td>0.7</td>\n",
              "      <td>301</td>\n",
              "      <td>83</td>\n",
              "      <td>1</td>\n",
              "      <td>0</td>\n",
              "      <td>0</td>\n",
              "      <td>0</td>\n",
              "      <td>0</td>\n",
              "      <td>0</td>\n",
              "      <td>0</td>\n",
              "      <td>0</td>\n",
              "      <td>0</td>\n",
              "      <td>0</td>\n",
              "      <td>0</td>\n",
              "      <td>0</td>\n",
              "      <td>1</td>\n",
              "      <td>0</td>\n",
              "      <td>0</td>\n",
              "      <td>0</td>\n",
              "      <td>0</td>\n",
              "      <td>0</td>\n",
              "      <td>0</td>\n",
              "      <td>0</td>\n",
              "      <td>1</td>\n",
              "    </tr>\n",
              "    <tr>\n",
              "      <th>5</th>\n",
              "      <td>xyz</td>\n",
              "      <td>FS</td>\n",
              "      <td>SAN JOSE</td>\n",
              "      <td>2015622_080</td>\n",
              "      <td>2</td>\n",
              "      <td>0</td>\n",
              "      <td>0</td>\n",
              "      <td>0.750000</td>\n",
              "      <td>0.7</td>\n",
              "      <td>307</td>\n",
              "      <td>94</td>\n",
              "      <td>1</td>\n",
              "      <td>0</td>\n",
              "      <td>0</td>\n",
              "      <td>0</td>\n",
              "      <td>0</td>\n",
              "      <td>0</td>\n",
              "      <td>0</td>\n",
              "      <td>0</td>\n",
              "      <td>0</td>\n",
              "      <td>0</td>\n",
              "      <td>0</td>\n",
              "      <td>0</td>\n",
              "      <td>0</td>\n",
              "      <td>1</td>\n",
              "      <td>0</td>\n",
              "      <td>0</td>\n",
              "      <td>0</td>\n",
              "      <td>0</td>\n",
              "      <td>0</td>\n",
              "      <td>0</td>\n",
              "      <td>1</td>\n",
              "    </tr>\n",
              "    <tr>\n",
              "      <th>6</th>\n",
              "      <td>xyz</td>\n",
              "      <td>FS</td>\n",
              "      <td>SAN JOSE</td>\n",
              "      <td>2015622_080</td>\n",
              "      <td>2</td>\n",
              "      <td>0</td>\n",
              "      <td>0</td>\n",
              "      <td>0.791667</td>\n",
              "      <td>0.7</td>\n",
              "      <td>305</td>\n",
              "      <td>95</td>\n",
              "      <td>1</td>\n",
              "      <td>0</td>\n",
              "      <td>0</td>\n",
              "      <td>0</td>\n",
              "      <td>0</td>\n",
              "      <td>0</td>\n",
              "      <td>0</td>\n",
              "      <td>0</td>\n",
              "      <td>0</td>\n",
              "      <td>0</td>\n",
              "      <td>0</td>\n",
              "      <td>0</td>\n",
              "      <td>0</td>\n",
              "      <td>0</td>\n",
              "      <td>1</td>\n",
              "      <td>0</td>\n",
              "      <td>0</td>\n",
              "      <td>0</td>\n",
              "      <td>0</td>\n",
              "      <td>0</td>\n",
              "      <td>1</td>\n",
              "    </tr>\n",
              "    <tr>\n",
              "      <th>7</th>\n",
              "      <td>xyz</td>\n",
              "      <td>FS</td>\n",
              "      <td>SAN JOSE</td>\n",
              "      <td>2015622_080</td>\n",
              "      <td>2</td>\n",
              "      <td>0</td>\n",
              "      <td>0</td>\n",
              "      <td>0.791667</td>\n",
              "      <td>0.7</td>\n",
              "      <td>288</td>\n",
              "      <td>75</td>\n",
              "      <td>1</td>\n",
              "      <td>0</td>\n",
              "      <td>0</td>\n",
              "      <td>0</td>\n",
              "      <td>0</td>\n",
              "      <td>0</td>\n",
              "      <td>0</td>\n",
              "      <td>0</td>\n",
              "      <td>0</td>\n",
              "      <td>0</td>\n",
              "      <td>0</td>\n",
              "      <td>0</td>\n",
              "      <td>0</td>\n",
              "      <td>0</td>\n",
              "      <td>0</td>\n",
              "      <td>1</td>\n",
              "      <td>0</td>\n",
              "      <td>0</td>\n",
              "      <td>0</td>\n",
              "      <td>0</td>\n",
              "      <td>1</td>\n",
              "    </tr>\n",
              "    <tr>\n",
              "      <th>8</th>\n",
              "      <td>xyz</td>\n",
              "      <td>FS</td>\n",
              "      <td>SAN JOSE</td>\n",
              "      <td>2015622_080</td>\n",
              "      <td>2</td>\n",
              "      <td>0</td>\n",
              "      <td>0</td>\n",
              "      <td>0.833333</td>\n",
              "      <td>0.6</td>\n",
              "      <td>372</td>\n",
              "      <td>98</td>\n",
              "      <td>1</td>\n",
              "      <td>0</td>\n",
              "      <td>0</td>\n",
              "      <td>0</td>\n",
              "      <td>0</td>\n",
              "      <td>0</td>\n",
              "      <td>0</td>\n",
              "      <td>0</td>\n",
              "      <td>0</td>\n",
              "      <td>0</td>\n",
              "      <td>0</td>\n",
              "      <td>0</td>\n",
              "      <td>0</td>\n",
              "      <td>0</td>\n",
              "      <td>0</td>\n",
              "      <td>0</td>\n",
              "      <td>1</td>\n",
              "      <td>0</td>\n",
              "      <td>0</td>\n",
              "      <td>0</td>\n",
              "      <td>1</td>\n",
              "    </tr>\n",
              "    <tr>\n",
              "      <th>9</th>\n",
              "      <td>xyz</td>\n",
              "      <td>FS</td>\n",
              "      <td>SAN JOSE</td>\n",
              "      <td>2015622_080</td>\n",
              "      <td>2</td>\n",
              "      <td>0</td>\n",
              "      <td>0</td>\n",
              "      <td>0.791667</td>\n",
              "      <td>0.6</td>\n",
              "      <td>446</td>\n",
              "      <td>189</td>\n",
              "      <td>1</td>\n",
              "      <td>0</td>\n",
              "      <td>0</td>\n",
              "      <td>0</td>\n",
              "      <td>0</td>\n",
              "      <td>0</td>\n",
              "      <td>0</td>\n",
              "      <td>0</td>\n",
              "      <td>0</td>\n",
              "      <td>0</td>\n",
              "      <td>0</td>\n",
              "      <td>0</td>\n",
              "      <td>0</td>\n",
              "      <td>0</td>\n",
              "      <td>0</td>\n",
              "      <td>0</td>\n",
              "      <td>0</td>\n",
              "      <td>1</td>\n",
              "      <td>0</td>\n",
              "      <td>0</td>\n",
              "      <td>1</td>\n",
              "    </tr>\n",
              "  </tbody>\n",
              "</table>\n",
              "</div>"
            ],
            "text/plain": [
              "  id_tienda tipo_tienda provincia  ... dia_de_la_semana_6  volumen_0  volumen_1\n",
              "0       xyz          FS  SAN JOSE  ...                  0          0          1\n",
              "1       xyz          FS  SAN JOSE  ...                  0          0          1\n",
              "2       xyz          FS  SAN JOSE  ...                  0          0          1\n",
              "3       xyz          FS  SAN JOSE  ...                  1          0          1\n",
              "4       xyz          FS  SAN JOSE  ...                  0          0          1\n",
              "5       xyz          FS  SAN JOSE  ...                  0          0          1\n",
              "6       xyz          FS  SAN JOSE  ...                  0          0          1\n",
              "7       xyz          FS  SAN JOSE  ...                  0          0          1\n",
              "8       xyz          FS  SAN JOSE  ...                  0          0          1\n",
              "9       xyz          FS  SAN JOSE  ...                  0          0          1\n",
              "\n",
              "[10 rows x 32 columns]"
            ]
          },
          "metadata": {
            "tags": []
          },
          "execution_count": 10
        }
      ]
    },
    {
      "cell_type": "markdown",
      "metadata": {
        "id": "vWlFdnKIFLLF",
        "colab_type": "text"
      },
      "source": [
        "## Borrar NaNs"
      ]
    },
    {
      "cell_type": "code",
      "metadata": {
        "id": "sKL3etfhFLLG",
        "colab_type": "code",
        "outputId": "b8c88f55-4660-4285-c030-f2c5a35331ba",
        "colab": {
          "base_uri": "https://localhost:8080/",
          "height": 66
        }
      },
      "source": [
        "print (\"Shape antes: \", df2.shape)\n",
        "print (\"Hay Nans? \", df2.isnull().values.any())   #preguntar si hay NaN\n",
        "# remove NaNs\n",
        "df2 = df2.dropna()\n",
        "print (\"Shape después: \", df2.shape)"
      ],
      "execution_count": 11,
      "outputs": [
        {
          "output_type": "stream",
          "text": [
            "Shape antes:  (3635, 32)\n",
            "Hay Nans?  False\n",
            "Shape después:  (3635, 32)\n"
          ],
          "name": "stdout"
        }
      ]
    },
    {
      "cell_type": "markdown",
      "metadata": {
        "id": "jvbC5zKgveaZ",
        "colab_type": "text"
      },
      "source": [
        "## Elección de columnas (features)\n",
        "\n",
        "Para este corte se elimina todas las columnas que brindan info específica de tiendas pues solamente se analizará una tienda.\n",
        "\n",
        "La columna semana del año y mes del año no brindan mayor información en conjunto, es posible que sean redundantes por lo que probaremos removiendo una de ellas."
      ]
    },
    {
      "cell_type": "code",
      "metadata": {
        "id": "Z1-tVz3bFLKk",
        "colab_type": "code",
        "outputId": "c848fdc0-66be-49ef-ffc4-853c76e688bd",
        "colab": {
          "base_uri": "https://localhost:8080/",
          "height": 227
        }
      },
      "source": [
        "cols_to_drop = ['id_tienda', 'tipo_tienda', 'provincia', 'supervisor', 'semana_del_anio', 'clientes_totales', 'clientes_vip']\n",
        "\n",
        "processed = df2.drop(cols_to_drop, 1)\n",
        "print(\"Tamaño post-procesamiento:\", processed.shape)\n",
        "processed.head(5)"
      ],
      "execution_count": 12,
      "outputs": [
        {
          "output_type": "stream",
          "text": [
            "Tamaño post-procesamiento: (3635, 25)\n"
          ],
          "name": "stdout"
        },
        {
          "output_type": "execute_result",
          "data": {
            "text/html": [
              "<div>\n",
              "<style scoped>\n",
              "    .dataframe tbody tr th:only-of-type {\n",
              "        vertical-align: middle;\n",
              "    }\n",
              "\n",
              "    .dataframe tbody tr th {\n",
              "        vertical-align: top;\n",
              "    }\n",
              "\n",
              "    .dataframe thead th {\n",
              "        text-align: right;\n",
              "    }\n",
              "</style>\n",
              "<table border=\"1\" class=\"dataframe\">\n",
              "  <thead>\n",
              "    <tr style=\"text-align: right;\">\n",
              "      <th></th>\n",
              "      <th>es_quincena</th>\n",
              "      <th>es_feriado</th>\n",
              "      <th>horas_operacion</th>\n",
              "      <th>pos_en_uso</th>\n",
              "      <th>mes_del_anio_1</th>\n",
              "      <th>mes_del_anio_2</th>\n",
              "      <th>mes_del_anio_3</th>\n",
              "      <th>mes_del_anio_4</th>\n",
              "      <th>mes_del_anio_5</th>\n",
              "      <th>mes_del_anio_6</th>\n",
              "      <th>mes_del_anio_7</th>\n",
              "      <th>mes_del_anio_8</th>\n",
              "      <th>mes_del_anio_9</th>\n",
              "      <th>mes_del_anio_10</th>\n",
              "      <th>mes_del_anio_11</th>\n",
              "      <th>mes_del_anio_12</th>\n",
              "      <th>dia_de_la_semana_0</th>\n",
              "      <th>dia_de_la_semana_1</th>\n",
              "      <th>dia_de_la_semana_2</th>\n",
              "      <th>dia_de_la_semana_3</th>\n",
              "      <th>dia_de_la_semana_4</th>\n",
              "      <th>dia_de_la_semana_5</th>\n",
              "      <th>dia_de_la_semana_6</th>\n",
              "      <th>volumen_0</th>\n",
              "      <th>volumen_1</th>\n",
              "    </tr>\n",
              "  </thead>\n",
              "  <tbody>\n",
              "    <tr>\n",
              "      <th>0</th>\n",
              "      <td>1</td>\n",
              "      <td>1</td>\n",
              "      <td>0.708333</td>\n",
              "      <td>0.6</td>\n",
              "      <td>1</td>\n",
              "      <td>0</td>\n",
              "      <td>0</td>\n",
              "      <td>0</td>\n",
              "      <td>0</td>\n",
              "      <td>0</td>\n",
              "      <td>0</td>\n",
              "      <td>0</td>\n",
              "      <td>0</td>\n",
              "      <td>0</td>\n",
              "      <td>0</td>\n",
              "      <td>0</td>\n",
              "      <td>0</td>\n",
              "      <td>0</td>\n",
              "      <td>0</td>\n",
              "      <td>1</td>\n",
              "      <td>0</td>\n",
              "      <td>0</td>\n",
              "      <td>0</td>\n",
              "      <td>0</td>\n",
              "      <td>1</td>\n",
              "    </tr>\n",
              "    <tr>\n",
              "      <th>1</th>\n",
              "      <td>1</td>\n",
              "      <td>0</td>\n",
              "      <td>0.791667</td>\n",
              "      <td>0.7</td>\n",
              "      <td>1</td>\n",
              "      <td>0</td>\n",
              "      <td>0</td>\n",
              "      <td>0</td>\n",
              "      <td>0</td>\n",
              "      <td>0</td>\n",
              "      <td>0</td>\n",
              "      <td>0</td>\n",
              "      <td>0</td>\n",
              "      <td>0</td>\n",
              "      <td>0</td>\n",
              "      <td>0</td>\n",
              "      <td>0</td>\n",
              "      <td>0</td>\n",
              "      <td>0</td>\n",
              "      <td>0</td>\n",
              "      <td>1</td>\n",
              "      <td>0</td>\n",
              "      <td>0</td>\n",
              "      <td>0</td>\n",
              "      <td>1</td>\n",
              "    </tr>\n",
              "    <tr>\n",
              "      <th>2</th>\n",
              "      <td>1</td>\n",
              "      <td>0</td>\n",
              "      <td>0.833333</td>\n",
              "      <td>0.6</td>\n",
              "      <td>1</td>\n",
              "      <td>0</td>\n",
              "      <td>0</td>\n",
              "      <td>0</td>\n",
              "      <td>0</td>\n",
              "      <td>0</td>\n",
              "      <td>0</td>\n",
              "      <td>0</td>\n",
              "      <td>0</td>\n",
              "      <td>0</td>\n",
              "      <td>0</td>\n",
              "      <td>0</td>\n",
              "      <td>0</td>\n",
              "      <td>0</td>\n",
              "      <td>0</td>\n",
              "      <td>0</td>\n",
              "      <td>0</td>\n",
              "      <td>1</td>\n",
              "      <td>0</td>\n",
              "      <td>0</td>\n",
              "      <td>1</td>\n",
              "    </tr>\n",
              "    <tr>\n",
              "      <th>3</th>\n",
              "      <td>0</td>\n",
              "      <td>0</td>\n",
              "      <td>0.791667</td>\n",
              "      <td>0.6</td>\n",
              "      <td>1</td>\n",
              "      <td>0</td>\n",
              "      <td>0</td>\n",
              "      <td>0</td>\n",
              "      <td>0</td>\n",
              "      <td>0</td>\n",
              "      <td>0</td>\n",
              "      <td>0</td>\n",
              "      <td>0</td>\n",
              "      <td>0</td>\n",
              "      <td>0</td>\n",
              "      <td>0</td>\n",
              "      <td>0</td>\n",
              "      <td>0</td>\n",
              "      <td>0</td>\n",
              "      <td>0</td>\n",
              "      <td>0</td>\n",
              "      <td>0</td>\n",
              "      <td>1</td>\n",
              "      <td>0</td>\n",
              "      <td>1</td>\n",
              "    </tr>\n",
              "    <tr>\n",
              "      <th>4</th>\n",
              "      <td>0</td>\n",
              "      <td>0</td>\n",
              "      <td>0.791667</td>\n",
              "      <td>0.7</td>\n",
              "      <td>1</td>\n",
              "      <td>0</td>\n",
              "      <td>0</td>\n",
              "      <td>0</td>\n",
              "      <td>0</td>\n",
              "      <td>0</td>\n",
              "      <td>0</td>\n",
              "      <td>0</td>\n",
              "      <td>0</td>\n",
              "      <td>0</td>\n",
              "      <td>0</td>\n",
              "      <td>0</td>\n",
              "      <td>1</td>\n",
              "      <td>0</td>\n",
              "      <td>0</td>\n",
              "      <td>0</td>\n",
              "      <td>0</td>\n",
              "      <td>0</td>\n",
              "      <td>0</td>\n",
              "      <td>0</td>\n",
              "      <td>1</td>\n",
              "    </tr>\n",
              "  </tbody>\n",
              "</table>\n",
              "</div>"
            ],
            "text/plain": [
              "   es_quincena es_feriado  ...  volumen_0  volumen_1\n",
              "0            1          1  ...          0          1\n",
              "1            1          0  ...          0          1\n",
              "2            1          0  ...          0          1\n",
              "3            0          0  ...          0          1\n",
              "4            0          0  ...          0          1\n",
              "\n",
              "[5 rows x 25 columns]"
            ]
          },
          "metadata": {
            "tags": []
          },
          "execution_count": 12
        }
      ]
    },
    {
      "cell_type": "markdown",
      "metadata": {
        "id": "GvNWa29hFLLM",
        "colab_type": "text"
      },
      "source": [
        "# Inicia el trabajo con los modelos elegidos, que serán:\n",
        "   **DecisionTree**\n",
        "\n",
        "   **RandomForest**\n",
        "   \n",
        "   **Redes Neuronales ANN**"
      ]
    },
    {
      "cell_type": "code",
      "metadata": {
        "id": "na0sN9BctRCh",
        "colab_type": "code",
        "colab": {}
      },
      "source": [
        "# Splitting the data input into X, and the labels y \n",
        "X = np.array(processed)[:,0:26]\n",
        "X = X.astype('float32')\n",
        "y = keras.utils.to_categorical(df1[\"volumen\"],3)"
      ],
      "execution_count": 0,
      "outputs": []
    },
    {
      "cell_type": "markdown",
      "metadata": {
        "id": "ePdZrcnUFLLO",
        "colab_type": "text"
      },
      "source": [
        "Determinar cuáles columnas son features y cuáles labels.\n",
        "\n",
        "En este caso las clases están dadas por \"volumen\" que indica si es un día alto volumen (cantidad de clientes), medio o bajo"
      ]
    },
    {
      "cell_type": "code",
      "metadata": {
        "id": "adtiFLHUFLLO",
        "colab_type": "code",
        "outputId": "f198bfab-fa47-4d8d-8ccd-5090076f6738",
        "colab": {
          "base_uri": "https://localhost:8080/",
          "height": 537
        }
      },
      "source": [
        "\n",
        "# Splitting the data input into X, and the labels y \n",
        "features = np.array(processed)[:,0:23]\n",
        "features = features.astype('float32')\n",
        "labels = keras.utils.to_categorical(df1[\"volumen\"],3)\n",
        "\n",
        "print(\"Shape of features:\", features.shape)\n",
        "print(\"\\nShape of labels:\", labels.shape)\n",
        "print(\"\\nFirst 5 rows of features\")\n",
        "print(features[:5])\n",
        "print(\"\\nFirst 5 rows of labels\")\n",
        "print(labels[:5])\n",
        "\n"
      ],
      "execution_count": 14,
      "outputs": [
        {
          "output_type": "stream",
          "text": [
            "Shape of features: (3635, 23)\n",
            "\n",
            "Shape of labels: (3635, 3)\n",
            "\n",
            "First 5 rows of features\n",
            "[[1.        1.        0.7083333 0.6       1.        0.        0.\n",
            "  0.        0.        0.        0.        0.        0.        0.\n",
            "  0.        0.        0.        0.        0.        1.        0.\n",
            "  0.        0.       ]\n",
            " [1.        0.        0.7916667 0.7       1.        0.        0.\n",
            "  0.        0.        0.        0.        0.        0.        0.\n",
            "  0.        0.        0.        0.        0.        0.        1.\n",
            "  0.        0.       ]\n",
            " [1.        0.        0.8333333 0.6       1.        0.        0.\n",
            "  0.        0.        0.        0.        0.        0.        0.\n",
            "  0.        0.        0.        0.        0.        0.        0.\n",
            "  1.        0.       ]\n",
            " [0.        0.        0.7916667 0.6       1.        0.        0.\n",
            "  0.        0.        0.        0.        0.        0.        0.\n",
            "  0.        0.        0.        0.        0.        0.        0.\n",
            "  0.        1.       ]\n",
            " [0.        0.        0.7916667 0.7       1.        0.        0.\n",
            "  0.        0.        0.        0.        0.        0.        0.\n",
            "  0.        0.        1.        0.        0.        0.        0.\n",
            "  0.        0.       ]]\n",
            "\n",
            "First 5 rows of labels\n",
            "[[0. 1. 0.]\n",
            " [0. 1. 0.]\n",
            " [0. 1. 0.]\n",
            " [0. 1. 0.]\n",
            " [0. 1. 0.]]\n"
          ],
          "name": "stdout"
        }
      ]
    },
    {
      "cell_type": "markdown",
      "metadata": {
        "id": "Scck3biGFLLS",
        "colab_type": "text"
      },
      "source": [
        "Separa set de entrenamiento y set de pruebas\n",
        "Con una proporción 70% - 30%"
      ]
    },
    {
      "cell_type": "code",
      "metadata": {
        "id": "9QeXNVU0FLLT",
        "colab_type": "code",
        "outputId": "84e57935-6668-4fd9-a053-f55ceec86ef7",
        "colab": {
          "base_uri": "https://localhost:8080/",
          "height": 98
        }
      },
      "source": [
        "X_train,X_test, y_train, y_test = train_test_split(features, labels, test_size=0.30, random_state = 13) \n",
        "\n",
        "print (\"shape del dataset completo: \", processed.shape)\n",
        "print (\"\\nshape del set de entrenamiento: \", X_train.shape)\n",
        "print (\"\\nshape del set de pruebas: \", y_test.shape)"
      ],
      "execution_count": 28,
      "outputs": [
        {
          "output_type": "stream",
          "text": [
            "shape del dataset completo:  (3635, 25)\n",
            "\n",
            "shape del set de entrenamiento:  (2544, 23)\n",
            "\n",
            "shape del set de pruebas:  (1091, 3)\n"
          ],
          "name": "stdout"
        }
      ]
    },
    {
      "cell_type": "markdown",
      "metadata": {
        "id": "Ext_dZyMFLLZ",
        "colab_type": "text"
      },
      "source": [
        "## Modelo clasificador usando DecisionTree"
      ]
    },
    {
      "cell_type": "code",
      "metadata": {
        "id": "bBlKE9gyFLLa",
        "colab_type": "code",
        "colab": {
          "base_uri": "https://localhost:8080/",
          "height": 147
        },
        "outputId": "f97fa62d-99be-47e5-ce4c-aafef987fafd"
      },
      "source": [
        "DecisionTreeModel = DecisionTreeClassifier(max_depth=5,min_samples_leaf=3)\n",
        "\n",
        "#entrenamiento\n",
        "print(DecisionTreeModel.fit(X_train, y_train))\n",
        "\n",
        "#prediccion (usar datos de test)\n",
        "y_predict = DecisionTreeModel.predict(X_test)\n",
        "\n",
        "print(\"\\nAccuracy para DecisionTree: {:.4f}\".format(accuracy_score(y_test, y_predict)))"
      ],
      "execution_count": 16,
      "outputs": [
        {
          "output_type": "stream",
          "text": [
            "DecisionTreeClassifier(class_weight=None, criterion='gini', max_depth=5,\n",
            "                       max_features=None, max_leaf_nodes=None,\n",
            "                       min_impurity_decrease=0.0, min_impurity_split=None,\n",
            "                       min_samples_leaf=3, min_samples_split=2,\n",
            "                       min_weight_fraction_leaf=0.0, presort=False,\n",
            "                       random_state=None, splitter='best')\n",
            "\n",
            "Accuracy para DecisionTree: 0.8827\n"
          ],
          "name": "stdout"
        }
      ]
    },
    {
      "cell_type": "markdown",
      "metadata": {
        "id": "vBjoqbX1FLLe",
        "colab_type": "text"
      },
      "source": [
        "## Modelo clasificador usando RandomForest"
      ]
    },
    {
      "cell_type": "code",
      "metadata": {
        "scrolled": true,
        "id": "IaWT_NPrFLLe",
        "colab_type": "code",
        "colab": {
          "base_uri": "https://localhost:8080/",
          "height": 163
        },
        "outputId": "fd630a98-c481-4c37-e55d-7cf14dbd34a6"
      },
      "source": [
        "RandomForestModel = RandomForestClassifier(min_samples_leaf=3, min_samples_split=12, n_estimators=300, max_depth = 5, random_state = 10)\n",
        "\n",
        "#entrenamiento\n",
        "print(RandomForestModel.fit(X_train, y_train))\n",
        "\n",
        "#prediccion (usar datos de test)\n",
        "y_predict = RandomForestModel.predict(X_test)\n",
        "\n",
        "print(\"\\nAccuracy para Random Forest:     {:.4f}\".format(accuracy_score(y_test, y_predict)))"
      ],
      "execution_count": 27,
      "outputs": [
        {
          "output_type": "stream",
          "text": [
            "RandomForestClassifier(bootstrap=True, class_weight=None, criterion='gini',\n",
            "                       max_depth=5, max_features='auto', max_leaf_nodes=None,\n",
            "                       min_impurity_decrease=0.0, min_impurity_split=None,\n",
            "                       min_samples_leaf=3, min_samples_split=12,\n",
            "                       min_weight_fraction_leaf=0.0, n_estimators=300,\n",
            "                       n_jobs=None, oob_score=False, random_state=10, verbose=0,\n",
            "                       warm_start=False)\n",
            "\n",
            "Accuracy para Random Forest:     0.8892\n"
          ],
          "name": "stdout"
        }
      ]
    },
    {
      "cell_type": "markdown",
      "metadata": {
        "id": "Jyxd0jGYR8_3",
        "colab_type": "text"
      },
      "source": [
        "## Modelo clasificador usando ANN"
      ]
    },
    {
      "cell_type": "code",
      "metadata": {
        "id": "hgUdw8LaFLLo",
        "colab_type": "code",
        "colab": {}
      },
      "source": [
        "#FALTA..."
      ],
      "execution_count": 0,
      "outputs": []
    }
  ]
}